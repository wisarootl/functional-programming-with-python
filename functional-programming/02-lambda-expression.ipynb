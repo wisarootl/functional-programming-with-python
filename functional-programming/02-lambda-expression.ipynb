{
 "cells": [
  {
   "cell_type": "markdown",
   "metadata": {},
   "source": [
    "# Lambda Expression or Nameless Functions"
   ]
  },
  {
   "cell_type": "markdown",
   "metadata": {},
   "source": [
    "# Difference Between Statement and Expression"
   ]
  },
  {
   "cell_type": "markdown",
   "metadata": {},
   "source": [
    "## Statements\n",
    "\n",
    "- Assignment\n",
    "\n",
    "Procedural programming relies heavily on assignments, which are statements."
   ]
  },
  {
   "cell_type": "code",
   "execution_count": 1,
   "metadata": {},
   "outputs": [],
   "source": [
    "x = 0\n",
    "x += 1"
   ]
  },
  {
   "cell_type": "markdown",
   "metadata": {},
   "source": [
    "- Conditional branching (if, elif, else)\n",
    "\n",
    "In procedural programming, branching is often implemented with `if` statements, and the associated `elif` and `else` statements."
   ]
  },
  {
   "cell_type": "code",
   "execution_count": 2,
   "metadata": {},
   "outputs": [
    {
     "name": "stdout",
     "output_type": "stream",
     "text": [
      "x == 1\n"
     ]
    }
   ],
   "source": [
    "if x == 1:\n",
    "    print('x == 1')\n",
    "elif x == 2:\n",
    "    print('x == 2')    \n",
    "else:\n",
    "    print('x not in [1, 2]')"
   ]
  },
  {
   "cell_type": "markdown",
   "metadata": {},
   "source": [
    "- Loops\n",
    "\n",
    "In procedural programming, loops are generally implemented with `for` or `while` statements."
   ]
  },
  {
   "cell_type": "code",
   "execution_count": 3,
   "metadata": {},
   "outputs": [
    {
     "name": "stdout",
     "output_type": "stream",
     "text": [
      "0\n",
      "2\n"
     ]
    }
   ],
   "source": [
    "for x in range(2):\n",
    "    print(x*2)\n",
    "    \n",
    "while True:\n",
    "    break"
   ]
  },
  {
   "cell_type": "markdown",
   "metadata": {},
   "source": [
    "- Function, generator, and class definitions\n",
    "\n",
    "In procedural programming, functions and classes are defined using `def` and `class` statements. `return` and `yield` are also statements."
   ]
  },
  {
   "cell_type": "code",
   "execution_count": 4,
   "metadata": {},
   "outputs": [],
   "source": [
    "class MyClass:\n",
    "    pass\n",
    "\n",
    "def my_function(x):\n",
    "    return x*2\n",
    "\n",
    "def my_generator(x):\n",
    "    yield x*2"
   ]
  },
  {
   "cell_type": "markdown",
   "metadata": {},
   "source": [
    "- Other statements\n",
    "\n",
    "Python knows various other statements. You've probably seen them all."
   ]
  },
  {
   "cell_type": "code",
   "execution_count": 5,
   "metadata": {},
   "outputs": [],
   "source": [
    "import os\n",
    "\n",
    "assert True\n",
    "\n",
    "pass\n",
    "\n",
    "del x\n",
    "\n",
    "try:\n",
    "    raise Exception()\n",
    "except:\n",
    "    pass\n",
    "\n",
    "with open('README.md') as fd:\n",
    "    pass\n"
   ]
  },
  {
   "cell_type": "markdown",
   "metadata": {},
   "source": [
    "## Expressions\n",
    "\n",
    "An expression is something that gives a value, and can be printed out. We will meet many expressions in this course! Here is a selection."
   ]
  },
  {
   "cell_type": "code",
   "execution_count": 6,
   "metadata": {},
   "outputs": [
    {
     "name": "stdout",
     "output_type": "stream",
     "text": [
      "20\n",
      "a\n",
      "10\n",
      "None\n",
      "[0, 2]\n"
     ]
    }
   ],
   "source": [
    "# Values are expressions\n",
    "print(10*2)\n",
    "print('a')\n",
    "# Function calls are expressions\n",
    "print(print(10))\n",
    "# List comprehensions are expressions\n",
    "print([x*2 for x in range(2)])"
   ]
  },
  {
   "cell_type": "markdown",
   "metadata": {},
   "source": [
    "# Diving into Lambda Expressions"
   ]
  },
  {
   "cell_type": "markdown",
   "metadata": {},
   "source": [
    "- A simple procedural function\n",
    "\n",
    "In procedural programming, functions are defined with `def` statements."
   ]
  },
  {
   "cell_type": "code",
   "execution_count": 7,
   "metadata": {},
   "outputs": [
    {
     "data": {
      "text/plain": [
       "1.4142135623730951"
      ]
     },
     "execution_count": 7,
     "metadata": {},
     "output_type": "execute_result"
    }
   ],
   "source": [
    "from math import sqrt\n",
    "\n",
    "\n",
    "def p_pythagoras(x, y):\n",
    "    \n",
    "    return sqrt(x**2 + y**2)\n",
    "\n",
    "p_pythagoras(1, 1)"
   ]
  },
  {
   "cell_type": "markdown",
   "metadata": {},
   "source": [
    "- A simple `lambda` function\n",
    "\n",
    "In functional programming, we can use `lambda` expressions for the same purposes."
   ]
  },
  {
   "cell_type": "code",
   "execution_count": 8,
   "metadata": {},
   "outputs": [
    {
     "data": {
      "text/plain": [
       "1.4142135623730951"
      ]
     },
     "execution_count": 8,
     "metadata": {},
     "output_type": "execute_result"
    }
   ],
   "source": [
    "l_pythagoras = lambda x, y: sqrt(x**2 + y**2)\n",
    "l_pythagoras(1, 1)"
   ]
  },
  {
   "cell_type": "markdown",
   "metadata": {},
   "source": [
    "- Recursion requires a name\n",
    "\n",
    "Functions created with `lambda` expressions can be nameless. But for a function to call itself, it needs a name. In such cases, a `def` statement may be more intuitive."
   ]
  },
  {
   "cell_type": "code",
   "execution_count": 9,
   "metadata": {},
   "outputs": [
    {
     "data": {
      "text/plain": [
       "6"
      ]
     },
     "execution_count": 9,
     "metadata": {},
     "output_type": "execute_result"
    }
   ],
   "source": [
    "def f_factorial(n):\n",
    "    \n",
    "    return 1 if n == 0 else n*f_factorial(n-1)\n",
    "\n",
    "\n",
    "f_factorial(3)"
   ]
  },
  {
   "cell_type": "code",
   "execution_count": 10,
   "metadata": {},
   "outputs": [
    {
     "data": {
      "text/plain": [
       "6"
      ]
     },
     "execution_count": 10,
     "metadata": {},
     "output_type": "execute_result"
    }
   ],
   "source": [
    "l_factorial = lambda n: 1 if n == 0 else n*l_factorial(n-1)\n",
    "l_factorial(3)"
   ]
  },
  {
   "cell_type": "markdown",
   "metadata": {},
   "source": [
    "- When lambda's are convenient\n",
    "\n",
    "`lambda` expressions are very convenient if you quickly need a short function, for example to pass as an argument to `map()` or `filter()`."
   ]
  },
  {
   "cell_type": "code",
   "execution_count": 11,
   "metadata": {},
   "outputs": [
    {
     "data": {
      "text/plain": [
       "[0, 2, 4, 6, 8]"
      ]
     },
     "execution_count": 11,
     "metadata": {},
     "output_type": "execute_result"
    }
   ],
   "source": [
    "l = [0, 1, 2, 3, 4]\n",
    "list(map(lambda x: x*2, l))"
   ]
  },
  {
   "cell_type": "markdown",
   "metadata": {},
   "source": [
    "# Understanding \"and\" & \"or\""
   ]
  },
  {
   "cell_type": "markdown",
   "metadata": {},
   "source": [
    "- How do `and` and `or` really work?\n",
    "\n",
    "Let's consider these two custom implementations of `and` and `or`."
   ]
  },
  {
   "cell_type": "code",
   "execution_count": 12,
   "metadata": {},
   "outputs": [],
   "source": [
    "def my_and(*values):\n",
    "    \n",
    "    \"\"\"An implementation of `and`, which accepts a list of arguments\n",
    "    and returns the first argument that is False or the last argument\n",
    "    if all arguments are True.\"\"\"\n",
    "    \n",
    "    for value in values:\n",
    "        if not value:\n",
    "            return value\n",
    "    return value\n",
    "\n",
    "\n",
    "def my_or(*values):\n",
    "    \n",
    "    \"\"\"And implementation of `or`, which accepts a list of arguments\n",
    "    and returns the first argument that is True or the last argument\n",
    "    if all arguments are False.\"\"\"\n",
    "    \n",
    "    for value in values:\n",
    "        if value:\n",
    "            return value\n",
    "    return value"
   ]
  },
  {
   "cell_type": "markdown",
   "metadata": {},
   "source": [
    "- Unit testing\n",
    "\n",
    "Let's try a few testcases to see if `my_and()` and `my_or()` are really equivalent to `and` and `or`."
   ]
  },
  {
   "cell_type": "code",
   "execution_count": 14,
   "metadata": {},
   "outputs": [
    {
     "name": "stdout",
     "output_type": "stream",
     "text": [
      "a\n",
      "a\n"
     ]
    },
    {
     "data": {
      "text/plain": [
       "True"
      ]
     },
     "execution_count": 14,
     "metadata": {},
     "output_type": "execute_result"
    }
   ],
   "source": [
    "print('' or 'a' or '')\n",
    "print(my_or('', 'a', ''))\n",
    "my_or('', 'a', '') == ('' or 'a' or '')"
   ]
  },
  {
   "cell_type": "markdown",
   "metadata": {},
   "source": [
    "- Flow control\n",
    "\n",
    "But `and` and `or` have another important property, which our custom implementations do not have: Not all arguments are even evaluated! This makes it possible to use `and` and `or` as flow control tools."
   ]
  },
  {
   "cell_type": "code",
   "execution_count": 15,
   "metadata": {},
   "outputs": [
    {
     "name": "stdout",
     "output_type": "stream",
     "text": [
      "x\n"
     ]
    },
    {
     "data": {
      "text/plain": [
       "True"
      ]
     },
     "execution_count": 15,
     "metadata": {},
     "output_type": "execute_result"
    }
   ],
   "source": [
    "# We limit ourselves to vertebrates, and even then this is not biologically accurate!\n",
    "ANIMALS = 'mammal', 'reptile', 'amphibian', 'bird'\n",
    "EGG_LAYING_ANIMALS = 'reptile', 'amphibian', 'bird'\n",
    "\n",
    "is_animal = lambda animal: animal in ANIMALS\n",
    "animal_lays_eggs = lambda animal: print('x') or animal in EGG_LAYING_ANIMALS\n",
    "\n",
    "lays_eggs = lambda thing: is_animal(thing) and animal_lays_eggs(thing)\n",
    "lays_eggs('reptile')"
   ]
  },
  {
   "cell_type": "code",
   "execution_count": 16,
   "metadata": {},
   "outputs": [
    {
     "data": {
      "text/plain": [
       "False"
      ]
     },
     "execution_count": 16,
     "metadata": {},
     "output_type": "execute_result"
    }
   ],
   "source": [
    "lays_eggs('car')"
   ]
  },
  {
   "cell_type": "markdown",
   "metadata": {},
   "source": [
    "# inline \"if\" expression"
   ]
  },
  {
   "cell_type": "markdown",
   "metadata": {},
   "source": [
    "- Conditional branching: The procedural way\n",
    "\n",
    "Consider a simple, procedural implementation of a function that translates grade points (8) to grade descriptions ('good')."
   ]
  },
  {
   "cell_type": "code",
   "execution_count": 17,
   "metadata": {},
   "outputs": [
    {
     "data": {
      "text/plain": [
       "'good'"
      ]
     },
     "execution_count": 17,
     "metadata": {},
     "output_type": "execute_result"
    }
   ],
   "source": [
    "def p_grade_description(gp):\n",
    "    \n",
    "    \"\"\"Dutch grades range between 0 and 10\"\"\"\n",
    "    \n",
    "    if gp > 7:\n",
    "        return 'good'\n",
    "    if gp > 5:\n",
    "        return 'sufficient'\n",
    "    return 'insufficient'\n",
    "\n",
    "p_grade_description(8)"
   ]
  },
  {
   "cell_type": "markdown",
   "metadata": {},
   "source": [
    "- Conditional branching: The functional way\n",
    "\n",
    "A functional implementation of `p_grade_description()` makese use of the `if` expression."
   ]
  },
  {
   "cell_type": "code",
   "execution_count": 18,
   "metadata": {},
   "outputs": [
    {
     "data": {
      "text/plain": [
       "'sufficient'"
      ]
     },
     "execution_count": 18,
     "metadata": {},
     "output_type": "execute_result"
    }
   ],
   "source": [
    "(lambda gp: 'good' if gp > 7 else 'sufficient' if gp > 5 else 'insufficient')(6)"
   ]
  },
  {
   "cell_type": "markdown",
   "metadata": {},
   "source": [
    "- Concise, readable code\n",
    "\n",
    "You can use `if` expressions in procedural code as well to implement concise, readable conditions."
   ]
  },
  {
   "cell_type": "code",
   "execution_count": 19,
   "metadata": {},
   "outputs": [
    {
     "name": "stdout",
     "output_type": "stream",
     "text": [
      "female\n"
     ]
    }
   ],
   "source": [
    "gender_code = 1\n",
    "gender = 'female' if gender_code else 'male'\n",
    "print(gender)"
   ]
  }
 ],
 "metadata": {
  "kernelspec": {
   "display_name": "Python 3.10.5 64-bit (windows store)",
   "language": "python",
   "name": "python3"
  },
  "language_info": {
   "codemirror_mode": {
    "name": "ipython",
    "version": 3
   },
   "file_extension": ".py",
   "mimetype": "text/x-python",
   "name": "python",
   "nbconvert_exporter": "python",
   "pygments_lexer": "ipython3",
   "version": "3.10.5"
  },
  "orig_nbformat": 4,
  "vscode": {
   "interpreter": {
    "hash": "3822405be9f5fb329f7270cbdcf73e762c62b3f383c5e71390a1a4648678c1cb"
   }
  }
 },
 "nbformat": 4,
 "nbformat_minor": 2
}
