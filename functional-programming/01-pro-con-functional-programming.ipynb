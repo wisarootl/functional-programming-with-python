{
 "cells": [
  {
   "cell_type": "markdown",
   "metadata": {},
   "source": [
    "# Functional Programming"
   ]
  },
  {
   "cell_type": "markdown",
   "metadata": {},
   "source": [
    "## A procedural approach!\n",
    "\n",
    "- Functions generally consist of multiple statements\n",
    "  - Assignments\n",
    "  - If-statements\n",
    "  - While loops\n",
    "  - Etc."
   ]
  },
  {
   "cell_type": "code",
   "execution_count": 1,
   "metadata": {},
   "outputs": [
    {
     "name": "stdout",
     "output_type": "stream",
     "text": [
      "Welcome to the barely functional calculator!\n",
      "The result is: 2\n"
     ]
    }
   ],
   "source": [
    "OPERATORS = '+', '-', '*', '/'\n",
    "\n",
    "\n",
    "def p_main():\n",
    "    \n",
    "    \"\"\"The main flow.\"\"\"\n",
    "\n",
    "    print('Welcome to the barely functional calculator!')\n",
    "    number1 = p_get_number()\n",
    "    operator = p_get_operator()\n",
    "    number2 = p_get_number()\n",
    "    result = p_calculate(number1, operator, number2)\n",
    "    print('The result is: %s' % result)\n",
    "\n",
    "\n",
    "def p_get_number():\n",
    "    \n",
    "    \"\"\"Reads an integer from the standard input and returns it.\n",
    "    If a non-integer value is entered, a warning is printed,\n",
    "    and a new value is read.\"\"\"\n",
    "            \n",
    "    while True:\n",
    "        s = input('Enter an integer: ')\n",
    "        try:\n",
    "            return int(s)\n",
    "        except ValueError:\n",
    "            print('That is not an integer!')\n",
    "            \n",
    "\n",
    "def p_get_operator():\n",
    "    \n",
    "    \"\"\"Reads an operator from the standard input and returns it.\n",
    "    Valid operators are: +, -, *, and /. If an invalid operator\n",
    "    is entered, a warning is printed, and a new value is read.\"\"\"    \n",
    "    \n",
    "    while True:\n",
    "        s = input('Enter an operator (+, -, *, or /): ')\n",
    "        if s in OPERATORS:\n",
    "            return s\n",
    "        print('That is not an operator!')\n",
    "            \n",
    "            \n",
    "def p_calculate(number1, operator, number2):\n",
    "    \n",
    "    \"\"\"Performs a calculation with two numbers and an operator,\n",
    "    and returns the result.\"\"\"\n",
    "    \n",
    "    if operator == '+':\n",
    "        return number1 + number2\n",
    "    if operator == '-':\n",
    "        return number1 - number2\n",
    "    if operator == '*':\n",
    "        return number1 * number2\n",
    "    if operator == '/':\n",
    "        return number1 / number2\n",
    "    raise Exception('Invalid operator!')\n",
    "\n",
    "    \n",
    "p_main()\n"
   ]
  },
  {
   "cell_type": "markdown",
   "metadata": {},
   "source": [
    "## A functional approach!\n",
    "\n",
    "- Functions consist of only one expression\n",
    "- How can we validate input? (One of the many things we will learn later!)"
   ]
  },
  {
   "cell_type": "code",
   "execution_count": 2,
   "metadata": {},
   "outputs": [
    {
     "name": "stdout",
     "output_type": "stream",
     "text": [
      "The result is: 3\n"
     ]
    }
   ],
   "source": [
    "OPERATORS = '+', '-', '*', '/'\n",
    "\n",
    "\n",
    "def f_get_number():\n",
    "    return int(input('Enter an integer: '))\n",
    "\n",
    "\n",
    "def f_get_operator():\n",
    "    return input('Enter an operator (+, -, *, /): ')\n",
    "\n",
    "\n",
    "def f_calculate(number1, operator, number2):\n",
    "    return number1+number2 if operator == '+' \\\n",
    "        else number1-number2 if operator == '-' \\\n",
    "        else number1/number2 if operator == '/' \\\n",
    "        else number1*number2 if operator == '*' \\\n",
    "        else None    \n",
    "\n",
    "\n",
    "def f_main():\n",
    "    return f_calculate(\n",
    "        f_get_number(),\n",
    "        f_get_operator(),\n",
    "        f_get_number(),\n",
    "        )\n",
    "\n",
    "\n",
    "print('The result is: %s' % f_main())"
   ]
  },
  {
   "cell_type": "markdown",
   "metadata": {},
   "source": [
    "# Pro - Stateless, Referentially Transparent Functions Produce the Same Result"
   ]
  },
  {
   "cell_type": "markdown",
   "metadata": {},
   "source": [
    "## Stateless functions without side-effects always produce the same result\n",
    "\n",
    "Or: *Referential transparency*\n",
    "\n",
    "### A stateful example\n",
    "\n",
    "Using `global` variables in functions is one example of relying on, and modifying state."
   ]
  },
  {
   "cell_type": "code",
   "execution_count": 3,
   "metadata": {},
   "outputs": [
    {
     "name": "stdout",
     "output_type": "stream",
     "text": [
      "[John] Hello world!\n",
      "[Carlos] Foobar!\n"
     ]
    }
   ],
   "source": [
    "current_speaker = None\n",
    "\n",
    "\n",
    "def register(name):\n",
    "    \n",
    "    global current_speaker\n",
    "    current_speaker = name\n",
    "    \n",
    "    \n",
    "def speak(text):\n",
    "    \n",
    "    print('[%s] %s' % (current_speaker, text))\n",
    "    \n",
    "    \n",
    "register('John')\n",
    "speak('Hello world!')\n",
    "register('Carlos')\n",
    "speak('Foobar!')"
   ]
  },
  {
   "cell_type": "markdown",
   "metadata": {},
   "source": [
    "### Objects are also states\n",
    "\n",
    "Objects are, by definition, states. Therefore, methods (object functions) are stateful."
   ]
  },
  {
   "cell_type": "code",
   "execution_count": 4,
   "metadata": {},
   "outputs": [
    {
     "name": "stdout",
     "output_type": "stream",
     "text": [
      "[John] Hello world!\n",
      "[Carlos] Foobar!\n"
     ]
    }
   ],
   "source": [
    "class Speaker():\n",
    "    \n",
    "    def __init__(self, name):\n",
    "        \n",
    "        self._name = name\n",
    "        \n",
    "    def speak(self, text):\n",
    "        \n",
    "        print('[%s] %s' % (self._name, text))\n",
    "        \n",
    "\n",
    "john = Speaker('John')\n",
    "john.speak('Hello world!')\n",
    "carlos = Speaker('Carlos')\n",
    "carlos.speak('Foobar!')"
   ]
  },
  {
   "cell_type": "markdown",
   "metadata": {},
   "source": [
    "### Stateless functions are often trivial\n",
    "\n",
    "A stateless function relies only on:\n",
    "\n",
    "- The arguments that have been passed to the function\n",
    "- Return values from other (stateless) functions\n",
    "\n",
    "The result is often a very simple function. But when was simplicity ever a bad thing?"
   ]
  },
  {
   "cell_type": "code",
   "execution_count": 5,
   "metadata": {},
   "outputs": [
    {
     "name": "stdout",
     "output_type": "stream",
     "text": [
      "[John] Hello world!\n",
      "[Carlos] Foobar!\n"
     ]
    }
   ],
   "source": [
    "def speak(speaker, text):\n",
    "    \n",
    "    print('[%s] %s' % (speaker, text))\n",
    "    \n",
    "\n",
    "john = 'John'\n",
    "speak(john, 'Hello world!')\n",
    "carlos = 'Carlos'\n",
    "speak(carlos, 'Foobar!')"
   ]
  },
  {
   "cell_type": "markdown",
   "metadata": {},
   "source": [
    "# Pro - You can (at least in theory!) prove that your code is correct\n",
    "\n",
    "Functional programming is characterized by:\n",
    "\n",
    "- Short functions\n",
    "- Referential transparency (return values are completely predictable based on arguments)\n",
    "\n",
    "These properties make it possible, in theory, to prove that functions do what they should do.\n",
    "\n",
    "This contrasts with the traditional approach of testing functions on a case-by-base basis, or so-called *unit testing*.\n",
    "\n",
    "### Smile!"
   ]
  },
  {
   "cell_type": "code",
   "execution_count": 6,
   "metadata": {},
   "outputs": [
    {
     "name": "stdout",
     "output_type": "stream",
     "text": [
      "['😀', '😀', '😀']\n"
     ]
    }
   ],
   "source": [
    "import itertools\n",
    "\n",
    "\n",
    "def smile(l):\n",
    "    \n",
    "    \"\"\"Takes a list of integers. For each integer (i), create\n",
    "    a list of smileys of length i. Then flatten this list and\n",
    "    return the result.\"\"\"\n",
    "\n",
    "    # This is very functional!\n",
    "    return list(itertools.chain(*[['😀']*i for i in l]))\n",
    "\n",
    "# [1,2] → [ ['😀'], ['😀', '😀'] ] → ['😀', '😀', '😀']\n",
    "print(smile([1,2]))"
   ]
  },
  {
   "cell_type": "markdown",
   "metadata": {},
   "source": [
    "### Unit testing\n",
    "\n",
    "If we want to test if `smile()` works as it should, we can design a set of test cases. And then, for each of these test cases, we verify that the output matches our expectation. This is called *unit testing*.\n",
    "\n",
    "Here I use simple `assert` statements; in real life, you would generally use some library designed specifically for unit testing, such as `nose` or Python's built-in `unittest`."
   ]
  },
  {
   "cell_type": "code",
   "execution_count": 7,
   "metadata": {},
   "outputs": [
    {
     "name": "stdout",
     "output_type": "stream",
     "text": [
      "Starting test\n",
      "Done\n"
     ]
    }
   ],
   "source": [
    "print('Starting test')\n",
    "assert(smile([]) == [])\n",
    "assert(smile([1]) == ['😀'])\n",
    "assert(smile([0]) == [])\n",
    "assert(smile([1,0,2]) == ['😀', '😀', '😀'])\n",
    "print('Done')"
   ]
  },
  {
   "cell_type": "markdown",
   "metadata": {},
   "source": [
    "### Provability\n",
    "\n",
    "But we can also look inside the function, and try to understand what it does. In this case, we can actually simplify the function a lot!\n",
    "\n",
    "`l×a + l×b + l×c →  l×(a+b+c)`\n",
    "\n",
    "And now it's obvious that the function is correct. (And that the initial solution was unnecessarily complicated!)"
   ]
  },
  {
   "cell_type": "code",
   "execution_count": 8,
   "metadata": {},
   "outputs": [
    {
     "name": "stdout",
     "output_type": "stream",
     "text": [
      "['😀', '😀', '😀']\n"
     ]
    }
   ],
   "source": [
    "def smile(l):\n",
    "    \n",
    "    return ['😀'] * sum(l)\n",
    "\n",
    "print(smile([1,2]))"
   ]
  },
  {
   "cell_type": "markdown",
   "metadata": {},
   "source": [
    "# Con: Complexity and (overly) deep recursion\n",
    "\n",
    "Where procedural programming relies on loops, functional programming often relies on recursion.\n",
    "\n",
    "### A procedural approach\n",
    "\n",
    "Let's first consider a procedural implementation of the factorial (!) operation."
   ]
  },
  {
   "cell_type": "code",
   "execution_count": 9,
   "metadata": {},
   "outputs": [
    {
     "name": "stdout",
     "output_type": "stream",
     "text": [
      "1\n",
      "2\n",
      "24\n"
     ]
    }
   ],
   "source": [
    "def p_factorial(n):\n",
    "    \n",
    "    f = 1\n",
    "    for i in range(1, n+1):\n",
    "        f *= i\n",
    "    return f\n",
    "\n",
    "\n",
    "print(p_factorial(0)) # = 1 by convention\n",
    "print(p_factorial(2)) # = 1×2 = 2\n",
    "print(p_factorial(4)) # = 1×2×3x4 = 24"
   ]
  },
  {
   "cell_type": "markdown",
   "metadata": {},
   "source": [
    "### A functional approach"
   ]
  },
  {
   "cell_type": "code",
   "execution_count": 10,
   "metadata": {},
   "outputs": [
    {
     "name": "stdout",
     "output_type": "stream",
     "text": [
      "1\n",
      "2\n",
      "24\n"
     ]
    }
   ],
   "source": [
    "def f_factorial(n):\n",
    "    \n",
    "    return 1 if n == 0 else n*f_factorial(n-1)\n",
    "\n",
    "\n",
    "print(f_factorial(0)) # = 1 by convention\n",
    "print(f_factorial(2)) # = 1×2 = 2\n",
    "print(f_factorial(4)) # = 1×2×3x4 = 24"
   ]
  },
  {
   "cell_type": "markdown",
   "metadata": {},
   "source": [
    "### Meet `RecursionError`!\n",
    "\n",
    "The procedural and functional implementations are valid and identical. But the functional implementation is limited by Python's maximum recursion depth of 1000!"
   ]
  },
  {
   "cell_type": "code",
   "execution_count": 13,
   "metadata": {},
   "outputs": [],
   "source": [
    "_ = p_factorial(10000)"
   ]
  },
  {
   "cell_type": "code",
   "execution_count": null,
   "metadata": {},
   "outputs": [],
   "source": [
    "# Error! maximum recursion depth exceeded in comparison\n",
    "# _ = f_factorial(10000)"
   ]
  },
  {
   "cell_type": "markdown",
   "metadata": {},
   "source": [
    "# Con: Functional programming doesn't (always) match how humans think\n",
    "\n",
    "### Consider voting\n",
    "\n",
    "Political voting has at least two actors: the voter and the politician. Voting is an action of the voter; we don't think of being voting upong as an action of the politician. The politician that was voted upon is a property of the voter. The number of votes received is a property of the politician.\n",
    "\n",
    "This logic can be beautifully encapsulated by object-oriented programming\n",
    "\n",
    "\n",
    "### An object-oriented approach"
   ]
  },
  {
   "cell_type": "code",
   "execution_count": 1,
   "metadata": {},
   "outputs": [
    {
     "name": "stdout",
     "output_type": "stream",
     "text": [
      "Jean voted for Macron\n",
      "Macron received 1 vote(s)\n"
     ]
    }
   ],
   "source": [
    "class Voter:\n",
    "    \n",
    "    def __init__(self, name):\n",
    "        \n",
    "        self.name = name\n",
    "        self.voted_for = None\n",
    "        \n",
    "    def vote(self, politician):\n",
    "        \n",
    "        self.voted_for = politician\n",
    "        politician.votes += 1\n",
    "        \n",
    "    def __str__(self):\n",
    "        \n",
    "        return self.name        \n",
    "        \n",
    "        \n",
    "class Politician:\n",
    "    \n",
    "    def __init__(self, name):\n",
    "        \n",
    "        self.name = name\n",
    "        self.votes = 0\n",
    "        \n",
    "    def __str__(self):\n",
    "        \n",
    "        return self.name\n",
    "        \n",
    "\n",
    "macron = Politician('Macron')\n",
    "jean = Voter('Jean')\n",
    "jean.vote(macron)\n",
    "print('%s voted for %s' % (jean, jean.voted_for))\n",
    "print('%s received %d vote(s)' % (macron, macron.votes))"
   ]
  },
  {
   "cell_type": "markdown",
   "metadata": {},
   "source": [
    "### A functional approach\n",
    "\n",
    "We can implement the same logic using purely functional programming. But the result is clunky, and less intuitive then the object oriented counterpart."
   ]
  },
  {
   "cell_type": "code",
   "execution_count": 2,
   "metadata": {},
   "outputs": [
    {
     "name": "stdout",
     "output_type": "stream",
     "text": [
      "Jean voted for Macron\n",
      "Macron received 1 vote(s)\n"
     ]
    }
   ],
   "source": [
    "def vote(voters, politicians, voter, politician):\n",
    "    \n",
    "    voters[voter] = politician\n",
    "    if politician in politicians:\n",
    "        politicians[politician] += 1\n",
    "    else:\n",
    "        politicians[politician] = 1\n",
    "    return voters, politicians\n",
    "\n",
    "\n",
    "def voted_for(voters, voter):\n",
    "    \n",
    "    return '%s voted for %s' % (voter, voters.get(voter, None))\n",
    "\n",
    "\n",
    "def votes(politicians, politician):\n",
    "    \n",
    "    return '%s received %d vote(s)' % (politician, politicians.get(politician, 0))\n",
    "\n",
    "\n",
    "voters, politicians = vote({}, {}, 'Jean', 'Macron')\n",
    "print(voted_for(voters, 'Jean'))\n",
    "print(votes(politicians, 'Macron'))"
   ]
  }
 ],
 "metadata": {
  "kernelspec": {
   "display_name": "Python 3.10.5 64-bit (windows store)",
   "language": "python",
   "name": "python3"
  },
  "language_info": {
   "codemirror_mode": {
    "name": "ipython",
    "version": 3
   },
   "file_extension": ".py",
   "mimetype": "text/x-python",
   "name": "python",
   "nbconvert_exporter": "python",
   "pygments_lexer": "ipython3",
   "version": "3.10.5"
  },
  "orig_nbformat": 4,
  "vscode": {
   "interpreter": {
    "hash": "3822405be9f5fb329f7270cbdcf73e762c62b3f383c5e71390a1a4648678c1cb"
   }
  }
 },
 "nbformat": 4,
 "nbformat_minor": 2
}
