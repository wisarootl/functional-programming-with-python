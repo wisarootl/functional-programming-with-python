{
 "cells": [
  {
   "cell_type": "markdown",
   "metadata": {},
   "source": [
    "# Errors and Exceptions in Lambda Expressions"
   ]
  },
  {
   "cell_type": "markdown",
   "metadata": {},
   "source": [
    "# Exceptions"
   ]
  },
  {
   "cell_type": "markdown",
   "metadata": {},
   "source": [
    "In Python, `Exceptions` are the main way to deal with errors. Whenever an error occurs, an `Exception` object is 'raised'. This causes the code to abort, until the Exception is caught in a `try: … except: …` statement."
   ]
  },
  {
   "cell_type": "code",
   "execution_count": 2,
   "metadata": {},
   "outputs": [
    {
     "name": "stdout",
     "output_type": "stream",
     "text": [
      "None\n"
     ]
    }
   ],
   "source": [
    "def add_str(s):\n",
    "    \n",
    "    try:\n",
    "        return sum([int(i) for i in s.split('+')])\n",
    "    except AttributeError:\n",
    "        return None\n",
    "\n",
    "print(add_str(1+2))"
   ]
  },
  {
   "cell_type": "code",
   "execution_count": 3,
   "metadata": {},
   "outputs": [
    {
     "name": "stdout",
     "output_type": "stream",
     "text": [
      "3\n"
     ]
    }
   ],
   "source": [
    "print(add_str('1+2'))"
   ]
  },
  {
   "cell_type": "markdown",
   "metadata": {},
   "source": [
    "#### The curse of statements\n",
    "\n",
    "\n",
    "But `try` is a *statement*, and you can therefore not use it in `lambda` expressions! Unlike for most other statements, Python does not offer an expression alternative to the `try` statement."
   ]
  },
  {
   "cell_type": "code",
   "execution_count": 4,
   "metadata": {},
   "outputs": [
    {
     "ename": "AttributeError",
     "evalue": "'int' object has no attribute 'split'",
     "output_type": "error",
     "traceback": [
      "\u001b[1;31m---------------------------------------------------------------------------\u001b[0m",
      "\u001b[1;31mAttributeError\u001b[0m                            Traceback (most recent call last)",
      "\u001b[1;32md:\\06 - Working\\12-functional-programming-with-python\\functional-programming-with-python\\05-error-and-exception-in-lambda-expression.ipynb Cell 7'\u001b[0m in \u001b[0;36m<cell line: 3>\u001b[1;34m()\u001b[0m\n\u001b[0;32m      <a href='vscode-notebook-cell:/d%3A/06%20-%20Working/12-functional-programming-with-python/functional-programming-with-python/05-error-and-exception-in-lambda-expression.ipynb#ch0000007?line=0'>1</a>\u001b[0m l_add_str \u001b[39m=\u001b[39m \u001b[39mlambda\u001b[39;00m s: \u001b[39msum\u001b[39m([\u001b[39mint\u001b[39m(i) \u001b[39mfor\u001b[39;00m i \u001b[39min\u001b[39;00m s\u001b[39m.\u001b[39msplit(\u001b[39m'\u001b[39m\u001b[39m+\u001b[39m\u001b[39m'\u001b[39m)])\n\u001b[1;32m----> <a href='vscode-notebook-cell:/d%3A/06%20-%20Working/12-functional-programming-with-python/functional-programming-with-python/05-error-and-exception-in-lambda-expression.ipynb#ch0000007?line=2'>3</a>\u001b[0m \u001b[39mprint\u001b[39m(l_add_str(\u001b[39m1\u001b[39;49m\u001b[39m+\u001b[39;49m\u001b[39m2\u001b[39;49m))\n",
      "\u001b[1;32md:\\06 - Working\\12-functional-programming-with-python\\functional-programming-with-python\\05-error-and-exception-in-lambda-expression.ipynb Cell 7'\u001b[0m in \u001b[0;36m<lambda>\u001b[1;34m(s)\u001b[0m\n\u001b[1;32m----> <a href='vscode-notebook-cell:/d%3A/06%20-%20Working/12-functional-programming-with-python/functional-programming-with-python/05-error-and-exception-in-lambda-expression.ipynb#ch0000007?line=0'>1</a>\u001b[0m l_add_str \u001b[39m=\u001b[39m \u001b[39mlambda\u001b[39;00m s: \u001b[39msum\u001b[39m([\u001b[39mint\u001b[39m(i) \u001b[39mfor\u001b[39;00m i \u001b[39min\u001b[39;00m s\u001b[39m.\u001b[39;49msplit(\u001b[39m'\u001b[39m\u001b[39m+\u001b[39m\u001b[39m'\u001b[39m)])\n\u001b[0;32m      <a href='vscode-notebook-cell:/d%3A/06%20-%20Working/12-functional-programming-with-python/functional-programming-with-python/05-error-and-exception-in-lambda-expression.ipynb#ch0000007?line=2'>3</a>\u001b[0m \u001b[39mprint\u001b[39m(l_add_str(\u001b[39m1\u001b[39m\u001b[39m+\u001b[39m\u001b[39m2\u001b[39m))\n",
      "\u001b[1;31mAttributeError\u001b[0m: 'int' object has no attribute 'split'"
     ]
    }
   ],
   "source": [
    "l_add_str = lambda s: sum([int(i) for i in s.split('+')])\n",
    "\n",
    "# we cannot catch error in lambda function (we cannot use try-except in lambda function)\n",
    "print(l_add_str(1+2))"
   ]
  },
  {
   "cell_type": "code",
   "execution_count": 5,
   "metadata": {},
   "outputs": [
    {
     "name": "stdout",
     "output_type": "stream",
     "text": [
      "3\n"
     ]
    }
   ],
   "source": [
    "print(l_add_str('1+2'))"
   ]
  },
  {
   "cell_type": "markdown",
   "metadata": {},
   "source": [
    "# Handling Errors"
   ]
  },
  {
   "cell_type": "markdown",
   "metadata": {},
   "source": [
    "- Let's reconsider our lambda"
   ]
  },
  {
   "cell_type": "code",
   "execution_count": 6,
   "metadata": {},
   "outputs": [],
   "source": [
    "l_add_str = lambda s: sum([int(i) for i in s.split('+')])"
   ]
  },
  {
   "cell_type": "markdown",
   "metadata": {},
   "source": [
    "#### A Maybe-like decorator\n",
    "\n",
    "The `Maybe monad` is not very Pythonic. But we can do something similar using a decorator."
   ]
  },
  {
   "cell_type": "code",
   "execution_count": 15,
   "metadata": {},
   "outputs": [
    {
     "name": "stdout",
     "output_type": "stream",
     "text": [
      "'int' object has no attribute 'split'\n"
     ]
    }
   ],
   "source": [
    "def maybe(fnc):\n",
    "    \n",
    "    def inner(*args):\n",
    "        \n",
    "        for a in args:\n",
    "            if isinstance(a, Exception):\n",
    "                return a\n",
    "        try:\n",
    "            return fnc(*args)\n",
    "        except Exception as e:\n",
    "            return e\n",
    "        \n",
    "    return inner\n",
    "\n",
    "safe_add_str = maybe(lambda s: sum([int(i) for i in s.split('+')]))\n",
    "print(safe_add_str(1+2))"
   ]
  },
  {
   "cell_type": "code",
   "execution_count": 16,
   "metadata": {},
   "outputs": [
    {
     "name": "stdout",
     "output_type": "stream",
     "text": [
      "3\n"
     ]
    }
   ],
   "source": [
    "print(safe_add_str('1+2'))"
   ]
  },
  {
   "cell_type": "markdown",
   "metadata": {},
   "source": [
    "# A fully functional, interactive calculator"
   ]
  },
  {
   "cell_type": "markdown",
   "metadata": {},
   "source": [
    "#### Our functional calculator … so far\n",
    "\n",
    "This is the calculator that we implemented in the first section. But it suffers from a few drawbacks:\n",
    "\n",
    "- No input validation\n",
    "- No looping"
   ]
  },
  {
   "cell_type": "code",
   "execution_count": 17,
   "metadata": {},
   "outputs": [
    {
     "name": "stdout",
     "output_type": "stream",
     "text": [
      "The result is: 3\n"
     ]
    }
   ],
   "source": [
    "OPERATORS = '+', '-', '*', '/'\n",
    "\n",
    "\n",
    "def f_get_number():\n",
    "    return int(input('Enter an integer: '))\n",
    "\n",
    "\n",
    "def f_get_operator():\n",
    "    return input('Enter an operator (+, -, *, /): ')\n",
    "\n",
    "\n",
    "def f_calculate(number1, operator, number2):\n",
    "    return number1+number2 if operator == '+' \\\n",
    "        else number1-number2 if operator == '-' \\\n",
    "        else number1/number2 if operator == '/' \\\n",
    "        else number1*number2 if operator == '*' \\\n",
    "        else None    \n",
    "\n",
    "\n",
    "def f_main():\n",
    "    return f_calculate(\n",
    "        f_get_number(),\n",
    "        f_get_operator(),\n",
    "        f_get_number(),\n",
    "        )\n",
    "\n",
    "\n",
    "print('The result is: %s' % f_main())"
   ]
  },
  {
   "cell_type": "code",
   "execution_count": 18,
   "metadata": {},
   "outputs": [
    {
     "data": {
      "text/plain": [
       "3"
      ]
     },
     "execution_count": 18,
     "metadata": {},
     "output_type": "execute_result"
    }
   ],
   "source": [
    "f_calculate(1, '+', 2)"
   ]
  },
  {
   "cell_type": "markdown",
   "metadata": {},
   "source": [
    "#### Let's get to work!\n",
    "\n",
    "Our toolkit contains:\n",
    "\n",
    "- Lambda expressions\n",
    "- Decorators\n",
    "- Higher-order functions"
   ]
  },
  {
   "cell_type": "code",
   "execution_count": 19,
   "metadata": {},
   "outputs": [
    {
     "name": "stdout",
     "output_type": "stream",
     "text": [
      "3\n",
      "5\n",
      "4\n"
     ]
    },
    {
     "ename": "KeyboardInterrupt",
     "evalue": "Interrupted by user",
     "output_type": "error",
     "traceback": [
      "\u001b[1;31m---------------------------------------------------------------------------\u001b[0m",
      "\u001b[1;31mKeyboardInterrupt\u001b[0m                         Traceback (most recent call last)",
      "\u001b[1;32md:\\06 - Working\\12-functional-programming-with-python\\functional-programming-with-python\\05-error-and-exception-in-lambda-expression.ipynb Cell 20'\u001b[0m in \u001b[0;36m<cell line: 61>\u001b[1;34m()\u001b[0m\n\u001b[0;32m     <a href='vscode-notebook-cell:/d%3A/06%20-%20Working/12-functional-programming-with-python/functional-programming-with-python/05-error-and-exception-in-lambda-expression.ipynb#ch0000022?line=57'>58</a>\u001b[0m forever \u001b[39m=\u001b[39m \u001b[39mlambda\u001b[39;00m retval: \u001b[39mFalse\u001b[39;00m\n\u001b[0;32m     <a href='vscode-notebook-cell:/d%3A/06%20-%20Working/12-functional-programming-with-python/functional-programming-with-python/05-error-and-exception-in-lambda-expression.ipynb#ch0000022?line=58'>59</a>\u001b[0m main_loop \u001b[39m=\u001b[39m repeat(\u001b[39mlambda\u001b[39;00m: \u001b[39mprint\u001b[39m(main()), until\u001b[39m=\u001b[39mforever)\n\u001b[1;32m---> <a href='vscode-notebook-cell:/d%3A/06%20-%20Working/12-functional-programming-with-python/functional-programming-with-python/05-error-and-exception-in-lambda-expression.ipynb#ch0000022?line=60'>61</a>\u001b[0m main_loop()\n",
      "\u001b[1;32md:\\06 - Working\\12-functional-programming-with-python\\functional-programming-with-python\\05-error-and-exception-in-lambda-expression.ipynb Cell 20'\u001b[0m in \u001b[0;36mrepeat.<locals>.inner\u001b[1;34m(*args)\u001b[0m\n\u001b[0;32m     <a href='vscode-notebook-cell:/d%3A/06%20-%20Working/12-functional-programming-with-python/functional-programming-with-python/05-error-and-exception-in-lambda-expression.ipynb#ch0000022?line=25'>26</a>\u001b[0m \u001b[39mdef\u001b[39;00m \u001b[39minner\u001b[39m(\u001b[39m*\u001b[39margs):\n\u001b[0;32m     <a href='vscode-notebook-cell:/d%3A/06%20-%20Working/12-functional-programming-with-python/functional-programming-with-python/05-error-and-exception-in-lambda-expression.ipynb#ch0000022?line=27'>28</a>\u001b[0m     \u001b[39mwhile\u001b[39;00m \u001b[39mTrue\u001b[39;00m:\n\u001b[1;32m---> <a href='vscode-notebook-cell:/d%3A/06%20-%20Working/12-functional-programming-with-python/functional-programming-with-python/05-error-and-exception-in-lambda-expression.ipynb#ch0000022?line=28'>29</a>\u001b[0m         result \u001b[39m=\u001b[39m fnc(\u001b[39m*\u001b[39;49margs)\n\u001b[0;32m     <a href='vscode-notebook-cell:/d%3A/06%20-%20Working/12-functional-programming-with-python/functional-programming-with-python/05-error-and-exception-in-lambda-expression.ipynb#ch0000022?line=29'>30</a>\u001b[0m         \u001b[39mif\u001b[39;00m until(result):\n\u001b[0;32m     <a href='vscode-notebook-cell:/d%3A/06%20-%20Working/12-functional-programming-with-python/functional-programming-with-python/05-error-and-exception-in-lambda-expression.ipynb#ch0000022?line=30'>31</a>\u001b[0m             \u001b[39mreturn\u001b[39;00m result\n",
      "\u001b[1;32md:\\06 - Working\\12-functional-programming-with-python\\functional-programming-with-python\\05-error-and-exception-in-lambda-expression.ipynb Cell 20'\u001b[0m in \u001b[0;36m<lambda>\u001b[1;34m()\u001b[0m\n\u001b[0;32m     <a href='vscode-notebook-cell:/d%3A/06%20-%20Working/12-functional-programming-with-python/functional-programming-with-python/05-error-and-exception-in-lambda-expression.ipynb#ch0000022?line=51'>52</a>\u001b[0m main \u001b[39m=\u001b[39m \u001b[39mlambda\u001b[39;00m: calculate(\n\u001b[0;32m     <a href='vscode-notebook-cell:/d%3A/06%20-%20Working/12-functional-programming-with-python/functional-programming-with-python/05-error-and-exception-in-lambda-expression.ipynb#ch0000022?line=52'>53</a>\u001b[0m         safe_get_number(),\n\u001b[0;32m     <a href='vscode-notebook-cell:/d%3A/06%20-%20Working/12-functional-programming-with-python/functional-programming-with-python/05-error-and-exception-in-lambda-expression.ipynb#ch0000022?line=53'>54</a>\u001b[0m         safe_get_operator(),\n\u001b[0;32m     <a href='vscode-notebook-cell:/d%3A/06%20-%20Working/12-functional-programming-with-python/functional-programming-with-python/05-error-and-exception-in-lambda-expression.ipynb#ch0000022?line=54'>55</a>\u001b[0m         safe_get_number(),\n\u001b[0;32m     <a href='vscode-notebook-cell:/d%3A/06%20-%20Working/12-functional-programming-with-python/functional-programming-with-python/05-error-and-exception-in-lambda-expression.ipynb#ch0000022?line=55'>56</a>\u001b[0m         )\n\u001b[0;32m     <a href='vscode-notebook-cell:/d%3A/06%20-%20Working/12-functional-programming-with-python/functional-programming-with-python/05-error-and-exception-in-lambda-expression.ipynb#ch0000022?line=57'>58</a>\u001b[0m forever \u001b[39m=\u001b[39m \u001b[39mlambda\u001b[39;00m retval: \u001b[39mFalse\u001b[39;00m\n\u001b[1;32m---> <a href='vscode-notebook-cell:/d%3A/06%20-%20Working/12-functional-programming-with-python/functional-programming-with-python/05-error-and-exception-in-lambda-expression.ipynb#ch0000022?line=58'>59</a>\u001b[0m main_loop \u001b[39m=\u001b[39m repeat(\u001b[39mlambda\u001b[39;00m: \u001b[39mprint\u001b[39m(main()), until\u001b[39m=\u001b[39mforever)\n\u001b[0;32m     <a href='vscode-notebook-cell:/d%3A/06%20-%20Working/12-functional-programming-with-python/functional-programming-with-python/05-error-and-exception-in-lambda-expression.ipynb#ch0000022?line=60'>61</a>\u001b[0m main_loop()\n",
      "\u001b[1;32md:\\06 - Working\\12-functional-programming-with-python\\functional-programming-with-python\\05-error-and-exception-in-lambda-expression.ipynb Cell 20'\u001b[0m in \u001b[0;36m<lambda>\u001b[1;34m()\u001b[0m\n\u001b[0;32m     <a href='vscode-notebook-cell:/d%3A/06%20-%20Working/12-functional-programming-with-python/functional-programming-with-python/05-error-and-exception-in-lambda-expression.ipynb#ch0000022?line=41'>42</a>\u001b[0m safe_get_operator \u001b[39m=\u001b[39m repeat(get_operator, until\u001b[39m=\u001b[39mis_operator)\n\u001b[0;32m     <a href='vscode-notebook-cell:/d%3A/06%20-%20Working/12-functional-programming-with-python/functional-programming-with-python/05-error-and-exception-in-lambda-expression.ipynb#ch0000022?line=44'>45</a>\u001b[0m calculate \u001b[39m=\u001b[39m \u001b[39mlambda\u001b[39;00m number1, operator, number2: \\\n\u001b[0;32m     <a href='vscode-notebook-cell:/d%3A/06%20-%20Working/12-functional-programming-with-python/functional-programming-with-python/05-error-and-exception-in-lambda-expression.ipynb#ch0000022?line=45'>46</a>\u001b[0m     number1\u001b[39m+\u001b[39mnumber2 \u001b[39mif\u001b[39;00m operator \u001b[39m==\u001b[39m \u001b[39m'\u001b[39m\u001b[39m+\u001b[39m\u001b[39m'\u001b[39m \\\n\u001b[0;32m     <a href='vscode-notebook-cell:/d%3A/06%20-%20Working/12-functional-programming-with-python/functional-programming-with-python/05-error-and-exception-in-lambda-expression.ipynb#ch0000022?line=46'>47</a>\u001b[0m     \u001b[39melse\u001b[39;00m number1\u001b[39m-\u001b[39mnumber2 \u001b[39mif\u001b[39;00m operator \u001b[39m==\u001b[39m \u001b[39m'\u001b[39m\u001b[39m-\u001b[39m\u001b[39m'\u001b[39m \\\n\u001b[0;32m     <a href='vscode-notebook-cell:/d%3A/06%20-%20Working/12-functional-programming-with-python/functional-programming-with-python/05-error-and-exception-in-lambda-expression.ipynb#ch0000022?line=47'>48</a>\u001b[0m     \u001b[39melse\u001b[39;00m number1\u001b[39m/\u001b[39mnumber2 \u001b[39mif\u001b[39;00m operator \u001b[39m==\u001b[39m \u001b[39m'\u001b[39m\u001b[39m/\u001b[39m\u001b[39m'\u001b[39m \\\n\u001b[0;32m     <a href='vscode-notebook-cell:/d%3A/06%20-%20Working/12-functional-programming-with-python/functional-programming-with-python/05-error-and-exception-in-lambda-expression.ipynb#ch0000022?line=48'>49</a>\u001b[0m     \u001b[39melse\u001b[39;00m number1\u001b[39m*\u001b[39mnumber2 \u001b[39mif\u001b[39;00m operator \u001b[39m==\u001b[39m \u001b[39m'\u001b[39m\u001b[39m*\u001b[39m\u001b[39m'\u001b[39m \\\n\u001b[0;32m     <a href='vscode-notebook-cell:/d%3A/06%20-%20Working/12-functional-programming-with-python/functional-programming-with-python/05-error-and-exception-in-lambda-expression.ipynb#ch0000022?line=49'>50</a>\u001b[0m     \u001b[39melse\u001b[39;00m \u001b[39mNone\u001b[39;00m    \n\u001b[0;32m     <a href='vscode-notebook-cell:/d%3A/06%20-%20Working/12-functional-programming-with-python/functional-programming-with-python/05-error-and-exception-in-lambda-expression.ipynb#ch0000022?line=51'>52</a>\u001b[0m main \u001b[39m=\u001b[39m \u001b[39mlambda\u001b[39;00m: calculate(\n\u001b[1;32m---> <a href='vscode-notebook-cell:/d%3A/06%20-%20Working/12-functional-programming-with-python/functional-programming-with-python/05-error-and-exception-in-lambda-expression.ipynb#ch0000022?line=52'>53</a>\u001b[0m         safe_get_number(),\n\u001b[0;32m     <a href='vscode-notebook-cell:/d%3A/06%20-%20Working/12-functional-programming-with-python/functional-programming-with-python/05-error-and-exception-in-lambda-expression.ipynb#ch0000022?line=53'>54</a>\u001b[0m         safe_get_operator(),\n\u001b[0;32m     <a href='vscode-notebook-cell:/d%3A/06%20-%20Working/12-functional-programming-with-python/functional-programming-with-python/05-error-and-exception-in-lambda-expression.ipynb#ch0000022?line=54'>55</a>\u001b[0m         safe_get_number(),\n\u001b[0;32m     <a href='vscode-notebook-cell:/d%3A/06%20-%20Working/12-functional-programming-with-python/functional-programming-with-python/05-error-and-exception-in-lambda-expression.ipynb#ch0000022?line=55'>56</a>\u001b[0m         )\n\u001b[0;32m     <a href='vscode-notebook-cell:/d%3A/06%20-%20Working/12-functional-programming-with-python/functional-programming-with-python/05-error-and-exception-in-lambda-expression.ipynb#ch0000022?line=57'>58</a>\u001b[0m forever \u001b[39m=\u001b[39m \u001b[39mlambda\u001b[39;00m retval: \u001b[39mFalse\u001b[39;00m\n\u001b[0;32m     <a href='vscode-notebook-cell:/d%3A/06%20-%20Working/12-functional-programming-with-python/functional-programming-with-python/05-error-and-exception-in-lambda-expression.ipynb#ch0000022?line=58'>59</a>\u001b[0m main_loop \u001b[39m=\u001b[39m repeat(\u001b[39mlambda\u001b[39;00m: \u001b[39mprint\u001b[39m(main()), until\u001b[39m=\u001b[39mforever)\n",
      "\u001b[1;32md:\\06 - Working\\12-functional-programming-with-python\\functional-programming-with-python\\05-error-and-exception-in-lambda-expression.ipynb Cell 20'\u001b[0m in \u001b[0;36mrepeat.<locals>.inner\u001b[1;34m(*args)\u001b[0m\n\u001b[0;32m     <a href='vscode-notebook-cell:/d%3A/06%20-%20Working/12-functional-programming-with-python/functional-programming-with-python/05-error-and-exception-in-lambda-expression.ipynb#ch0000022?line=25'>26</a>\u001b[0m \u001b[39mdef\u001b[39;00m \u001b[39minner\u001b[39m(\u001b[39m*\u001b[39margs):\n\u001b[0;32m     <a href='vscode-notebook-cell:/d%3A/06%20-%20Working/12-functional-programming-with-python/functional-programming-with-python/05-error-and-exception-in-lambda-expression.ipynb#ch0000022?line=27'>28</a>\u001b[0m     \u001b[39mwhile\u001b[39;00m \u001b[39mTrue\u001b[39;00m:\n\u001b[1;32m---> <a href='vscode-notebook-cell:/d%3A/06%20-%20Working/12-functional-programming-with-python/functional-programming-with-python/05-error-and-exception-in-lambda-expression.ipynb#ch0000022?line=28'>29</a>\u001b[0m         result \u001b[39m=\u001b[39m fnc(\u001b[39m*\u001b[39;49margs)\n\u001b[0;32m     <a href='vscode-notebook-cell:/d%3A/06%20-%20Working/12-functional-programming-with-python/functional-programming-with-python/05-error-and-exception-in-lambda-expression.ipynb#ch0000022?line=29'>30</a>\u001b[0m         \u001b[39mif\u001b[39;00m until(result):\n\u001b[0;32m     <a href='vscode-notebook-cell:/d%3A/06%20-%20Working/12-functional-programming-with-python/functional-programming-with-python/05-error-and-exception-in-lambda-expression.ipynb#ch0000022?line=30'>31</a>\u001b[0m             \u001b[39mreturn\u001b[39;00m result\n",
      "\u001b[1;32md:\\06 - Working\\12-functional-programming-with-python\\functional-programming-with-python\\05-error-and-exception-in-lambda-expression.ipynb Cell 20'\u001b[0m in \u001b[0;36mmaybe.<locals>.inner\u001b[1;34m(*args)\u001b[0m\n\u001b[0;32m     <a href='vscode-notebook-cell:/d%3A/06%20-%20Working/12-functional-programming-with-python/functional-programming-with-python/05-error-and-exception-in-lambda-expression.ipynb#ch0000022?line=11'>12</a>\u001b[0m         \u001b[39mreturn\u001b[39;00m a\n\u001b[0;32m     <a href='vscode-notebook-cell:/d%3A/06%20-%20Working/12-functional-programming-with-python/functional-programming-with-python/05-error-and-exception-in-lambda-expression.ipynb#ch0000022?line=12'>13</a>\u001b[0m \u001b[39mtry\u001b[39;00m:\n\u001b[1;32m---> <a href='vscode-notebook-cell:/d%3A/06%20-%20Working/12-functional-programming-with-python/functional-programming-with-python/05-error-and-exception-in-lambda-expression.ipynb#ch0000022?line=13'>14</a>\u001b[0m     \u001b[39mreturn\u001b[39;00m fnc(\u001b[39m*\u001b[39;49margs)\n\u001b[0;32m     <a href='vscode-notebook-cell:/d%3A/06%20-%20Working/12-functional-programming-with-python/functional-programming-with-python/05-error-and-exception-in-lambda-expression.ipynb#ch0000022?line=14'>15</a>\u001b[0m \u001b[39mexcept\u001b[39;00m \u001b[39mException\u001b[39;00m \u001b[39mas\u001b[39;00m e:\n\u001b[0;32m     <a href='vscode-notebook-cell:/d%3A/06%20-%20Working/12-functional-programming-with-python/functional-programming-with-python/05-error-and-exception-in-lambda-expression.ipynb#ch0000022?line=15'>16</a>\u001b[0m     \u001b[39mreturn\u001b[39;00m e\n",
      "\u001b[1;32md:\\06 - Working\\12-functional-programming-with-python\\functional-programming-with-python\\05-error-and-exception-in-lambda-expression.ipynb Cell 20'\u001b[0m in \u001b[0;36m<lambda>\u001b[1;34m()\u001b[0m\n\u001b[0;32m     <a href='vscode-notebook-cell:/d%3A/06%20-%20Working/12-functional-programming-with-python/functional-programming-with-python/05-error-and-exception-in-lambda-expression.ipynb#ch0000022?line=32'>33</a>\u001b[0m     \u001b[39mreturn\u001b[39;00m inner\n\u001b[0;32m     <a href='vscode-notebook-cell:/d%3A/06%20-%20Working/12-functional-programming-with-python/functional-programming-with-python/05-error-and-exception-in-lambda-expression.ipynb#ch0000022?line=35'>36</a>\u001b[0m is_int \u001b[39m=\u001b[39m \u001b[39mlambda\u001b[39;00m i: \u001b[39misinstance\u001b[39m(i, \u001b[39mint\u001b[39m)\n\u001b[1;32m---> <a href='vscode-notebook-cell:/d%3A/06%20-%20Working/12-functional-programming-with-python/functional-programming-with-python/05-error-and-exception-in-lambda-expression.ipynb#ch0000022?line=36'>37</a>\u001b[0m get_number \u001b[39m=\u001b[39m \u001b[39mlambda\u001b[39;00m: \u001b[39mint\u001b[39m(\u001b[39minput\u001b[39;49m(\u001b[39m'\u001b[39;49m\u001b[39mEnter an integer: \u001b[39;49m\u001b[39m'\u001b[39;49m))\n\u001b[0;32m     <a href='vscode-notebook-cell:/d%3A/06%20-%20Working/12-functional-programming-with-python/functional-programming-with-python/05-error-and-exception-in-lambda-expression.ipynb#ch0000022?line=37'>38</a>\u001b[0m safe_get_number \u001b[39m=\u001b[39m repeat(maybe(get_number), until\u001b[39m=\u001b[39mis_int)\n\u001b[0;32m     <a href='vscode-notebook-cell:/d%3A/06%20-%20Working/12-functional-programming-with-python/functional-programming-with-python/05-error-and-exception-in-lambda-expression.ipynb#ch0000022?line=39'>40</a>\u001b[0m is_operator \u001b[39m=\u001b[39m \u001b[39mlambda\u001b[39;00m o: o \u001b[39min\u001b[39;00m OPERATORS\n",
      "File \u001b[1;32m~\\AppData\\Local\\Packages\\PythonSoftwareFoundation.Python.3.10_qbz5n2kfra8p0\\LocalCache\\local-packages\\Python310\\site-packages\\ipykernel\\kernelbase.py:1161\u001b[0m, in \u001b[0;36mKernel.raw_input\u001b[1;34m(self, prompt)\u001b[0m\n\u001b[0;32m   1157\u001b[0m \u001b[39mif\u001b[39;00m \u001b[39mnot\u001b[39;00m \u001b[39mself\u001b[39m\u001b[39m.\u001b[39m_allow_stdin:\n\u001b[0;32m   1158\u001b[0m     \u001b[39mraise\u001b[39;00m StdinNotImplementedError(\n\u001b[0;32m   1159\u001b[0m         \u001b[39m\"\u001b[39m\u001b[39mraw_input was called, but this frontend does not support input requests.\u001b[39m\u001b[39m\"\u001b[39m\n\u001b[0;32m   1160\u001b[0m     )\n\u001b[1;32m-> 1161\u001b[0m \u001b[39mreturn\u001b[39;00m \u001b[39mself\u001b[39;49m\u001b[39m.\u001b[39;49m_input_request(\n\u001b[0;32m   1162\u001b[0m     \u001b[39mstr\u001b[39;49m(prompt),\n\u001b[0;32m   1163\u001b[0m     \u001b[39mself\u001b[39;49m\u001b[39m.\u001b[39;49m_parent_ident[\u001b[39m\"\u001b[39;49m\u001b[39mshell\u001b[39;49m\u001b[39m\"\u001b[39;49m],\n\u001b[0;32m   1164\u001b[0m     \u001b[39mself\u001b[39;49m\u001b[39m.\u001b[39;49mget_parent(\u001b[39m\"\u001b[39;49m\u001b[39mshell\u001b[39;49m\u001b[39m\"\u001b[39;49m),\n\u001b[0;32m   1165\u001b[0m     password\u001b[39m=\u001b[39;49m\u001b[39mFalse\u001b[39;49;00m,\n\u001b[0;32m   1166\u001b[0m )\n",
      "File \u001b[1;32m~\\AppData\\Local\\Packages\\PythonSoftwareFoundation.Python.3.10_qbz5n2kfra8p0\\LocalCache\\local-packages\\Python310\\site-packages\\ipykernel\\kernelbase.py:1205\u001b[0m, in \u001b[0;36mKernel._input_request\u001b[1;34m(self, prompt, ident, parent, password)\u001b[0m\n\u001b[0;32m   1202\u001b[0m             \u001b[39mbreak\u001b[39;00m\n\u001b[0;32m   1203\u001b[0m \u001b[39mexcept\u001b[39;00m \u001b[39mKeyboardInterrupt\u001b[39;00m:\n\u001b[0;32m   1204\u001b[0m     \u001b[39m# re-raise KeyboardInterrupt, to truncate traceback\u001b[39;00m\n\u001b[1;32m-> 1205\u001b[0m     \u001b[39mraise\u001b[39;00m \u001b[39mKeyboardInterrupt\u001b[39;00m(\u001b[39m\"\u001b[39m\u001b[39mInterrupted by user\u001b[39m\u001b[39m\"\u001b[39m) \u001b[39mfrom\u001b[39;00m \u001b[39mNone\u001b[39m\n\u001b[0;32m   1206\u001b[0m \u001b[39mexcept\u001b[39;00m \u001b[39mException\u001b[39;00m:\n\u001b[0;32m   1207\u001b[0m     \u001b[39mself\u001b[39m\u001b[39m.\u001b[39mlog\u001b[39m.\u001b[39mwarning(\u001b[39m\"\u001b[39m\u001b[39mInvalid Message:\u001b[39m\u001b[39m\"\u001b[39m, exc_info\u001b[39m=\u001b[39m\u001b[39mTrue\u001b[39;00m)\n",
      "\u001b[1;31mKeyboardInterrupt\u001b[0m: Interrupted by user"
     ]
    }
   ],
   "source": [
    "OPERATORS = '+', '-', '*', '/'\n",
    "\n",
    "\n",
    "def maybe(fnc):\n",
    "    \n",
    "    \"\"\"Turns Exceptions into return values.\"\"\"\n",
    "    \n",
    "    def inner(*args):\n",
    "        \n",
    "        for a in args:\n",
    "            if isinstance(a, Exception):\n",
    "                return a\n",
    "        try:\n",
    "            return fnc(*args)\n",
    "        except Exception as e:\n",
    "            return e\n",
    "        \n",
    "    return inner\n",
    "\n",
    "\n",
    "def repeat(fnc, until):\n",
    "    \n",
    "    \"\"\"Repeats a function until its return value meets\n",
    "    the stop criterion.\"\"\"\n",
    "    \n",
    "    def inner(*args):\n",
    "\n",
    "        while True:\n",
    "            result = fnc(*args)\n",
    "            if until(result):\n",
    "                return result\n",
    "            \n",
    "    return inner\n",
    "\n",
    "\n",
    "is_int = lambda i: isinstance(i, int)\n",
    "get_number = lambda: int(input('Enter an integer: '))\n",
    "safe_get_number = repeat(maybe(get_number), until=is_int)\n",
    "\n",
    "is_operator = lambda o: o in OPERATORS\n",
    "get_operator = lambda: input('Enter an operator (+, -, *, /): ')\n",
    "safe_get_operator = repeat(get_operator, until=is_operator)\n",
    "\n",
    "\n",
    "calculate = lambda number1, operator, number2: \\\n",
    "    number1+number2 if operator == '+' \\\n",
    "    else number1-number2 if operator == '-' \\\n",
    "    else number1/number2 if operator == '/' \\\n",
    "    else number1*number2 if operator == '*' \\\n",
    "    else None    \n",
    "\n",
    "main = lambda: calculate(\n",
    "        safe_get_number(),\n",
    "        safe_get_operator(),\n",
    "        safe_get_number(),\n",
    "        )\n",
    "\n",
    "forever = lambda retval: False\n",
    "main_loop = repeat(lambda: print(main()), until=forever)\n",
    "\n",
    "main_loop()"
   ]
  }
 ],
 "metadata": {
  "kernelspec": {
   "display_name": "Python 3.10.5 64-bit (windows store)",
   "language": "python",
   "name": "python3"
  },
  "language_info": {
   "codemirror_mode": {
    "name": "ipython",
    "version": 3
   },
   "file_extension": ".py",
   "mimetype": "text/x-python",
   "name": "python",
   "nbconvert_exporter": "python",
   "pygments_lexer": "ipython3",
   "version": "3.10.5"
  },
  "orig_nbformat": 4,
  "vscode": {
   "interpreter": {
    "hash": "3822405be9f5fb329f7270cbdcf73e762c62b3f383c5e71390a1a4648678c1cb"
   }
  }
 },
 "nbformat": 4,
 "nbformat_minor": 2
}
