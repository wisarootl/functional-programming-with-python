{
 "cells": [
  {
   "cell_type": "markdown",
   "metadata": {},
   "source": [
    "# Common Functional Design Patterns "
   ]
  },
  {
   "cell_type": "markdown",
   "metadata": {},
   "source": [
    "# Carrying : One Argument per Function"
   ]
  },
  {
   "cell_type": "markdown",
   "metadata": {},
   "source": [
    "`add(1, 2, 3)` =>`add(1)(2)(3)`"
   ]
  },
  {
   "cell_type": "markdown",
   "metadata": {},
   "source": [
    "#### Let's take a simple function\n",
    "\n",
    "Most functions, even simple ones, take multiple arguments"
   ]
  },
  {
   "cell_type": "code",
   "execution_count": 1,
   "metadata": {},
   "outputs": [
    {
     "name": "stdout",
     "output_type": "stream",
     "text": [
      "1110\n"
     ]
    }
   ],
   "source": [
    "def add(a, b, c):\n",
    "    \n",
    "    return a + b + c\n",
    "\n",
    "print(add(10,100,1000))"
   ]
  },
  {
   "cell_type": "markdown",
   "metadata": {},
   "source": [
    "#### Binding function arguments\n",
    "\n",
    "But we can 'bind' arguments to a function, so that we end up with a function that takes one argument less than the original function. This is done with `functools.partial()`."
   ]
  },
  {
   "cell_type": "code",
   "execution_count": 2,
   "metadata": {},
   "outputs": [
    {
     "name": "stdout",
     "output_type": "stream",
     "text": [
      "1110\n"
     ]
    }
   ],
   "source": [
    "from functools import partial\n",
    "\n",
    "add_10 = partial(add, 10)\n",
    "add_10_100 = partial(add_10, 100)\n",
    "print(add_10_100(1000))"
   ]
  },
  {
   "cell_type": "markdown",
   "metadata": {},
   "source": [
    "#### Currying\n",
    "\n",
    "*Currying* is a specific kind of argument binding, in which we create a sequence of functions that each take exactly one argument. In Python, you can implement this elegantly with a decorator."
   ]
  },
  {
   "cell_type": "code",
   "execution_count": 3,
   "metadata": {},
   "outputs": [
    {
     "name": "stdout",
     "output_type": "stream",
     "text": [
      "1110\n"
     ]
    }
   ],
   "source": [
    "from inspect import signature\n",
    "\n",
    "def curry(fnc):\n",
    "    \n",
    "    def inner(arg):\n",
    "        \n",
    "        # check how many arguments of function take\n",
    "        if len(signature(fnc).parameters) == 1:\n",
    "            return fnc(arg)\n",
    "        return curry(partial(fnc, arg))\n",
    "    \n",
    "    return inner\n",
    "        \n",
    "    \n",
    "@curry\n",
    "def add(a, b, c):\n",
    "    \n",
    "    return a + b + c\n",
    "\n",
    "\n",
    "add_10 = add(10)\n",
    "add_10_100 = add_10(100)\n",
    "print(add_10_100(1000))"
   ]
  },
  {
   "cell_type": "code",
   "execution_count": 4,
   "metadata": {},
   "outputs": [
    {
     "name": "stdout",
     "output_type": "stream",
     "text": [
      "1110\n"
     ]
    }
   ],
   "source": [
    "print(add(10)(100)(1000))"
   ]
  },
  {
   "cell_type": "code",
   "execution_count": 5,
   "metadata": {},
   "outputs": [
    {
     "name": "stdout",
     "output_type": "stream",
     "text": [
      "['a', 'b', 'c', 'args', 'kwargs']\n"
     ]
    },
    {
     "data": {
      "text/plain": [
       "5"
      ]
     },
     "execution_count": 5,
     "metadata": {},
     "output_type": "execute_result"
    }
   ],
   "source": [
    "def test(a, b, c, *args, **kwargs):\n",
    "  pass\n",
    "print(list(signature(test).parameters))\n",
    "len(signature(test).parameters)"
   ]
  },
  {
   "cell_type": "code",
   "execution_count": null,
   "metadata": {},
   "outputs": [],
   "source": []
  },
  {
   "cell_type": "markdown",
   "metadata": {},
   "source": []
  },
  {
   "cell_type": "markdown",
   "metadata": {},
   "source": []
  },
  {
   "cell_type": "markdown",
   "metadata": {},
   "source": [
    "# Monads – Variables That Decide How They Should Be Treated"
   ]
  },
  {
   "cell_type": "markdown",
   "metadata": {},
   "source": [
    "Let's start with some function, `camelcase()`, which transform `'a_string_like_this'` into `'AStringLikeThise'`."
   ]
  },
  {
   "cell_type": "code",
   "execution_count": 6,
   "metadata": {},
   "outputs": [
    {
     "name": "stdout",
     "output_type": "stream",
     "text": [
      "SomeFunction\n"
     ]
    }
   ],
   "source": [
    "def camelcase(s):\n",
    "    \n",
    "    return ''.join([w.capitalize() for w in s.split('_')])\n",
    "\n",
    "print(camelcase('some_function'))"
   ]
  },
  {
   "cell_type": "markdown",
   "metadata": {},
   "source": [
    "#### The Maybe monad\n",
    "\n",
    "The Maybe monad consists of two kinds of data, which are typically called `Just` and `Nothing`. They both behave very simply:\n",
    "\n",
    "- When a function is bound to a `Just` value, the function is simply executed, and the result is stored in a new `Just` value.\n",
    "- When a function is bound to a `Nothing` value, the function is bypassed, and `Nothing` is returned right away.\n",
    "- In additon, when a function generates an error, it returns a `Nothing` value.\n",
    "\n",
    "See how similar this is to `nan` behavior?"
   ]
  },
  {
   "cell_type": "code",
   "execution_count": 7,
   "metadata": {},
   "outputs": [
    {
     "name": "stdout",
     "output_type": "stream",
     "text": [
      "SomeFunction\n",
      "Nothing\n",
      "Nothing\n"
     ]
    }
   ],
   "source": [
    "class Just:\n",
    "    \n",
    "    def __init__(self, value):\n",
    "        \n",
    "        self._value = value\n",
    "        \n",
    "    def bind(self, fnc):\n",
    "        \n",
    "        try:\n",
    "            return Just(fnc(self._value))\n",
    "        except:\n",
    "            return Nothing()\n",
    "    \n",
    "    def __repr__(self):\n",
    "        \n",
    "        return self._value\n",
    "    \n",
    "\n",
    "\n",
    "class Nothing:\n",
    "    \n",
    "    def bind(self, fnc):\n",
    "        \n",
    "        return Nothing()\n",
    "    \n",
    "    def __repr__(self):\n",
    "        \n",
    "        return 'Nothing'\n",
    "    \n",
    "    \n",
    "print(Just('some_function').bind(camelcase))\n",
    "print(Nothing().bind(camelcase))\n",
    "print(Just(10).bind(camelcase))"
   ]
  },
  {
   "cell_type": "markdown",
   "metadata": {},
   "source": [
    "#### The List monad\n",
    "\n",
    "The `List` monad stores a list of values. When it is bound to a function, each value is passed onto the function separately, and the result is stored as another `List`."
   ]
  },
  {
   "cell_type": "code",
   "execution_count": 8,
   "metadata": {},
   "outputs": [
    {
     "data": {
      "text/plain": [
       "['SomeText', 'MoreText']"
      ]
     },
     "execution_count": 8,
     "metadata": {},
     "output_type": "execute_result"
    }
   ],
   "source": [
    "class List:\n",
    "    \n",
    "    def __init__(self, values):\n",
    "        \n",
    "        self._values = values\n",
    "        \n",
    "    def bind(self, fnc):\n",
    "        \n",
    "        return List([fnc(value) for value in self._values])\n",
    "    \n",
    "    def __repr__(self):\n",
    "        \n",
    "        return str(self._values)\n",
    "    \n",
    "    \n",
    "List(['some_text', 'more_text']).bind(camelcase)"
   ]
  },
  {
   "cell_type": "markdown",
   "metadata": {},
   "source": [
    "# Memoization – Remembering Results"
   ]
  },
  {
   "cell_type": "markdown",
   "metadata": {},
   "source": [
    "#### Some functions are expensive\n",
    "\n",
    "Let's consider a function that can take a long time to execute."
   ]
  },
  {
   "cell_type": "code",
   "execution_count": 9,
   "metadata": {},
   "outputs": [
    {
     "name": "stdout",
     "output_type": "stream",
     "text": [
      "999983\n"
     ]
    }
   ],
   "source": [
    "def prime(n):\n",
    "    \"\"\"Return largest prime number that <= n\"\"\"\n",
    "    for i in range(n, 0, -1):\n",
    "        # (i // x) != (i / x) ===> i is dividable by x\n",
    "        # if all([(i // x) != (i / x) for x in range(i-1, 1, -1)]):\n",
    "        if all([i % x != 0 for x in range(i-1, 1, -1)]):\n",
    "            return i\n",
    "        \n",
    "print(prime(1000000))"
   ]
  },
  {
   "cell_type": "markdown",
   "metadata": {},
   "source": [
    "#### Caching\n",
    "\n",
    "We can speed up function calls by storing the result in a cache."
   ]
  },
  {
   "cell_type": "code",
   "execution_count": 10,
   "metadata": {},
   "outputs": [
    {
     "name": "stdout",
     "output_type": "stream",
     "text": [
      "999983\n",
      "999983\n"
     ]
    }
   ],
   "source": [
    "cache = {}\n",
    "\n",
    "def cached_prime(n):\n",
    "    \n",
    "    if n in cache:\n",
    "        return cache[n]    \n",
    "    for i in range(n, 0, -1):\n",
    "        if all([i % x != 0 for x in range(i-1, 1, -1)]):\n",
    "            cache[n] = i\n",
    "            return i\n",
    "        \n",
    "print(cached_prime(1000000))\n",
    "print(cached_prime(1000000))"
   ]
  },
  {
   "cell_type": "markdown",
   "metadata": {},
   "source": [
    "#### Memoization\n",
    "\n",
    "Memoization is a type of caching in which return values are stored for specific arguments. Therefore, the implementation above is an example of memoization. But it can be implemented more elegantly using a decorator!"
   ]
  },
  {
   "cell_type": "code",
   "execution_count": 11,
   "metadata": {},
   "outputs": [
    {
     "name": "stdout",
     "output_type": "stream",
     "text": [
      "999983\n",
      "999983\n"
     ]
    }
   ],
   "source": [
    "def memoize(fnc):\n",
    "    \n",
    "    cache = {}\n",
    "    \n",
    "    def inner(*args):\n",
    "        \n",
    "        if args in cache:\n",
    "            return cache[args]\n",
    "        cache[args] = fnc(*args)\n",
    "        return cache[args]\n",
    "    \n",
    "    return inner\n",
    "\n",
    "\n",
    "@memoize\n",
    "def memoized_prime(n):\n",
    "    \n",
    "    for i in range(n, 0, -1):\n",
    "        if all([i % x != 0 for x in range(i-1, 1, -1)]):\n",
    "            return i\n",
    "        \n",
    "\n",
    "print(memoized_prime(1000000))\n",
    "print(memoized_prime(1000000))"
   ]
  }
 ],
 "metadata": {
  "kernelspec": {
   "display_name": "Python 3.10.5 64-bit (windows store)",
   "language": "python",
   "name": "python3"
  },
  "language_info": {
   "codemirror_mode": {
    "name": "ipython",
    "version": 3
   },
   "file_extension": ".py",
   "mimetype": "text/x-python",
   "name": "python",
   "nbconvert_exporter": "python",
   "pygments_lexer": "ipython3",
   "version": "3.10.5"
  },
  "orig_nbformat": 4,
  "vscode": {
   "interpreter": {
    "hash": "3822405be9f5fb329f7270cbdcf73e762c62b3f383c5e71390a1a4648678c1cb"
   }
  }
 },
 "nbformat": 4,
 "nbformat_minor": 2
}
