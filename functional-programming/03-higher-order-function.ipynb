{
 "cells": [
  {
   "cell_type": "markdown",
   "metadata": {},
   "source": [
    "# Higher Order Functions\n",
    "\n",
    "- Higher Order Functions : function as arguments and return values"
   ]
  },
  {
   "cell_type": "markdown",
   "metadata": {},
   "source": [
    "# Function as Arguments"
   ]
  },
  {
   "cell_type": "markdown",
   "metadata": {},
   "source": [
    "## Let's start with our factorial function\n",
    "\n",
    "For no particular reason. We just need a function that we can time!"
   ]
  },
  {
   "cell_type": "code",
   "execution_count": 1,
   "metadata": {},
   "outputs": [],
   "source": [
    "l_factorial = lambda n: 1 if n == 0 else n*l_factorial(n-1)"
   ]
  },
  {
   "cell_type": "markdown",
   "metadata": {},
   "source": [
    "## Timing\n",
    "\n",
    "### The procedural way, going line by line\n",
    "\n",
    "Factorial is a recursive and hence time-consuming operation. Let's see how long it takes."
   ]
  },
  {
   "cell_type": "code",
   "execution_count": 2,
   "metadata": {},
   "outputs": [
    {
     "name": "stdout",
     "output_type": "stream",
     "text": [
      "Took: 0.00108 s\n"
     ]
    }
   ],
   "source": [
    "import time\n",
    "\n",
    "t0 = time.time()\n",
    "l_factorial(900)\n",
    "t1 = time.time()\n",
    "print('Took: %.5f s' % (t1-t0))"
   ]
  },
  {
   "cell_type": "markdown",
   "metadata": {},
   "source": [
    "### The functional way, with a wrapper function\n",
    "\n",
    "But a better way is to write a wrapper function that times every function that's passed onto it!"
   ]
  },
  {
   "cell_type": "code",
   "execution_count": 3,
   "metadata": {},
   "outputs": [
    {
     "name": "stdout",
     "output_type": "stream",
     "text": [
      "Took: 0.00000 s\n"
     ]
    }
   ],
   "source": [
    "def timer(fnc, *arg):\n",
    "    \n",
    "    t0 = time.time()\n",
    "    fnc(*arg)\n",
    "    t1 = time.time()\n",
    "    return t1-t0\n",
    "\n",
    "print('Took: %.5f s' % timer(l_factorial, 900))"
   ]
  },
  {
   "cell_type": "markdown",
   "metadata": {},
   "source": [
    "### The fully functional way, with lambda wrapper functions\n",
    "\n",
    "We can even turn `timer()` into a lambda function, although it takes a pretty functional state of mind to do so!"
   ]
  },
  {
   "cell_type": "code",
   "execution_count": 4,
   "metadata": {},
   "outputs": [
    {
     "name": "stdout",
     "output_type": "stream",
     "text": [
      "Took: 0.00981 s\n"
     ]
    }
   ],
   "source": [
    "l_timestamp = lambda fnc, *arg: (time.time(), fnc(*arg), time.time())\n",
    "l_diff = lambda t0, retval, t1: t1-t0\n",
    "l_timer = lambda fnc, arg: l_diff(*l_timestamp(fnc, arg))\n",
    "\n",
    "print('Took: %.5f s' % l_timer(l_factorial, 900))"
   ]
  },
  {
   "cell_type": "markdown",
   "metadata": {},
   "source": [
    "# Nested Functions"
   ]
  },
  {
   "cell_type": "markdown",
   "metadata": {},
   "source": [
    "#### Inner and outer functions\n",
    "\n",
    "Let's start by defining a very basic nested function."
   ]
  },
  {
   "cell_type": "code",
   "execution_count": 5,
   "metadata": {},
   "outputs": [
    {
     "name": "stdout",
     "output_type": "stream",
     "text": [
      "I'm inner\n"
     ]
    }
   ],
   "source": [
    "def outer():\n",
    "    \n",
    "    def inner():\n",
    "        \n",
    "        print('I\\'m inner')\n",
    "    \n",
    "    inner()\n",
    "\n",
    "outer()"
   ]
  },
  {
   "cell_type": "markdown",
   "metadata": {},
   "source": [
    "Now let's all function refer to a variable `x`. This is *the same* variable, the global variable x, in all cases."
   ]
  },
  {
   "cell_type": "code",
   "execution_count": 6,
   "metadata": {},
   "outputs": [
    {
     "name": "stdout",
     "output_type": "stream",
     "text": [
      "Global (before): global\n",
      "Outer (before):\t global\n",
      "Inner:\t\t global\n",
      "Outer (after):\t global\n",
      "Global (after):  global\n"
     ]
    }
   ],
   "source": [
    "def outer():\n",
    "    \n",
    "    def inner():\n",
    "        \n",
    "        print('Inner:\\t\\t', x)\n",
    "    \n",
    "    print('Outer (before):\\t', x)\n",
    "    inner()\n",
    "    print('Outer (after):\\t', x)\n",
    "\n",
    "    \n",
    "x = 'global'\n",
    "print('Global (before):', x)\n",
    "outer()\n",
    "print('Global (after): ', x)"
   ]
  },
  {
   "cell_type": "markdown",
   "metadata": {},
   "source": [
    "#### Controlling the variable scope with `global` and `nonlocal`\n",
    "\n",
    "But as soon as the function assign a new value to `x`, they create their own local variable `x`. So now there are three variables `x`: at the global level, at the level of `outer()`, and at the level of `inner()`. But we can change this using two statements:\n",
    "\n",
    "  - `global` binds a variable to the global level\n",
    "  - `nonlocal` (Python >= 3) binds a variable to one level higher"
   ]
  },
  {
   "cell_type": "code",
   "execution_count": 7,
   "metadata": {},
   "outputs": [
    {
     "name": "stdout",
     "output_type": "stream",
     "text": [
      "Global (before): global\n",
      "Outer (before):\t outer\n",
      "Inner:\t\t inner\n",
      "Outer (after):\t outer\n",
      "Global (after):  inner\n"
     ]
    }
   ],
   "source": [
    "def outer():\n",
    "    \n",
    "    def inner():\n",
    "        \n",
    "        # nonlocal x\n",
    "        global x\n",
    "        x = 'inner'\n",
    "        print('Inner:\\t\\t', x)\n",
    "    \n",
    "    x = 'outer'\n",
    "    print('Outer (before):\\t', x)\n",
    "    inner()\n",
    "    print('Outer (after):\\t', x)\n",
    "\n",
    "    \n",
    "x = 'global'\n",
    "print('Global (before):', x)\n",
    "outer()\n",
    "print('Global (after): ', x)"
   ]
  },
  {
   "cell_type": "markdown",
   "metadata": {},
   "source": [
    "# Functions as return values"
   ]
  },
  {
   "cell_type": "markdown",
   "metadata": {},
   "source": [
    "#### Four steps to baking a (pre-baked) croissant\n",
    "\n",
    "In the weekend, I often eat pre-baked croissants for breakfast. To bake them, you need to perform four steps:"
   ]
  },
  {
   "cell_type": "code",
   "execution_count": 8,
   "metadata": {},
   "outputs": [],
   "source": [
    "preheat_oven = lambda: print('Preheating oven')\n",
    "put_croissants_in = lambda: print('Putting croissants in')\n",
    "wait_five_minutes = lambda: print('Waiting five minutes')\n",
    "take_croissants_out = lambda: print('Take croissants out (and eat them!)')"
   ]
  },
  {
   "cell_type": "markdown",
   "metadata": {},
   "source": [
    "Now let's perform all these steps in order!"
   ]
  },
  {
   "cell_type": "code",
   "execution_count": 9,
   "metadata": {},
   "outputs": [
    {
     "name": "stdout",
     "output_type": "stream",
     "text": [
      "Preheating oven\n",
      "Putting croissants in\n",
      "Waiting five minutes\n",
      "Take croissants out (and eat them!)\n"
     ]
    }
   ],
   "source": [
    "preheat_oven()\n",
    "put_croissants_in()\n",
    "wait_five_minutes()\n",
    "take_croissants_out()"
   ]
  },
  {
   "cell_type": "markdown",
   "metadata": {},
   "source": [
    "#### Passing all steps to a launcher function\n",
    "\n",
    "Alternatively, we can create a launcher function (`peform_recipe()`) to which we pass all functions, and which then performs all these functions for us. This is, by itself, not very useful."
   ]
  },
  {
   "cell_type": "code",
   "execution_count": 10,
   "metadata": {},
   "outputs": [
    {
     "name": "stdout",
     "output_type": "stream",
     "text": [
      "Preheating oven\n",
      "Putting croissants in\n",
      "Waiting five minutes\n",
      "Take croissants out (and eat them!)\n"
     ]
    }
   ],
   "source": [
    "def perform_steps(*functions):\n",
    "    \n",
    "    for function in functions:\n",
    "        function()\n",
    "        \n",
    "        \n",
    "perform_steps(preheat_oven,\n",
    "    put_croissants_in,\n",
    "    wait_five_minutes,\n",
    "    take_croissants_out)"
   ]
  },
  {
   "cell_type": "markdown",
   "metadata": {},
   "source": [
    "#### Wrapping all steps into a single recipe\n",
    "\n",
    "But we can go even further! We can create a `create_recipe()` function that takes all functions, and returns a new function that executes all the passed functions for us!"
   ]
  },
  {
   "cell_type": "code",
   "execution_count": 11,
   "metadata": {},
   "outputs": [
    {
     "name": "stdout",
     "output_type": "stream",
     "text": [
      "Preheating oven\n",
      "Putting croissants in\n",
      "Waiting five minutes\n",
      "Take croissants out (and eat them!)\n"
     ]
    }
   ],
   "source": [
    "def create_recipe(*functions):\n",
    "    \n",
    "    def run_all():\n",
    "        \n",
    "        for function in functions:\n",
    "            function()\n",
    "            \n",
    "    return run_all\n",
    "\n",
    "\n",
    "recipe = create_recipe(preheat_oven,\n",
    "    put_croissants_in,\n",
    "    wait_five_minutes,\n",
    "    take_croissants_out)\n",
    "recipe()"
   ]
  },
  {
   "cell_type": "markdown",
   "metadata": {},
   "source": [
    "# The operator module"
   ]
  },
  {
   "cell_type": "markdown",
   "metadata": {},
   "source": [
    "Let's take our old friend: the factorial function!"
   ]
  },
  {
   "cell_type": "code",
   "execution_count": 12,
   "metadata": {},
   "outputs": [
    {
     "data": {
      "text/plain": [
       "6"
      ]
     },
     "execution_count": 12,
     "metadata": {},
     "output_type": "execute_result"
    }
   ],
   "source": [
    "l_factorial = lambda n: 1 if n == 0 else n*l_factorial(n-1)\n",
    "l_factorial(3)"
   ]
  },
  {
   "cell_type": "markdown",
   "metadata": {},
   "source": [
    "#### Chaining functions and combining return values\n",
    "\n",
    "Say that we want to call this function a number of times, with different arguments, and do something with the return values. How can we do that?"
   ]
  },
  {
   "cell_type": "code",
   "execution_count": 13,
   "metadata": {},
   "outputs": [
    {
     "data": {
      "text/plain": [
       "12"
      ]
     },
     "execution_count": 13,
     "metadata": {},
     "output_type": "execute_result"
    }
   ],
   "source": [
    "def chain_mul(*what):\n",
    "    \n",
    "    \"\"\"Takes a list of (function, argument) tuples. Calls each\n",
    "    function with its argument, multiplies up the return values,\n",
    "    (starting at 1) and returns the total.\"\"\"\n",
    "    \n",
    "    total = 1\n",
    "    for (fnc, arg) in what:\n",
    "        total *= fnc(arg)\n",
    "    return total\n",
    "\n",
    "\n",
    "chain_mul( (l_factorial, 2), (l_factorial, 3) )"
   ]
  },
  {
   "cell_type": "markdown",
   "metadata": {},
   "source": [
    "#### Operators as regular functions\n",
    "\n",
    "The function above is not very general: it can only multiple values, not multiply or subtract them. Ideally, we would pass an operator to the function as well. But `*` is syntax and not an object that we can pass! Fortunately, the Python's built-in `operator` module offers all operators as regular functions."
   ]
  },
  {
   "cell_type": "code",
   "execution_count": 14,
   "metadata": {},
   "outputs": [
    {
     "data": {
      "text/plain": [
       "0.08333333333333333"
      ]
     },
     "execution_count": 14,
     "metadata": {},
     "output_type": "execute_result"
    }
   ],
   "source": [
    "import operator\n",
    "\n",
    "\n",
    "def chain(how, *what):\n",
    "        \n",
    "    total = 1\n",
    "    for (fnc, arg) in what:\n",
    "        total = how(total, fnc(arg))\n",
    "    return total\n",
    "\n",
    "\n",
    "chain(operator.truediv, (l_factorial, 2), (l_factorial, 3))"
   ]
  },
  {
   "cell_type": "code",
   "execution_count": 15,
   "metadata": {},
   "outputs": [
    {
     "data": {
      "text/plain": [
       "12"
      ]
     },
     "execution_count": 15,
     "metadata": {},
     "output_type": "execute_result"
    }
   ],
   "source": [
    "chain(operator.mul, (l_factorial, 2), (l_factorial, 3))"
   ]
  },
  {
   "cell_type": "markdown",
   "metadata": {},
   "source": [
    "# Decorators"
   ]
  },
  {
   "cell_type": "markdown",
   "metadata": {},
   "source": [
    "#### Let's start with our factorial function\n",
    "\n",
    "For no particular reason. We just need a function that we can time!"
   ]
  },
  {
   "cell_type": "code",
   "execution_count": 16,
   "metadata": {},
   "outputs": [],
   "source": [
    "def factorial(n):\n",
    "    \n",
    "    return 1 if n == 0 else n*factorial(n-1)"
   ]
  },
  {
   "cell_type": "markdown",
   "metadata": {},
   "source": [
    "#### Another way of timing a function\n",
    "\n",
    "Here's another way to time a function: by writing a wrapper function (`timer()`) that takes a function as an argument (`fnc`), and returns a new function that times and executes `fnc`!"
   ]
  },
  {
   "cell_type": "code",
   "execution_count": 17,
   "metadata": {},
   "outputs": [
    {
     "data": {
      "text/plain": [
       "0.0004956722259521484"
      ]
     },
     "execution_count": 17,
     "metadata": {},
     "output_type": "execute_result"
    }
   ],
   "source": [
    "import time\n",
    "\n",
    "def timer(fnc):\n",
    "    \n",
    "    def inner(arg):\n",
    "        \n",
    "        t0 = time.time()\n",
    "        fnc(arg)\n",
    "        t1 = time.time()\n",
    "        return t1-t0\n",
    "    \n",
    "    return inner\n",
    "\n",
    "\n",
    "timed_factorial = timer(factorial)\n",
    "timed_factorial(500)"
   ]
  },
  {
   "cell_type": "markdown",
   "metadata": {},
   "source": [
    "#### That's a decorator! (But there's a nicer syntax)\n",
    "\n",
    "The `timer` function that we've defined above is a decorator. You can apply a decorator to a function directly, using the `@` syntax."
   ]
  },
  {
   "cell_type": "code",
   "execution_count": 18,
   "metadata": {},
   "outputs": [
    {
     "data": {
      "text/plain": [
       "0.0"
      ]
     },
     "execution_count": 18,
     "metadata": {},
     "output_type": "execute_result"
    }
   ],
   "source": [
    "@timer\n",
    "def timed_factorial(n):\n",
    "    \n",
    "    return 1 if n == 0 else n*factorial(n-1)\n",
    "\n",
    "timed_factorial(500)"
   ]
  },
  {
   "cell_type": "markdown",
   "metadata": {},
   "source": [
    "# Decorator with arguments"
   ]
  },
  {
   "cell_type": "markdown",
   "metadata": {},
   "source": [
    "#### Let's start with our factorial function\n",
    "\n",
    "For no particular reason. We just need a function that we can time!"
   ]
  },
  {
   "cell_type": "code",
   "execution_count": 19,
   "metadata": {},
   "outputs": [],
   "source": [
    "def factorial(n):\n",
    "    \n",
    "    return 1 if n == 0 else n*factorial(n-1)"
   ]
  },
  {
   "cell_type": "markdown",
   "metadata": {},
   "source": [
    "#### What if we want to specify the units of time?\n",
    "\n",
    "If we want to specify the units of time (seconds or milliseconds), we need to provide the units of time as arguments to the decorator. We can do this, but it requires another level of nesting!"
   ]
  },
  {
   "cell_type": "code",
   "execution_count": 20,
   "metadata": {},
   "outputs": [
    {
     "data": {
      "text/plain": [
       "61.55848503112793"
      ]
     },
     "execution_count": 20,
     "metadata": {},
     "output_type": "execute_result"
    }
   ],
   "source": [
    "import time\n",
    "\n",
    "\n",
    "def timer_with_arguments(units='s'):\n",
    "\n",
    "    def timer(fnc):\n",
    "\n",
    "        def inner(arg):\n",
    "\n",
    "            \"\"\"Inner function\"\"\"\n",
    "\n",
    "            t0 = time.time()\n",
    "            fnc(arg)\n",
    "            t1 = time.time()        \n",
    "            diff = t1-t0\n",
    "            if units == 'ms':\n",
    "                diff *= 1000\n",
    "            return diff\n",
    "\n",
    "        return inner\n",
    "    \n",
    "    return timer\n",
    "\n",
    "\n",
    "timed_factorial = timer_with_arguments(units='ms')(factorial)\n",
    "timed_factorial(1000)"
   ]
  },
  {
   "cell_type": "markdown",
   "metadata": {},
   "source": [
    "#### That's a decorator with arguments!\n",
    "\n",
    "\n",
    "Again, using the `@` syntax, this is gives very clean code!"
   ]
  },
  {
   "cell_type": "code",
   "execution_count": 26,
   "metadata": {},
   "outputs": [
    {
     "data": {
      "text/plain": [
       "0.5052089691162109"
      ]
     },
     "execution_count": 26,
     "metadata": {},
     "output_type": "execute_result"
    }
   ],
   "source": [
    "@timer_with_arguments(units='ms')\n",
    "def factorial(n):\n",
    "    \n",
    "    return 1 if n == 0 else n*factorial(n-1)\n",
    "\n",
    "\n",
    "factorial(1000)"
   ]
  }
 ],
 "metadata": {
  "kernelspec": {
   "display_name": "Python 3.10.5 64-bit (windows store)",
   "language": "python",
   "name": "python3"
  },
  "language_info": {
   "codemirror_mode": {
    "name": "ipython",
    "version": 3
   },
   "file_extension": ".py",
   "mimetype": "text/x-python",
   "name": "python",
   "nbconvert_exporter": "python",
   "pygments_lexer": "ipython3",
   "version": "3.10.5"
  },
  "orig_nbformat": 4,
  "vscode": {
   "interpreter": {
    "hash": "3822405be9f5fb329f7270cbdcf73e762c62b3f383c5e71390a1a4648678c1cb"
   }
  }
 },
 "nbformat": 4,
 "nbformat_minor": 2
}
