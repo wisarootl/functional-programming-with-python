{
 "cells": [
  {
   "cell_type": "markdown",
   "metadata": {},
   "source": [
    "# Built-in iterators"
   ]
  },
  {
   "cell_type": "markdown",
   "metadata": {},
   "source": [
    "iterators: object that contains multiple objects "
   ]
  },
  {
   "cell_type": "markdown",
   "metadata": {},
   "source": [
    "- ordered iterator: predictable order of element\n",
    "- unordered iterator: unpredictable order of element"
   ]
  },
  {
   "cell_type": "markdown",
   "metadata": {},
   "source": [
    "# List"
   ]
  },
  {
   "cell_type": "markdown",
   "metadata": {},
   "source": [
    "- List is mutable and ordered"
   ]
  },
  {
   "cell_type": "markdown",
   "metadata": {},
   "source": [
    "#### Basic list operations\n",
    "\n",
    "- A `list` is initialized with a square brackets around comma-separated elements\n",
    "- A `list` element can be any Python object\n",
    "- Add elements with `l.append()` and `l.insert()`\n",
    "- Remove elements `l.pop()` and `l.remove()`"
   ]
  },
  {
   "cell_type": "code",
   "execution_count": 1,
   "metadata": {},
   "outputs": [
    {
     "name": "stdout",
     "output_type": "stream",
     "text": [
      "['Paris', 'Budapest']\n"
     ]
    }
   ],
   "source": [
    "l = ['Paris', 'Oslo', 'Budapest']\n",
    "l.remove('Oslo')\n",
    "print(l)"
   ]
  },
  {
   "cell_type": "markdown",
   "metadata": {},
   "source": [
    "#### Slicing\n",
    "\n",
    "*Works with all built-in iterators, except `set` objects*\n",
    "\n",
    "- Get a single element through its position: `l[position]`\n",
    "- Get multiple elements through slicing: `l[from:to:steps]`\n",
    "- Negative steps reverse the order!"
   ]
  },
  {
   "cell_type": "code",
   "execution_count": 2,
   "metadata": {},
   "outputs": [
    {
     "name": "stdout",
     "output_type": "stream",
     "text": [
      "['Budapest', 'Oslo', 'Paris']\n"
     ]
    }
   ],
   "source": [
    "l = ['Paris', 'Oslo', 'Budapest']\n",
    "print(l[::-1])"
   ]
  },
  {
   "cell_type": "markdown",
   "metadata": {},
   "source": [
    "#### Copying\n",
    "\n",
    "To create a copy of a `list`, you need to explicitly use `l.copy()` or get a complete slice: `l[:]`"
   ]
  },
  {
   "cell_type": "code",
   "execution_count": 3,
   "metadata": {},
   "outputs": [
    {
     "name": "stdout",
     "output_type": "stream",
     "text": [
      "['Paris', 'Oslo', 'Budapest'] ['Paris', 'Oslo', 'Budapest', 'Kiev']\n"
     ]
    }
   ],
   "source": [
    "l1 = ['Paris', 'Oslo', 'Budapest']\n",
    "l2 = l1[:]\n",
    "l2.append('Kiev')\n",
    "print(l1, l2)"
   ]
  },
  {
   "cell_type": "markdown",
   "metadata": {},
   "source": [
    "# Tuple"
   ]
  },
  {
   "cell_type": "markdown",
   "metadata": {},
   "source": [
    "- Tuple is immutable and ordered"
   ]
  },
  {
   "cell_type": "markdown",
   "metadata": {},
   "source": [
    "#### Basic tuple operations\n",
    "\n",
    "- A `tuple` is just a comma-separated sequence of elements, or surrounded by parentheses if this is required to avoid ambiguity\n",
    "- A `tuple` element can be any Python object\n",
    "- A `tuple` is immutable, so you cannot `append()`, `insert()`, `pop()`, or `remove()` elements\n",
    "- But you can concatenate (`+`), which creates a new `tuple`"
   ]
  },
  {
   "cell_type": "code",
   "execution_count": 4,
   "metadata": {},
   "outputs": [
    {
     "name": "stdout",
     "output_type": "stream",
     "text": [
      "('John', 24, 'Berlin')\n"
     ]
    }
   ],
   "source": [
    "t = 'John', 24\n",
    "t = t + ('Berlin',)\n",
    "print(t)"
   ]
  },
  {
   "cell_type": "markdown",
   "metadata": {},
   "source": [
    "#### Working with sequences\n",
    "\n",
    "*Works with all built-in sequences*\n",
    "\n",
    "Python offers a clean syntax to perform common operations and checks with sequences:\n",
    "\n",
    "- Loop through elements with `for`\n",
    "- Check if an element exists with `in`\n",
    "- Repeat with `*`\n",
    "- Check number of elements with `len()`\n",
    "- Etc."
   ]
  },
  {
   "cell_type": "code",
   "execution_count": 9,
   "metadata": {},
   "outputs": [
    {
     "name": "stdout",
     "output_type": "stream",
     "text": [
      "John\n",
      "24\n",
      "Berlin\n"
     ]
    }
   ],
   "source": [
    "for e in t:\n",
    "  print(e)"
   ]
  },
  {
   "cell_type": "code",
   "execution_count": 10,
   "metadata": {},
   "outputs": [
    {
     "data": {
      "text/plain": [
       "True"
      ]
     },
     "execution_count": 10,
     "metadata": {},
     "output_type": "execute_result"
    }
   ],
   "source": [
    "'John' in t"
   ]
  },
  {
   "cell_type": "code",
   "execution_count": 11,
   "metadata": {},
   "outputs": [
    {
     "data": {
      "text/plain": [
       "('John', 24, 'Berlin', 'John', 24, 'Berlin', 'John', 24, 'Berlin')"
      ]
     },
     "execution_count": 11,
     "metadata": {},
     "output_type": "execute_result"
    }
   ],
   "source": [
    "3 * t"
   ]
  },
  {
   "cell_type": "code",
   "execution_count": 5,
   "metadata": {},
   "outputs": [
    {
     "data": {
      "text/plain": [
       "9"
      ]
     },
     "execution_count": 5,
     "metadata": {},
     "output_type": "execute_result"
    }
   ],
   "source": [
    "len(3 * t)"
   ]
  },
  {
   "cell_type": "markdown",
   "metadata": {},
   "source": [
    "# Dict"
   ]
  },
  {
   "cell_type": "markdown",
   "metadata": {},
   "source": [
    "- dict is mutable and unordered"
   ]
  },
  {
   "cell_type": "markdown",
   "metadata": {},
   "source": [
    "#### Basic dict operations\n",
    "\n",
    "- A `dict` is defined using curly braces (`{}`) with key-value mappings\n",
    "- Both the keys and values can be any Python object—or almost, because keys must be hashable (but most objects are)"
   ]
  },
  {
   "cell_type": "code",
   "execution_count": 12,
   "metadata": {},
   "outputs": [
    {
     "name": "stdout",
     "output_type": "stream",
     "text": [
      "{'Praying Mantis': 'Insect', 'Whale': 'Mammal'}\n"
     ]
    }
   ],
   "source": [
    "d = {\n",
    "    'Praying Mantis'    : 'Insect',\n",
    "    'Whale'             : 'Mammal'\n",
    "}\n",
    "print(d)"
   ]
  },
  {
   "cell_type": "markdown",
   "metadata": {},
   "source": [
    "A `dict` is mutable, so you can add and remove elements."
   ]
  },
  {
   "cell_type": "code",
   "execution_count": 14,
   "metadata": {},
   "outputs": [],
   "source": [
    "del d['Whale']"
   ]
  },
  {
   "cell_type": "code",
   "execution_count": 15,
   "metadata": {},
   "outputs": [
    {
     "name": "stdout",
     "output_type": "stream",
     "text": [
      "{'Praying Mantis': 'Insect', 'Lizard': 'Reptile'}\n"
     ]
    }
   ],
   "source": [
    "d['Lizard'] = 'Reptile'\n",
    "print(d)"
   ]
  },
  {
   "cell_type": "markdown",
   "metadata": {},
   "source": [
    "#### Iterating through a `dict`\n",
    "\n",
    "- By default, a `dict` iterates over its keys\n",
    "- But you can also iterate over its values using `d.values()`\n",
    "- Or iterate over `key, value` tuples using `d.items()` or (destructively) using `d.popitem()`\n",
    "\n",
    "*Important:* Don't assume that elements are returned in a particular order! (Even though some implementations of Python do that.)"
   ]
  },
  {
   "cell_type": "code",
   "execution_count": 18,
   "metadata": {},
   "outputs": [
    {
     "name": "stdout",
     "output_type": "stream",
     "text": [
      "Praying Mantis\n",
      "Whale\n",
      "Lizard\n"
     ]
    }
   ],
   "source": [
    "d = {\n",
    "    'Praying Mantis'    : 'Insect',\n",
    "    'Whale'             : 'Mammal',\n",
    "    'Lizard'            : 'Reptile'\n",
    "}\n",
    "\n",
    "for species in d:\n",
    "  print(species)"
   ]
  },
  {
   "cell_type": "code",
   "execution_count": 20,
   "metadata": {},
   "outputs": [
    {
     "name": "stdout",
     "output_type": "stream",
     "text": [
      "Insect\n",
      "Mammal\n",
      "Reptile\n"
     ]
    }
   ],
   "source": [
    "for class_ in d.values():\n",
    "  print(class_)"
   ]
  },
  {
   "cell_type": "code",
   "execution_count": 21,
   "metadata": {},
   "outputs": [
    {
     "name": "stdout",
     "output_type": "stream",
     "text": [
      "Praying Mantis Insect\n",
      "Whale Mammal\n",
      "Lizard Reptile\n"
     ]
    }
   ],
   "source": [
    "for species, class_ in d.items():\n",
    "  print(species, class_)"
   ]
  },
  {
   "cell_type": "code",
   "execution_count": 17,
   "metadata": {},
   "outputs": [
    {
     "name": "stdout",
     "output_type": "stream",
     "text": [
      "{}\n"
     ]
    }
   ],
   "source": [
    "while d:\n",
    "    species, class_ = d.popitem()\n",
    "    print(species, class_)\n",
    "print(d)"
   ]
  },
  {
   "cell_type": "markdown",
   "metadata": {},
   "source": [
    "# set"
   ]
  },
  {
   "cell_type": "markdown",
   "metadata": {},
   "source": [
    "- set is immutable and unordered\n",
    "- unique elements"
   ]
  },
  {
   "cell_type": "markdown",
   "metadata": {},
   "source": [
    "#### Basic set operations\n",
    "\n",
    "- A `set` is defined using curly braces (`{}`) with comma-separated elements\n",
    "- Elements can be any hashable Python object"
   ]
  },
  {
   "cell_type": "code",
   "execution_count": 22,
   "metadata": {},
   "outputs": [
    {
     "name": "stdout",
     "output_type": "stream",
     "text": [
      "{'Whale', 'Human', 'Cat', 'Dog'}\n"
     ]
    }
   ],
   "source": [
    "mammals = {'Human', 'Whale', 'Dog', 'Cat'}\n",
    "print(mammals)"
   ]
  },
  {
   "cell_type": "markdown",
   "metadata": {},
   "source": [
    "You can add and remove elements. Adding an element that was already in the `set` does nothing."
   ]
  },
  {
   "cell_type": "code",
   "execution_count": 23,
   "metadata": {},
   "outputs": [
    {
     "name": "stdout",
     "output_type": "stream",
     "text": [
      "{'Whale', 'Cat', 'Human', 'Mouse'}\n"
     ]
    }
   ],
   "source": [
    "mammals.add('Mouse')\n",
    "mammals.remove('Dog')\n",
    "print(mammals)"
   ]
  },
  {
   "cell_type": "markdown",
   "metadata": {},
   "source": [
    "#### Set theory\n",
    "\n",
    "The standard mathematical operations of set theory are supported.\n",
    "\n",
    "- `s1.union(s2)` or `s1 | s2`\n",
    "- `s1.intersection(s2)` or `s1 & s2`\n",
    "- `s1.difference(s2)` or `s1 - s2`\n",
    "- `s1.issubset(s2)` or `s1 < s2`\n",
    "- `s1.issuperset(s2)` or `s1 > s2`\n",
    "- etc.\n"
   ]
  },
  {
   "cell_type": "code",
   "execution_count": 24,
   "metadata": {},
   "outputs": [
    {
     "name": "stdout",
     "output_type": "stream",
     "text": [
      "False\n"
     ]
    }
   ],
   "source": [
    "mammals = {'Human', 'Whale', 'Dog', 'Cat'}\n",
    "pets = {'Dog', 'Cat', 'Goldfish'}\n",
    "\n",
    "print(mammals > pets)"
   ]
  },
  {
   "cell_type": "markdown",
   "metadata": {},
   "source": [
    "# unpacking iterators"
   ]
  },
  {
   "cell_type": "markdown",
   "metadata": {},
   "source": [
    "#### Iterator unpacking\n",
    "\n",
    "When the right side of an assignment consists of multiple values, you get a list or a tuple. This is a regular assignment, and allows you to construct `tuple`s, `list`s, and `set`s."
   ]
  },
  {
   "cell_type": "code",
   "execution_count": 25,
   "metadata": {},
   "outputs": [],
   "source": [
    "animals = 'Praying Mantis', 'Ant', 'Whale', 'Lizard'"
   ]
  },
  {
   "cell_type": "markdown",
   "metadata": {},
   "source": [
    "But the left side can also consist of multiple variables! This is called *unpacking* or *multiple assignment*.\n"
   ]
  },
  {
   "cell_type": "code",
   "execution_count": 26,
   "metadata": {},
   "outputs": [
    {
     "name": "stdout",
     "output_type": "stream",
     "text": [
      "Praying Mantis Ant Whale Lizard\n"
     ]
    }
   ],
   "source": [
    "a1, a2, a3, a4 = animals\n",
    "print(a1, a2, a3, a4)"
   ]
  },
  {
   "cell_type": "markdown",
   "metadata": {},
   "source": [
    "#### Unpacking nested iterators\n",
    "\n",
    "Iterators that consist of iterators can be unpacked in one go!"
   ]
  },
  {
   "cell_type": "code",
   "execution_count": 27,
   "metadata": {},
   "outputs": [
    {
     "name": "stdout",
     "output_type": "stream",
     "text": [
      "Praying Mantis Ant Whale Lizard\n"
     ]
    }
   ],
   "source": [
    "animals_by_class = ('Praying Mantis', 'Ant'), 'Whale', 'Lizard'\n",
    "(a1, a2), a3, a4 = animals_by_class\n",
    "print(a1, a2, a3, a4)"
   ]
  },
  {
   "cell_type": "code",
   "execution_count": 34,
   "metadata": {},
   "outputs": [
    {
     "name": "stdout",
     "output_type": "stream",
     "text": [
      "Praying Mantis ['Ant', 'Whale'] Lizard\n"
     ]
    }
   ],
   "source": [
    "a1, *rest, a2 = animals\n",
    "print(a1, rest, a2)"
   ]
  },
  {
   "cell_type": "markdown",
   "metadata": {},
   "source": [
    "#### Unpacking an iterator with an unknown length\n",
    "\n",
    "- Or: Star unpacking\n",
    "- Or: Extended iterator unpacking\n",
    "\n",
    "*Note for Python 2: This is only supported in Python 3*\n",
    "\n",
    "If you don't know how long an iterator is, you can capture the first and last items, and capture all the middle items in a rest variable.\n"
   ]
  },
  {
   "cell_type": "code",
   "execution_count": 28,
   "metadata": {},
   "outputs": [
    {
     "name": "stdout",
     "output_type": "stream",
     "text": [
      "Praying Mantis ['Ant', 'Whale'] Lizard\n"
     ]
    }
   ],
   "source": [
    "animals = 'Praying Mantis', 'Ant', 'Whale', 'Lizard'\n",
    "a1, *rest, a2 = animals\n",
    "print(a1, rest, a2)"
   ]
  },
  {
   "cell_type": "markdown",
   "metadata": {},
   "source": [
    "#### Unpacking a `dict`\n",
    "\n",
    "If you directly unpack a `dict`, you get the keys (in an unpredictable order!)."
   ]
  },
  {
   "cell_type": "code",
   "execution_count": 35,
   "metadata": {},
   "outputs": [
    {
     "name": "stdout",
     "output_type": "stream",
     "text": [
      "Praying Mantis Ant Whale Lizard\n"
     ]
    }
   ],
   "source": [
    "animals_and_classes = {\n",
    "    'Praying Mantis'    : 'Insect',\n",
    "    'Ant'               : 'Insect',\n",
    "    'Whale'             : 'Mammal',\n",
    "    'Lizard'            : 'Reptile'\n",
    "}\n",
    "\n",
    "a1, a2, a3, a4 = animals_and_classes\n",
    "print(a1, a2, a3, a4)"
   ]
  },
  {
   "cell_type": "markdown",
   "metadata": {},
   "source": [
    "To get the keys and the values, you can use the `dict.items()` function, and then unpack the result as a nested iterator."
   ]
  },
  {
   "cell_type": "code",
   "execution_count": 36,
   "metadata": {},
   "outputs": [
    {
     "name": "stdout",
     "output_type": "stream",
     "text": [
      "Praying Mantis Insect\n",
      "Ant Insect\n",
      "Whale Mammal\n",
      "Lizard Reptile\n"
     ]
    }
   ],
   "source": [
    "(k1, v1), (k2, v2), (k3, v3), (k4, v4) = animals_and_classes.items()\n",
    "print(k1, v1)\n",
    "print(k2, v2)\n",
    "print(k3, v3)\n",
    "print(k4, v4)"
   ]
  }
 ],
 "metadata": {
  "kernelspec": {
   "display_name": "Python 3.10.5 64-bit (windows store)",
   "language": "python",
   "name": "python3"
  },
  "language_info": {
   "codemirror_mode": {
    "name": "ipython",
    "version": 3
   },
   "file_extension": ".py",
   "mimetype": "text/x-python",
   "name": "python",
   "nbconvert_exporter": "python",
   "pygments_lexer": "ipython3",
   "version": "3.10.5"
  },
  "orig_nbformat": 4,
  "vscode": {
   "interpreter": {
    "hash": "3822405be9f5fb329f7270cbdcf73e762c62b3f383c5e71390a1a4648678c1cb"
   }
  }
 },
 "nbformat": 4,
 "nbformat_minor": 2
}
