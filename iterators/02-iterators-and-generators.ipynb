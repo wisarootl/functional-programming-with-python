{
 "cells": [
  {
   "cell_type": "markdown",
   "metadata": {},
   "source": [
    "# iterators and generators"
   ]
  },
  {
   "cell_type": "markdown",
   "metadata": {},
   "source": [
    "# What is an Iterator?\n",
    "\n",
    "An Iterator is any object that implements the Iterator protocol. Iterators support:\n",
    "\n",
    "- Looping through the object in a `for` loop\n",
    "- Using `in` to check whether the object contains some element\n",
    "\n",
    "Most Iterator types, such as `list`, `dict`, and `tuple`, support more! But this extra functionality is not part of the Iterator protocol per se."
   ]
  },
  {
   "cell_type": "code",
   "execution_count": 1,
   "metadata": {},
   "outputs": [
    {
     "name": "stdout",
     "output_type": "stream",
     "text": [
      "a\n",
      "b\n",
      "c\n"
     ]
    }
   ],
   "source": [
    "t = 'a', 'b', 'c'\n",
    "for e in t:\n",
    "    print(e)"
   ]
  },
  {
   "cell_type": "markdown",
   "metadata": {},
   "source": [
    "#### `iter()`, `next()`, and `StopIteration`\n",
    "\n",
    "Let's consider the protocol more formally:\n",
    "\n",
    "- First, `iter()` provides an actual iterator object\n",
    "- Then, `next()` retrieves elements from this iterator object\n",
    "- Until the iterator is exhausted, in which case a `StopIteration` is raised"
   ]
  },
  {
   "cell_type": "code",
   "execution_count": 2,
   "metadata": {},
   "outputs": [
    {
     "name": "stdout",
     "output_type": "stream",
     "text": [
      "a\n",
      "b\n",
      "c\n"
     ]
    },
    {
     "ename": "StopIteration",
     "evalue": "",
     "output_type": "error",
     "traceback": [
      "\u001b[1;31m---------------------------------------------------------------------------\u001b[0m",
      "\u001b[1;31mStopIteration\u001b[0m                             Traceback (most recent call last)",
      "\u001b[1;32md:\\06 - Working\\12-functional-programming-with-python\\functional-programming-with-python\\iterators\\02-iterators-and-generators.ipynb Cell 5'\u001b[0m in \u001b[0;36m<cell line: 5>\u001b[1;34m()\u001b[0m\n\u001b[0;32m      <a href='vscode-notebook-cell:/d%3A/06%20-%20Working/12-functional-programming-with-python/functional-programming-with-python/iterators/02-iterators-and-generators.ipynb#ch0000004?line=2'>3</a>\u001b[0m \u001b[39mprint\u001b[39m(\u001b[39mnext\u001b[39m(i))\n\u001b[0;32m      <a href='vscode-notebook-cell:/d%3A/06%20-%20Working/12-functional-programming-with-python/functional-programming-with-python/iterators/02-iterators-and-generators.ipynb#ch0000004?line=3'>4</a>\u001b[0m \u001b[39mprint\u001b[39m(\u001b[39mnext\u001b[39m(i))\n\u001b[1;32m----> <a href='vscode-notebook-cell:/d%3A/06%20-%20Working/12-functional-programming-with-python/functional-programming-with-python/iterators/02-iterators-and-generators.ipynb#ch0000004?line=4'>5</a>\u001b[0m \u001b[39mprint\u001b[39m(\u001b[39mnext\u001b[39;49m(i))\n",
      "\u001b[1;31mStopIteration\u001b[0m: "
     ]
    }
   ],
   "source": [
    "i = iter(t)\n",
    "print(next(i))\n",
    "print(next(i))\n",
    "print(next(i))\n",
    "print(next(i))"
   ]
  },
  {
   "cell_type": "code",
   "execution_count": null,
   "metadata": {},
   "outputs": [],
   "source": [
    "i = iter(t)\n",
    "while True:\n",
    "    try:\n",
    "        e = next(i)\n",
    "    except StopIteration:\n",
    "        break\n",
    "    print(e)\n"
   ]
  },
  {
   "cell_type": "markdown",
   "metadata": {},
   "source": [
    "# Creating your own Iterator\n",
    "\n",
    "An `Iterator` is a class that implements (at least) the following methods:\n",
    "\n",
    "- `__iter__()`\n",
    "- `__next__()`\n",
    "\n",
    "Let's implement an `Iterator` that allows you to walk through its elements in random order."
   ]
  },
  {
   "cell_type": "code",
   "execution_count": 3,
   "metadata": {},
   "outputs": [],
   "source": [
    "import random\n",
    "\n",
    "\n",
    "class RandomIterator:\n",
    "    \n",
    "    def __init__(self, *elements):\n",
    "        \n",
    "        self._elements = list(elements)\n",
    "        \n",
    "    def __iter__(self):\n",
    "        \n",
    "        random.shuffle(self._elements)\n",
    "        self._cursor = 0\n",
    "        return self\n",
    "    \n",
    "    def __next__(self):\n",
    "        \n",
    "        if self._cursor >= len(self._elements):\n",
    "            raise StopIteration()\n",
    "        e = self._elements[self._cursor]\n",
    "        self._cursor += 1\n",
    "        return e\n"
   ]
  },
  {
   "cell_type": "markdown",
   "metadata": {},
   "source": [
    "Now let's see our `RandomIterator` in action!"
   ]
  },
  {
   "cell_type": "code",
   "execution_count": 4,
   "metadata": {},
   "outputs": [
    {
     "name": "stdout",
     "output_type": "stream",
     "text": [
      "2\n",
      "3\n",
      "1\n",
      "--\n",
      "3\n",
      "1\n",
      "2\n"
     ]
    }
   ],
   "source": [
    "i = RandomIterator(1, 2, 3)\n",
    "for e in i:\n",
    "    print(e)\n",
    "print('--')\n",
    "for e in i:\n",
    "    print(e)\n"
   ]
  },
  {
   "cell_type": "markdown",
   "metadata": {},
   "source": [
    "# Exploring Generators\n",
    "\n",
    "A Generator is a function with one or more `yield` statements. Each `yield` returns a value and suspends the Generator. When a suspended Generator is called again, it picks up where it left off."
   ]
  },
  {
   "cell_type": "code",
   "execution_count": 5,
   "metadata": {},
   "outputs": [],
   "source": [
    "def my_generator():\n",
    "    \n",
    "    yield 'a'\n",
    "    yield 'b'\n",
    "    yield 'c'"
   ]
  },
  {
   "cell_type": "markdown",
   "metadata": {},
   "source": [
    "Because a Generator is an Iterator, they support `for` and `in`."
   ]
  },
  {
   "cell_type": "code",
   "execution_count": 6,
   "metadata": {},
   "outputs": [
    {
     "name": "stdout",
     "output_type": "stream",
     "text": [
      "False\n"
     ]
    }
   ],
   "source": [
    "print('d' in my_generator())"
   ]
  },
  {
   "cell_type": "code",
   "execution_count": 7,
   "metadata": {},
   "outputs": [
    {
     "name": "stdout",
     "output_type": "stream",
     "text": [
      "True\n"
     ]
    }
   ],
   "source": [
    "print('c' in my_generator())"
   ]
  },
  {
   "cell_type": "markdown",
   "metadata": {},
   "source": [
    "You can also use `next()` to iterate through a Generator--after all, it is an Iterator!"
   ]
  },
  {
   "cell_type": "code",
   "execution_count": 8,
   "metadata": {},
   "outputs": [
    {
     "name": "stdout",
     "output_type": "stream",
     "text": [
      "a\n",
      "b\n",
      "c\n"
     ]
    },
    {
     "ename": "StopIteration",
     "evalue": "",
     "output_type": "error",
     "traceback": [
      "\u001b[1;31m---------------------------------------------------------------------------\u001b[0m",
      "\u001b[1;31mStopIteration\u001b[0m                             Traceback (most recent call last)",
      "\u001b[1;32md:\\06 - Working\\12-functional-programming-with-python\\functional-programming-with-python\\iterators\\02-iterators-and-generators.ipynb Cell 17'\u001b[0m in \u001b[0;36m<cell line: 5>\u001b[1;34m()\u001b[0m\n\u001b[0;32m      <a href='vscode-notebook-cell:/d%3A/06%20-%20Working/12-functional-programming-with-python/functional-programming-with-python/iterators/02-iterators-and-generators.ipynb#ch0000016?line=2'>3</a>\u001b[0m \u001b[39mprint\u001b[39m(\u001b[39mnext\u001b[39m(g))\n\u001b[0;32m      <a href='vscode-notebook-cell:/d%3A/06%20-%20Working/12-functional-programming-with-python/functional-programming-with-python/iterators/02-iterators-and-generators.ipynb#ch0000016?line=3'>4</a>\u001b[0m \u001b[39mprint\u001b[39m(\u001b[39mnext\u001b[39m(g))\n\u001b[1;32m----> <a href='vscode-notebook-cell:/d%3A/06%20-%20Working/12-functional-programming-with-python/functional-programming-with-python/iterators/02-iterators-and-generators.ipynb#ch0000016?line=4'>5</a>\u001b[0m \u001b[39mprint\u001b[39m(\u001b[39mnext\u001b[39;49m(g))\n",
      "\u001b[1;31mStopIteration\u001b[0m: "
     ]
    }
   ],
   "source": [
    "g = my_generator() # iter() is initialized here\n",
    "print(next(g))\n",
    "print(next(g))\n",
    "print(next(g))\n",
    "print(next(g))"
   ]
  },
  {
   "cell_type": "markdown",
   "metadata": {},
   "source": [
    "#### Sending information to a Generator\n",
    "\n",
    "You can use `send()` to send information to a Generator. Inside the Generator, this will become the return value of `yield`. Because the Generator gives output before it receives input, the first `send()` must send `None`! The flow information between a Generator and the caller of the Generator can be tricky to follow.\n",
    "\n",
    "Let's define a Generator that gives random replies until it receives 'Bye'."
   ]
  },
  {
   "cell_type": "code",
   "execution_count": 9,
   "metadata": {},
   "outputs": [],
   "source": [
    "import random\n",
    "\n",
    "SENTENCES = [\n",
    "    'How are you?',\n",
    "    'Fine, thank you!',\n",
    "    'Nothing much',\n",
    "    'Just chillin'\n",
    "]\n",
    "\n",
    "\n",
    "def random_conversation():\n",
    "    \n",
    "    recv = yield 'Hi'\n",
    "    while recv != 'Bye!':\n",
    "        recv = yield random.choice(SENTENCES)\n"
   ]
  },
  {
   "cell_type": "markdown",
   "metadata": {},
   "source": [
    "So how can we use this Generator?"
   ]
  },
  {
   "cell_type": "code",
   "execution_count": 10,
   "metadata": {},
   "outputs": [
    {
     "name": "stdout",
     "output_type": "stream",
     "text": [
      "Hi\n",
      "1\n",
      ">>> Just chillin\n",
      "Bye!\n",
      "Conversation over!\n"
     ]
    }
   ],
   "source": [
    "g = random_conversation() # init (like calling iter())\n",
    "\n",
    "print(g.send(None))\n",
    "while True:\n",
    "    try:\n",
    "        x = input()\n",
    "        print(x)\n",
    "        reply = g.send(x)\n",
    "    except StopIteration:\n",
    "        break\n",
    "    print('>>> ' + reply)\n",
    "print('Conversation over!')\n"
   ]
  },
  {
   "cell_type": "markdown",
   "metadata": {},
   "source": [
    "# Lazy Evaluation"
   ]
  },
  {
   "cell_type": "markdown",
   "metadata": {},
   "source": [
    "#### Eager evaluation\n",
    "\n",
    "Let's consider a function that generates a fibonacci series of length `n`. This is an *eager* implementation, because the full series is created and held in memory at once."
   ]
  },
  {
   "cell_type": "code",
   "execution_count": 11,
   "metadata": {},
   "outputs": [
    {
     "name": "stdout",
     "output_type": "stream",
     "text": [
      "[1, 1, 2, 3, 5, 8, 13, 21, 34, 55]\n"
     ]
    }
   ],
   "source": [
    "def eager_fibonacci(n):\n",
    "    \n",
    "    l = [1, 1]\n",
    "    for i in range(n-2):\n",
    "        l.append(sum(l[-2:]))\n",
    "    return l\n",
    "\n",
    "print(eager_fibonacci(10))"
   ]
  },
  {
   "cell_type": "markdown",
   "metadata": {},
   "source": [
    "#### Lazy evaluation\n",
    "\n",
    "Now let's consider a Generator function that also generates a fibonacci series, but does so one number at a time. This is a *lazy* implementation, because only two numbers are held in memory at once (we need two numbers in order to determine the next number in the series). We also no longer need to specify the length of the series is advance. We just keep going!"
   ]
  },
  {
   "cell_type": "code",
   "execution_count": 12,
   "metadata": {},
   "outputs": [
    {
     "name": "stdout",
     "output_type": "stream",
     "text": [
      "1\n",
      "1\n",
      "2\n",
      "3\n",
      "5\n",
      "8\n",
      "13\n",
      "21\n",
      "34\n",
      "55\n"
     ]
    }
   ],
   "source": [
    "def lazy_fibonacci():\n",
    "    \n",
    "    yield 1\n",
    "    yield 1\n",
    "    l = [1, 1]\n",
    "    while True:\n",
    "        l = [l[-1], sum(l[-2:])]\n",
    "        yield l[-1]\n",
    "\n",
    "        \n",
    "for i, f in enumerate(lazy_fibonacci()):\n",
    "    if i == 10:\n",
    "        break\n",
    "    print(f)\n"
   ]
  },
  {
   "cell_type": "markdown",
   "metadata": {},
   "source": [
    "# Coroutines"
   ]
  },
  {
   "cell_type": "markdown",
   "metadata": {},
   "source": [
    "#### Two Generators in parallel\n",
    "\n",
    "The simplest way to run two Generators in parallel is to `zip()` them together in a `for` loop."
   ]
  },
  {
   "cell_type": "code",
   "execution_count": 13,
   "metadata": {},
   "outputs": [
    {
     "name": "stdout",
     "output_type": "stream",
     "text": [
      "1 0\n",
      "1 1\n",
      "2 1\n",
      "3 2\n",
      "5 4\n",
      "8 7\n",
      "13 13\n",
      "21 24\n",
      "34 44\n",
      "55 81\n"
     ]
    }
   ],
   "source": [
    "def fibonacci():\n",
    "        \n",
    "    yield 1\n",
    "    yield 1\n",
    "    l = [1, 1]\n",
    "    while True:\n",
    "        l = [l[-1], sum(l[-2:])]\n",
    "        yield l[-1]\n",
    "        \n",
    "\n",
    "def tribonacci():\n",
    "\n",
    "    yield 0\n",
    "    yield 1\n",
    "    yield 1\n",
    "    l = [0, 1, 1]\n",
    "    while True:\n",
    "        l = [l[-2], l[-1], sum(l[-3:])]\n",
    "        yield l[-1]\n",
    "\n",
    "\n",
    "for i, (f, t) in enumerate(zip(fibonacci(), tribonacci())):\n",
    "    if i == 10:\n",
    "        break\n",
    "    print(f, t)\n"
   ]
  },
  {
   "cell_type": "markdown",
   "metadata": {},
   "source": [
    "#### Letting two Generators communicate\n",
    "\n",
    "Let's consider a slightly more complicated example in which two Generators need to communicate with each other. The `speaker` returns random sentences. These are received by the `replier`, who aborts the conversation when the `speaker` has said 'Bye!' and otherwise replies with a random sentence."
   ]
  },
  {
   "cell_type": "code",
   "execution_count": 20,
   "metadata": {},
   "outputs": [
    {
     "name": "stdout",
     "output_type": "stream",
     "text": [
      "Received: Nothing much\n",
      "Replied: Nothing much\n",
      "Received: How are you?\n",
      "Replied: Fine, thank you!\n",
      "Received: Just chillin\n",
      "Replied: Nothing much\n",
      "Received: Bye!\n"
     ]
    }
   ],
   "source": [
    "\n",
    "import random\n",
    "\n",
    "\n",
    "SENTENCES = [\n",
    "    'How are you?',\n",
    "    'Fine, thank you!',\n",
    "    'Nothing much',\n",
    "    'Just chillin',\n",
    "    'Bye!'\n",
    "    ]\n",
    "\n",
    "\n",
    "def speaker():\n",
    "    \n",
    "    while True:\n",
    "        yield random.choice(SENTENCES)\n",
    "\n",
    "        \n",
    "def replier():\n",
    "    \n",
    "    while True:\n",
    "        recv = yield\n",
    "        print('Received: %s' % recv)\n",
    "        if recv == 'Bye!':\n",
    "            break\n",
    "        print('Replied: %s' % random.choice(SENTENCES))\n",
    "        \n",
    "s = speaker()\n",
    "r = replier()\n",
    "r.send(None)\n",
    "while True:\n",
    "    recv = s.send(None)\n",
    "    try:\n",
    "        r.send(recv)\n",
    "    except StopIteration:\n",
    "        break\n"
   ]
  },
  {
   "cell_type": "markdown",
   "metadata": {},
   "source": [
    "# Collections - Convenience Iterators"
   ]
  },
  {
   "cell_type": "markdown",
   "metadata": {},
   "source": [
    "#### `collections.namedtuple`\n",
    "\n",
    "`namedtuple()` is a factory function; that is, it generates a class, and not an instance of a class (an object).\n",
    "\n",
    "So there are two steps:\n",
    "\n",
    "1. First, use `namedtuple()` to generate a `class`\n",
    "2. And then create an instance of this `class`"
   ]
  },
  {
   "cell_type": "code",
   "execution_count": 21,
   "metadata": {},
   "outputs": [
    {
     "name": "stdout",
     "output_type": "stream",
     "text": [
      "Sean Carter is 47 years old\n"
     ]
    }
   ],
   "source": [
    "from collections import namedtuple\n",
    "\n",
    "Person = namedtuple('Person', ['name', 'age'])\n",
    "jay_z = Person(name='Sean Carter', age=47)\n",
    "print('%s is %s years old' % (jay_z.name, jay_z.age))"
   ]
  },
  {
   "cell_type": "code",
   "execution_count": 22,
   "metadata": {},
   "outputs": [
    {
     "name": "stdout",
     "output_type": "stream",
     "text": [
      "Sean Carter 47\n"
     ]
    }
   ],
   "source": [
    "name, age = jay_z\n",
    "print(name, age)"
   ]
  },
  {
   "cell_type": "markdown",
   "metadata": {},
   "source": [
    "#### `collections.OrderedDict`\n",
    "\n",
    "If your code requires that the order of elements in a `dict` is preserved, use `OrderedDict`—even if your version of Python (e.g. CPython 3.6) already does this!\n",
    "\n",
    "Otherwise, `OrderedDict` behaves exactly like a regular `dict`.\n",
    "\n",
    "\n",
    "`OrderedDict` is ordered iterators"
   ]
  },
  {
   "cell_type": "code",
   "execution_count": 23,
   "metadata": {},
   "outputs": [
    {
     "name": "stdout",
     "output_type": "stream",
     "text": [
      "Lizard is a Reptile\n",
      "Whale is a Mammal\n"
     ]
    }
   ],
   "source": [
    "from collections import OrderedDict\n",
    "\n",
    "d = OrderedDict([\n",
    "    ('Lizard', 'Reptile'),\n",
    "    ('Whale', 'Mammal')\n",
    "])\n",
    "\n",
    "\n",
    "for species, class_ in d.items():\n",
    "    print('%s is a %s' % (species, class_))\n"
   ]
  },
  {
   "cell_type": "markdown",
   "metadata": {},
   "source": [
    "#### collections.defaultdict\n",
    "\n",
    "Use `defaultdict` if you want non-existing keys to return a default value, rather than raise a `KeyError`.\n",
    "\n",
    "Otherwise, `OrderedDict` behaves exactly like a regular `dict`."
   ]
  },
  {
   "cell_type": "code",
   "execution_count": 24,
   "metadata": {},
   "outputs": [
    {
     "name": "stdout",
     "output_type": "stream",
     "text": [
      "Ruby\n"
     ]
    }
   ],
   "source": [
    "from collections import defaultdict\n",
    "\n",
    "favorite_programming_languages = {\n",
    "    'Claire' : 'Assembler',\n",
    "    'John' : 'Ruby',\n",
    "    'Sarah' : 'JavaScript'\n",
    "}\n",
    "\n",
    "d = defaultdict(lambda: 'Python')\n",
    "d.update(favorite_programming_languages)\n",
    "print(d['John'])"
   ]
  },
  {
   "cell_type": "code",
   "execution_count": 26,
   "metadata": {},
   "outputs": [
    {
     "name": "stdout",
     "output_type": "stream",
     "text": [
      "Python\n"
     ]
    }
   ],
   "source": [
    "print(d['Xxx'])"
   ]
  }
 ],
 "metadata": {
  "kernelspec": {
   "display_name": "Python 3.10.5 64-bit (windows store)",
   "language": "python",
   "name": "python3"
  },
  "language_info": {
   "codemirror_mode": {
    "name": "ipython",
    "version": 3
   },
   "file_extension": ".py",
   "mimetype": "text/x-python",
   "name": "python",
   "nbconvert_exporter": "python",
   "pygments_lexer": "ipython3",
   "version": "3.10.5"
  },
  "orig_nbformat": 4,
  "vscode": {
   "interpreter": {
    "hash": "3822405be9f5fb329f7270cbdcf73e762c62b3f383c5e71390a1a4648678c1cb"
   }
  }
 },
 "nbformat": 4,
 "nbformat_minor": 2
}
