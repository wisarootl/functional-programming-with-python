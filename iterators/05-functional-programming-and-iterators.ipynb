{
 "cells": [
  {
   "cell_type": "markdown",
   "metadata": {},
   "source": [
    "# recognize the most suitable programming technique for the job"
   ]
  },
  {
   "cell_type": "markdown",
   "metadata": {},
   "source": [
    "- Choosing the best technique for the job\n",
    "\n",
    "#### Common scenario: filtering and transforming elements from an iterator\n",
    "\n",
    "Say that we have a list of movies between 2012 and 2015, all featuring Adam Sandler. Each movie is a tuple, consisting of a movie title and the movie's freshness rating on Rotten Tomatoes. We want to get all movie titles for which the freshness rating was 0.2 or higher."
   ]
  },
  {
   "cell_type": "code",
   "execution_count": 1,
   "metadata": {},
   "outputs": [],
   "source": [
    "adam_sandler_movies = [\n",
    "    ('Paul Blart: Mall Cop 2', 0.06),\n",
    "    ('Blended', 0.14),\n",
    "    ('Grown Ups 2', 0.07),\n",
    "    (\"That's My Boy\", 0.2),\n",
    "    ('Hotel Transylvania', 0.44)\n",
    "]"
   ]
  },
  {
   "cell_type": "markdown",
   "metadata": {},
   "source": [
    "##### The traditional approach: using a `for` loop\n",
    "\n",
    "The main advantage of a traditional `for` loop is that the syntax is familiar to most Python programmers, including novices. The main disadvantage is that it requires several lines of code to accomplish something simple."
   ]
  },
  {
   "cell_type": "code",
   "execution_count": 2,
   "metadata": {},
   "outputs": [
    {
     "name": "stdout",
     "output_type": "stream",
     "text": [
      "[\"That's My Boy\", 'Hotel Transylvania']\n"
     ]
    }
   ],
   "source": [
    "selected_titles = []\n",
    "for title, freshness in adam_sandler_movies:\n",
    "    if freshness < 0.2:\n",
    "        continue\n",
    "    selected_titles.append(title)\n",
    "print(selected_titles)"
   ]
  },
  {
   "cell_type": "markdown",
   "metadata": {},
   "source": [
    "##### The Pythonic approach: using a `list` comprehension\n",
    "\n",
    "A list comprehensions strikes a good balance between readability and conciseness. Not all Python programmers are familiar with list expressions, but because of the readable syntax, most Python programmers will be able to understand it."
   ]
  },
  {
   "cell_type": "code",
   "execution_count": 3,
   "metadata": {},
   "outputs": [
    {
     "name": "stdout",
     "output_type": "stream",
     "text": [
      "[\"That's My Boy\", 'Hotel Transylvania']\n"
     ]
    }
   ],
   "source": [
    "selected_titles = [title for title, freshness in adam_sandler_movies if freshness >= 0.2]\n",
    "print(selected_titles)"
   ]
  },
  {
   "cell_type": "markdown",
   "metadata": {},
   "source": [
    "#### The functional approach: using `map()` and `filter()`\n",
    "\n",
    "The `map()` and `filter()` functions are commonly used by programmers with a background in functional programming. So if they are your audience, you can use them. However, they are an aquired taste, and most people will find the list comprehension above easier to understand."
   ]
  },
  {
   "cell_type": "code",
   "execution_count": 4,
   "metadata": {},
   "outputs": [
    {
     "name": "stdout",
     "output_type": "stream",
     "text": [
      "[\"That's My Boy\", 'Hotel Transylvania']\n"
     ]
    }
   ],
   "source": [
    "selected_titles = map(\n",
    "    lambda movie: movie[0],\n",
    "    filter(lambda movie: movie[1] >= 0.2,\n",
    "        adam_sandler_movies\n",
    "    )\n",
    ")\n",
    "print(list(selected_titles))"
   ]
  },
  {
   "cell_type": "markdown",
   "metadata": {},
   "source": [
    "#### Common scenario: alternate two 'stateful' functions\n",
    "\n",
    "Say that we want to simultaneously iterate through the Fibonacci and Tribonacci series.\n",
    "\n",
    "##### The traditional approach: functions\n",
    "\n",
    "When using functions, you need to somehow save the *state* of the functions, which is in this case is the Fibonacci or Tribonacci series that has been generated so far. You could do that in many ways, for example by passing the state as an argument to the functions.\n",
    "\n",
    "The main advantage of this approach is that it is does not require any advanced programming techniques, that is, no generators. The main disadvantage is that the information flow from and to the functions can be difficult to follow."
   ]
  },
  {
   "cell_type": "code",
   "execution_count": 5,
   "metadata": {},
   "outputs": [
    {
     "name": "stdout",
     "output_type": "stream",
     "text": [
      "Fibonacci(0)  = 1\n",
      "Tribonacci(0) = 0\n",
      "Fibonacci(1)  = 1\n",
      "Tribonacci(1) = 1\n",
      "Fibonacci(2)  = 2\n",
      "Tribonacci(2) = 1\n",
      "Fibonacci(3)  = 3\n",
      "Tribonacci(3) = 2\n",
      "Fibonacci(4)  = 5\n",
      "Tribonacci(4) = 4\n",
      "Fibonacci(5)  = 8\n",
      "Tribonacci(5) = 7\n",
      "Fibonacci(6)  = 13\n",
      "Tribonacci(6) = 13\n",
      "Fibonacci(7)  = 21\n",
      "Tribonacci(7) = 24\n",
      "Fibonacci(8)  = 34\n",
      "Tribonacci(8) = 44\n",
      "Fibonacci(9)  = 55\n",
      "Tribonacci(9) = 81\n"
     ]
    }
   ],
   "source": [
    "def fibonacci(*series):\n",
    "    \n",
    "    if len(series) < 2:\n",
    "        return 1\n",
    "    return sum(series[-2:])\n",
    "\n",
    "\n",
    "def tribonacci(*series):\n",
    "    \n",
    "    if len(series) == 0:\n",
    "        return 0\n",
    "    if len(series) < 3:\n",
    "        return 1\n",
    "    return sum(series[-3:])\n",
    "\n",
    "\n",
    "fibonacci_series = []\n",
    "tribonacci_series = []\n",
    "for i in range(10):\n",
    "    f = fibonacci(*fibonacci_series)\n",
    "    print('Fibonacci(%d)  = %d' % (i, f))\n",
    "    fibonacci_series.append(f)\n",
    "    t = tribonacci(*tribonacci_series)\n",
    "    print('Tribonacci(%d) = %d' % (i, t))\n",
    "    tribonacci_series.append(t)"
   ]
  },
  {
   "cell_type": "markdown",
   "metadata": {},
   "source": [
    "##### The Pythonic approach: generator coroutines\n",
    "\n",
    "Generator coroutines allow you to suspend and resume functions. The main advantage of this approach is that the flow of the code is very clear. The main disadvantage is that not everyone is familiar with generators. In this case, the advantage of using generator coroutines probably outweighs the disadvantage."
   ]
  },
  {
   "cell_type": "code",
   "execution_count": 6,
   "metadata": {},
   "outputs": [
    {
     "name": "stdout",
     "output_type": "stream",
     "text": [
      "Fibonacci(0)  = 1\n",
      "Tribonacci(0) = 0\n",
      "Fibonacci(1)  = 1\n",
      "Tribonacci(1) = 1\n",
      "Fibonacci(2)  = 2\n",
      "Tribonacci(2) = 1\n",
      "Fibonacci(3)  = 3\n",
      "Tribonacci(3) = 2\n",
      "Fibonacci(4)  = 5\n",
      "Tribonacci(4) = 4\n",
      "Fibonacci(5)  = 8\n",
      "Tribonacci(5) = 7\n",
      "Fibonacci(6)  = 13\n",
      "Tribonacci(6) = 13\n",
      "Fibonacci(7)  = 21\n",
      "Tribonacci(7) = 24\n",
      "Fibonacci(8)  = 34\n",
      "Tribonacci(8) = 44\n",
      "Fibonacci(9)  = 55\n",
      "Tribonacci(9) = 81\n"
     ]
    }
   ],
   "source": [
    "def fibonacci():\n",
    "        \n",
    "    yield 1\n",
    "    yield 1\n",
    "    l = [1, 1]\n",
    "    while True:\n",
    "        l.append(sum(l[-2:]))\n",
    "        yield l[-1]\n",
    "        \n",
    "\n",
    "def tribonacci():\n",
    "\n",
    "    yield 0\n",
    "    yield 1\n",
    "    yield 1\n",
    "    l = [0, 1, 1]\n",
    "    while True:\n",
    "        l.append(sum(l[-3:]))\n",
    "        yield l[-1]\n",
    "        \n",
    "        \n",
    "for i, f, t in zip(range(10), fibonacci(), tribonacci()):\n",
    "    print('Fibonacci(%d)  = %d' % (i, f))\n",
    "    print('Tribonacci(%d) = %d' % (i, t))    \n"
   ]
  },
  {
   "cell_type": "markdown",
   "metadata": {},
   "source": [
    "# final example - sensible interactive calculator built with various programming technique"
   ]
  },
  {
   "cell_type": "code",
   "execution_count": null,
   "metadata": {},
   "outputs": [],
   "source": [
    "import functools as ft\n",
    "import itertools as it\n",
    "\n",
    "OPERATORS = '+', '-', '/', '*'\n",
    "EXIT_COMMANDS = 'exit', 'quit'\n",
    "\n",
    "\n",
    "def can_calculate(state):\n",
    "    \n",
    "    if len(state) < 3:\n",
    "        return False\n",
    "    *_, i1, op, i2 = state\n",
    "    return isinstance(i1, float) and op in OPERATORS and isinstance(i2, float)\n",
    "\n",
    "\n",
    "def calculate(state):\n",
    "    \n",
    "    *_, i1, op, i2 = state\n",
    "    if op == '+':\n",
    "        result = i1 + i2\n",
    "    elif op == '-':\n",
    "        result = i1 - i2\n",
    "    elif op == '/':\n",
    "        result = i1 / i2\n",
    "    elif op == '*':\n",
    "        result = i1 * i2\n",
    "    print('%f %s %f = %f' % (i1, op, i2, result))\n",
    "    return result\n",
    "\n",
    "\n",
    "def validate_input(fnc):\n",
    "    \n",
    "    def inner():\n",
    "        \n",
    "        i = fnc()\n",
    "        try:\n",
    "            i = float(i)\n",
    "        except ValueError:\n",
    "            pass\n",
    "        if isinstance(i, float) or i in OPERATORS or i in EXIT_COMMANDS:            \n",
    "            return i\n",
    "        return None\n",
    "    \n",
    "    return inner\n",
    "\n",
    "\n",
    "@validate_input\n",
    "def get_input():\n",
    "    \n",
    "    return input()\n",
    "\n",
    "\n",
    "def process_input():\n",
    "    \n",
    "    state = []\n",
    "    while True:\n",
    "        update = yield\n",
    "        state.append(update)\n",
    "        if can_calculate(state):\n",
    "            result = calculate(state)\n",
    "            state.append(result)\n",
    "\n",
    "\n",
    "def calculator():\n",
    "    \n",
    "    g = process_input()\n",
    "    g.send(None)\n",
    "    while True:\n",
    "        i = get_input()\n",
    "        if i is None:\n",
    "            print('Please enter a number or an operator')\n",
    "            continue\n",
    "        if i in EXIT_COMMANDS:\n",
    "            break\n",
    "        g.send(i)\n",
    "    \n",
    "\n",
    "calculator()"
   ]
  },
  {
   "cell_type": "markdown",
   "metadata": {},
   "source": []
  }
 ],
 "metadata": {
  "kernelspec": {
   "display_name": "Python 3.10.5 64-bit (windows store)",
   "language": "python",
   "name": "python3"
  },
  "language_info": {
   "codemirror_mode": {
    "name": "ipython",
    "version": 3
   },
   "file_extension": ".py",
   "mimetype": "text/x-python",
   "name": "python",
   "nbconvert_exporter": "python",
   "pygments_lexer": "ipython3",
   "version": "3.10.5"
  },
  "orig_nbformat": 4,
  "vscode": {
   "interpreter": {
    "hash": "3822405be9f5fb329f7270cbdcf73e762c62b3f383c5e71390a1a4648678c1cb"
   }
  }
 },
 "nbformat": 4,
 "nbformat_minor": 2
}
