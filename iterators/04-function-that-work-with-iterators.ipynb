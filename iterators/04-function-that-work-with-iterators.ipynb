{
 "cells": [
  {
   "cell_type": "markdown",
   "metadata": {},
   "source": [
    "# Function that work with iterators"
   ]
  },
  {
   "cell_type": "markdown",
   "metadata": {},
   "source": [
    "# Convenience functions"
   ]
  },
  {
   "cell_type": "markdown",
   "metadata": {},
   "source": [
    "## Built-in functions for working with iterators\n",
    "\n",
    "These functions are always available. You don't need to import them.\n",
    "\n",
    "#### `zip()`: linking elements from multiple iterators\n",
    "\n",
    "Without `zip()`:"
   ]
  },
  {
   "cell_type": "code",
   "execution_count": 1,
   "metadata": {},
   "outputs": [
    {
     "name": "stdout",
     "output_type": "stream",
     "text": [
      "Whale is a Mammal\n",
      "Lizard is a Reptile\n",
      "Ant is a Insect\n"
     ]
    }
   ],
   "source": [
    "species_list = ['Whale', 'Lizard', 'Ant']\n",
    "class_list = ['Mammal', 'Reptile', 'Insect']\n",
    "cuteness_list = [3, 2, 1, 0]\n",
    "\n",
    "for i in range(len(species_list)):\n",
    "    species = species_list[i]\n",
    "    class_ = class_list[i]\n",
    "    print('%s is a %s' % (species, class_))\n"
   ]
  },
  {
   "cell_type": "markdown",
   "metadata": {},
   "source": [
    "With `zip()`:"
   ]
  },
  {
   "cell_type": "code",
   "execution_count": 4,
   "metadata": {},
   "outputs": [
    {
     "name": "stdout",
     "output_type": "stream",
     "text": [
      "Whale is a Mammal and has a cuteness rating of 3\n",
      "Lizard is a Reptile and has a cuteness rating of 2\n",
      "Ant is a Insect and has a cuteness rating of 1\n"
     ]
    }
   ],
   "source": [
    "for species, class_, cuteness in zip(species_list, class_list, cuteness_list):\n",
    "    print(f'{species} is a {class_} and has a cuteness rating of {cuteness}')"
   ]
  },
  {
   "cell_type": "markdown",
   "metadata": {},
   "source": [
    "#### map(): applying a function to each element from an iterator\n",
    "\n",
    "The first argument is a function. The second argument is an iterator. The function should take an element as a single argument."
   ]
  },
  {
   "cell_type": "code",
   "execution_count": 3,
   "metadata": {},
   "outputs": [
    {
     "name": "stdout",
     "output_type": "stream",
     "text": [
      "1.0\n",
      "1.0\n",
      "1.4142135623730951\n",
      "1.7320508075688772\n",
      "2.23606797749979\n",
      "2.8284271247461903\n"
     ]
    }
   ],
   "source": [
    "from math import sqrt\n",
    "fibonacci = [1,1,2,3,5,8]\n",
    "for i in map(sqrt, fibonacci):\n",
    "    print(i)"
   ]
  },
  {
   "cell_type": "markdown",
   "metadata": {},
   "source": [
    "An equivalent generator expression:"
   ]
  },
  {
   "cell_type": "code",
   "execution_count": 5,
   "metadata": {},
   "outputs": [
    {
     "name": "stdout",
     "output_type": "stream",
     "text": [
      "1.0\n",
      "1.0\n",
      "1.4142135623730951\n",
      "1.7320508075688772\n",
      "2.23606797749979\n",
      "2.8284271247461903\n"
     ]
    }
   ],
   "source": [
    "for i in (sqrt(j) for j in fibonacci):\n",
    "    print(i)"
   ]
  },
  {
   "cell_type": "markdown",
   "metadata": {},
   "source": [
    "#### enumerate(): getting indices along with elements\n",
    "\n",
    "Without `enumerate()`:"
   ]
  },
  {
   "cell_type": "code",
   "execution_count": 6,
   "metadata": {},
   "outputs": [
    {
     "name": "stdout",
     "output_type": "stream",
     "text": [
      "0 Whale\n",
      "1 Lizard\n",
      "2 Ant\n"
     ]
    }
   ],
   "source": [
    "i = 0\n",
    "for species in species_list:\n",
    "    print(i, species)\n",
    "    i += 1\n"
   ]
  },
  {
   "cell_type": "markdown",
   "metadata": {},
   "source": [
    "With `enumerate()`:"
   ]
  },
  {
   "cell_type": "code",
   "execution_count": 7,
   "metadata": {},
   "outputs": [
    {
     "name": "stdout",
     "output_type": "stream",
     "text": [
      "0 Whale\n",
      "1 Lizard\n",
      "2 Ant\n"
     ]
    }
   ],
   "source": [
    "for i, species in enumerate(species_list):\n",
    "    print(i, species)"
   ]
  },
  {
   "cell_type": "markdown",
   "metadata": {},
   "source": [
    "An equivalent generator expression:"
   ]
  },
  {
   "cell_type": "code",
   "execution_count": 8,
   "metadata": {},
   "outputs": [
    {
     "name": "stdout",
     "output_type": "stream",
     "text": [
      "0 Whale\n",
      "1 Lizard\n",
      "2 Ant\n"
     ]
    }
   ],
   "source": [
    "for i, species in ((i, species_list[i]) for i in range(len(species_list))):\n",
    "    print(i, species)"
   ]
  },
  {
   "cell_type": "markdown",
   "metadata": {},
   "source": [
    "#### filter(): excluding elements\n",
    "\n",
    "Without `filter()`:"
   ]
  },
  {
   "cell_type": "code",
   "execution_count": 9,
   "metadata": {},
   "outputs": [
    {
     "name": "stdout",
     "output_type": "stream",
     "text": [
      "2\n",
      "8\n"
     ]
    }
   ],
   "source": [
    "for i in fibonacci:\n",
    "    if i%2:\n",
    "        continue\n",
    "    print(i)"
   ]
  },
  {
   "cell_type": "markdown",
   "metadata": {},
   "source": [
    "With `filter()`:"
   ]
  },
  {
   "cell_type": "code",
   "execution_count": 10,
   "metadata": {},
   "outputs": [
    {
     "name": "stdout",
     "output_type": "stream",
     "text": [
      "2\n",
      "8\n"
     ]
    }
   ],
   "source": [
    "for i in filter(lambda i: not i%2, fibonacci):\n",
    "    print(i)"
   ]
  },
  {
   "cell_type": "markdown",
   "metadata": {},
   "source": [
    "An equivalent generator expression:"
   ]
  },
  {
   "cell_type": "code",
   "execution_count": 11,
   "metadata": {},
   "outputs": [
    {
     "name": "stdout",
     "output_type": "stream",
     "text": [
      "2\n",
      "8\n"
     ]
    }
   ],
   "source": [
    "for i in (j for j in fibonacci if not j%2):\n",
    "    print(i)"
   ]
  },
  {
   "cell_type": "markdown",
   "metadata": {},
   "source": [
    "# Numerical and logical functions"
   ]
  },
  {
   "cell_type": "markdown",
   "metadata": {},
   "source": [
    "- Numerical and logical functions for working with iterators\n",
    "\n",
    "These functions are always available. You don't need to import them.\n",
    "\n",
    "#### `any()`: checks if at least one element evaluates to `True`\n",
    "\n",
    "Without `any()`:"
   ]
  },
  {
   "cell_type": "code",
   "execution_count": 12,
   "metadata": {},
   "outputs": [
    {
     "data": {
      "text/plain": [
       "False"
      ]
     },
     "execution_count": 12,
     "metadata": {},
     "output_type": "execute_result"
    }
   ],
   "source": [
    "none_true = [0, 0, 0]\n",
    "some_true = [0, 1, 0]\n",
    "all_true  = [1, 1, 1]\n",
    "\n",
    "def check_any(i):\n",
    "    for e in i:\n",
    "        if e:\n",
    "            return True\n",
    "    return False\n",
    "\n",
    "check_any(none_true)"
   ]
  },
  {
   "cell_type": "markdown",
   "metadata": {},
   "source": [
    "With `any()`:"
   ]
  },
  {
   "cell_type": "code",
   "execution_count": 13,
   "metadata": {},
   "outputs": [
    {
     "data": {
      "text/plain": [
       "False"
      ]
     },
     "execution_count": 13,
     "metadata": {},
     "output_type": "execute_result"
    }
   ],
   "source": [
    "any(none_true)"
   ]
  },
  {
   "cell_type": "markdown",
   "metadata": {},
   "source": [
    "An equivalent implementation using a generator expression:"
   ]
  },
  {
   "cell_type": "code",
   "execution_count": 14,
   "metadata": {},
   "outputs": [
    {
     "data": {
      "text/plain": [
       "False"
      ]
     },
     "execution_count": 14,
     "metadata": {},
     "output_type": "execute_result"
    }
   ],
   "source": [
    "True in (bool(e) for e in none_true)"
   ]
  },
  {
   "cell_type": "markdown",
   "metadata": {},
   "source": [
    "#### `all(): checks if all elements evaluates to `True`\n",
    "\n",
    "Without `all()`:"
   ]
  },
  {
   "cell_type": "code",
   "execution_count": 15,
   "metadata": {},
   "outputs": [
    {
     "data": {
      "text/plain": [
       "False"
      ]
     },
     "execution_count": 15,
     "metadata": {},
     "output_type": "execute_result"
    }
   ],
   "source": [
    "def check_all(i):\n",
    "    for e in i:\n",
    "        if not e:\n",
    "            return False\n",
    "    return True\n",
    "\n",
    "check_all(none_true)"
   ]
  },
  {
   "cell_type": "markdown",
   "metadata": {},
   "source": [
    "With `all()`:"
   ]
  },
  {
   "cell_type": "code",
   "execution_count": 16,
   "metadata": {},
   "outputs": [
    {
     "data": {
      "text/plain": [
       "False"
      ]
     },
     "execution_count": 16,
     "metadata": {},
     "output_type": "execute_result"
    }
   ],
   "source": [
    "all(none_true)"
   ]
  },
  {
   "cell_type": "markdown",
   "metadata": {},
   "source": [
    "An equivalent implementation using a generator expression:"
   ]
  },
  {
   "cell_type": "code",
   "execution_count": 17,
   "metadata": {},
   "outputs": [
    {
     "data": {
      "text/plain": [
       "False"
      ]
     },
     "execution_count": 17,
     "metadata": {},
     "output_type": "execute_result"
    }
   ],
   "source": [
    "False not in (bool(e) for e in none_true)"
   ]
  },
  {
   "cell_type": "markdown",
   "metadata": {},
   "source": [
    "#### sorted(), min(), max(), and sum()\n",
    "\n",
    "`sorted()` takes an Iterator with numeric elements, sorts it, and returns a `list`:"
   ]
  },
  {
   "cell_type": "code",
   "execution_count": 18,
   "metadata": {},
   "outputs": [
    {
     "data": {
      "text/plain": [
       "[-1, 2, 2, 4]"
      ]
     },
     "execution_count": 18,
     "metadata": {},
     "output_type": "execute_result"
    }
   ],
   "source": [
    "numbers = [2, -1, 2, 4]\n",
    "sorted(numbers)"
   ]
  },
  {
   "cell_type": "markdown",
   "metadata": {},
   "source": [
    "Without `min()` and `max()`:"
   ]
  },
  {
   "cell_type": "code",
   "execution_count": 19,
   "metadata": {},
   "outputs": [
    {
     "data": {
      "text/plain": [
       "4"
      ]
     },
     "execution_count": 19,
     "metadata": {},
     "output_type": "execute_result"
    }
   ],
   "source": [
    "sorted(numbers)[-1]"
   ]
  },
  {
   "cell_type": "markdown",
   "metadata": {},
   "source": [
    "With `min()` and `max()`:"
   ]
  },
  {
   "cell_type": "code",
   "execution_count": 20,
   "metadata": {},
   "outputs": [
    {
     "data": {
      "text/plain": [
       "4"
      ]
     },
     "execution_count": 20,
     "metadata": {},
     "output_type": "execute_result"
    }
   ],
   "source": [
    "max(numbers)"
   ]
  },
  {
   "cell_type": "markdown",
   "metadata": {},
   "source": [
    "Without `sum()`:"
   ]
  },
  {
   "cell_type": "code",
   "execution_count": 21,
   "metadata": {},
   "outputs": [
    {
     "data": {
      "text/plain": [
       "7"
      ]
     },
     "execution_count": 21,
     "metadata": {},
     "output_type": "execute_result"
    }
   ],
   "source": [
    "def get_sum(i):\n",
    "    total = 0\n",
    "    for e in i:\n",
    "        total += e\n",
    "    return total\n",
    "\n",
    "get_sum(numbers)"
   ]
  },
  {
   "cell_type": "markdown",
   "metadata": {},
   "source": [
    "With `sum()`:"
   ]
  },
  {
   "cell_type": "code",
   "execution_count": 22,
   "metadata": {},
   "outputs": [
    {
     "data": {
      "text/plain": [
       "7"
      ]
     },
     "execution_count": 22,
     "metadata": {},
     "output_type": "execute_result"
    }
   ],
   "source": [
    "sum(numbers)"
   ]
  },
  {
   "cell_type": "markdown",
   "metadata": {},
   "source": [
    "# Itertools"
   ]
  },
  {
   "cell_type": "markdown",
   "metadata": {},
   "source": [
    "- The `itertools` module\n",
    "\n",
    "The `itertools` module provides many convenient functions for working with iterators. Below is a useful selection, but there are more!"
   ]
  },
  {
   "cell_type": "code",
   "execution_count": 23,
   "metadata": {},
   "outputs": [],
   "source": [
    "import itertools as it"
   ]
  },
  {
   "cell_type": "markdown",
   "metadata": {},
   "source": [
    "#### Functions that create (or operate on) iterators\n",
    "\n",
    "`count()` returns an infinite counter. (So it's like an infinite `range()`.)"
   ]
  },
  {
   "cell_type": "code",
   "execution_count": 24,
   "metadata": {},
   "outputs": [
    {
     "name": "stdout",
     "output_type": "stream",
     "text": [
      "10\n",
      "9\n",
      "8\n",
      "7\n",
      "6\n",
      "5\n",
      "4\n",
      "3\n",
      "2\n",
      "1\n"
     ]
    }
   ],
   "source": [
    "for i in it.count(start=10, step=-1):\n",
    "    if not i:\n",
    "        break\n",
    "    print(i)\n"
   ]
  },
  {
   "cell_type": "markdown",
   "metadata": {},
   "source": [
    "`cycle()` loops an iterator infinitely.\n",
    "\n",
    "- it create infinite iterator"
   ]
  },
  {
   "cell_type": "code",
   "execution_count": 25,
   "metadata": {},
   "outputs": [
    {
     "name": "stdout",
     "output_type": "stream",
     "text": [
      "0 i\n",
      "1 t\n",
      "2 e\n",
      "3 r\n",
      "4 a\n",
      "5 t\n",
      "6 o\n",
      "7 r\n",
      "8 s\n",
      "9  \n",
      "10 r\n",
      "11 o\n",
      "12 c\n",
      "13 k\n",
      "14 i\n",
      "15 t\n",
      "16 e\n",
      "17 r\n",
      "18 a\n",
      "19 t\n"
     ]
    }
   ],
   "source": [
    "s = 'iterators rock'\n",
    "for i, ch in zip(range(20), it.cycle(s)):\n",
    "    print(i, ch)"
   ]
  },
  {
   "cell_type": "code",
   "execution_count": 32,
   "metadata": {},
   "outputs": [
    {
     "name": "stdout",
     "output_type": "stream",
     "text": [
      "1\n",
      "2\n",
      "3\n",
      "1\n",
      "2\n",
      "3\n",
      "1\n",
      "2\n",
      "3\n"
     ]
    }
   ],
   "source": [
    "s = \"123\"\n",
    "\n",
    "z = it.cycle(s)\n",
    "print(next(z))\n",
    "print(next(z))\n",
    "print(next(z))\n",
    "print(next(z))\n",
    "print(next(z))\n",
    "print(next(z))\n",
    "print(next(z))\n",
    "print(next(z))\n",
    "print(next(z))"
   ]
  },
  {
   "cell_type": "markdown",
   "metadata": {},
   "source": [
    "`repeat()` creates an infinite iterator from a single element.\n",
    "\n",
    "- it create infinite iterator"
   ]
  },
  {
   "cell_type": "code",
   "execution_count": 33,
   "metadata": {},
   "outputs": [
    {
     "name": "stdout",
     "output_type": "stream",
     "text": [
      "0 iterators rock\n",
      "1 iterators rock\n",
      "2 iterators rock\n",
      "3 iterators rock\n",
      "4 iterators rock\n",
      "5 iterators rock\n",
      "6 iterators rock\n",
      "7 iterators rock\n",
      "8 iterators rock\n",
      "9 iterators rock\n"
     ]
    }
   ],
   "source": [
    "s = 'iterators rock'\n",
    "for i, s in zip(range(10), it.repeat(s)):\n",
    "    print(i, s)"
   ]
  },
  {
   "cell_type": "code",
   "execution_count": 38,
   "metadata": {},
   "outputs": [
    {
     "name": "stdout",
     "output_type": "stream",
     "text": [
      "123\n",
      "123\n",
      "123\n"
     ]
    }
   ],
   "source": [
    "s = \"123\"\n",
    "\n",
    "z = it.repeat(s)\n",
    "print(next(z))\n",
    "print(next(z))\n",
    "print(next(z))"
   ]
  },
  {
   "cell_type": "markdown",
   "metadata": {},
   "source": [
    "`chain()` links multiple tail to head.\n",
    "\n",
    "- it is like flatten list"
   ]
  },
  {
   "cell_type": "code",
   "execution_count": 39,
   "metadata": {},
   "outputs": [
    {
     "name": "stdout",
     "output_type": "stream",
     "text": [
      "a\n",
      "b\n",
      "c\n",
      "3\n",
      "2\n",
      "1\n",
      "c\n",
      "b\n",
      "a\n"
     ]
    }
   ],
   "source": [
    "for e in it.chain('abc', [3,2,1], 'cba'):\n",
    "    print(e)"
   ]
  },
  {
   "cell_type": "markdown",
   "metadata": {},
   "source": [
    "#### Functions to select and group iterator elements\n",
    "\n",
    "`compress()` filters an iterator based on a list of selectors. Selectors can be any values that evaluate to boolean `True` or `False`."
   ]
  },
  {
   "cell_type": "code",
   "execution_count": 40,
   "metadata": {},
   "outputs": [
    {
     "name": "stdout",
     "output_type": "stream",
     "text": [
      "iterators\n",
      "rock\n"
     ]
    }
   ],
   "source": [
    "sentence = 'iterators', \"don't\", 'rock'\n",
    "selector = True, False, True\n",
    "\n",
    "# skip \"don't\" (by selector)\n",
    "\n",
    "for word in it.compress(sentence, selector):\n",
    "    print(word)"
   ]
  },
  {
   "cell_type": "markdown",
   "metadata": {},
   "source": [
    "`takewhile()` takes elements while a criterion is satisfied.\n",
    "\n",
    "- it is like while loop"
   ]
  },
  {
   "cell_type": "code",
   "execution_count": 41,
   "metadata": {},
   "outputs": [
    {
     "name": "stdout",
     "output_type": "stream",
     "text": [
      "0\n",
      "1\n",
      "2\n",
      "3\n",
      "4\n",
      "5\n",
      "6\n",
      "7\n",
      "8\n",
      "9\n"
     ]
    }
   ],
   "source": [
    "for i in it.takewhile(lambda x: x < 10, it.count()):\n",
    "    print(i)"
   ]
  },
  {
   "cell_type": "markdown",
   "metadata": {},
   "source": [
    "`dropwhile()` does the opposite: it skips elements while a criterion is satisfied.\n",
    "\n",
    "- skip while"
   ]
  },
  {
   "cell_type": "code",
   "execution_count": 42,
   "metadata": {},
   "outputs": [
    {
     "name": "stdout",
     "output_type": "stream",
     "text": [
      "5\n",
      "6\n",
      "7\n",
      "8\n",
      "9\n",
      "10\n"
     ]
    }
   ],
   "source": [
    "for i in it.dropwhile(lambda x: x < 5, it.count()):\n",
    "    if i > 10:\n",
    "        break\n",
    "    print(i)"
   ]
  },
  {
   "cell_type": "markdown",
   "metadata": {},
   "source": [
    "`groupby()` allows you to split an interator into multiple iterators based on a grouping key. Groups have to be consecutive, meaning that you generally want to sort the iterator by the grouping function."
   ]
  },
  {
   "cell_type": "code",
   "execution_count": 43,
   "metadata": {},
   "outputs": [
    {
     "name": "stdout",
     "output_type": "stream",
     "text": [
      "False [1, 3, 5, 7, 9]\n",
      "True [0, 2, 4, 6, 8]\n"
     ]
    }
   ],
   "source": [
    "is_even = lambda x: not x%2\n",
    "\n",
    "for e, g in it.groupby(\n",
    "        sorted(range(10), key=is_even),\n",
    "        key=is_even\n",
    "    ):\n",
    "    print(e, list(g))\n"
   ]
  },
  {
   "cell_type": "code",
   "execution_count": 45,
   "metadata": {},
   "outputs": [
    {
     "name": "stdout",
     "output_type": "stream",
     "text": [
      "True [0]\n",
      "False [1]\n",
      "True [2]\n",
      "False [3]\n",
      "True [4]\n",
      "False [5]\n",
      "True [6]\n",
      "False [7]\n",
      "True [8]\n",
      "False [9]\n"
     ]
    }
   ],
   "source": [
    "is_even = lambda x: not x%2\n",
    "\n",
    "for e, g in it.groupby(range(10), key=is_even):\n",
    "  print(e, list(g))"
   ]
  },
  {
   "cell_type": "markdown",
   "metadata": {},
   "source": [
    "#### Combinatorial functions\n",
    "\n",
    "`product()` returns the cartesian product of two iterators, which is roughly equal to a nested `for` loop."
   ]
  },
  {
   "cell_type": "code",
   "execution_count": 46,
   "metadata": {},
   "outputs": [
    {
     "name": "stdout",
     "output_type": "stream",
     "text": [
      "0 3\n",
      "0 4\n",
      "0 5\n",
      "1 3\n",
      "1 4\n",
      "1 5\n",
      "2 3\n",
      "2 4\n",
      "2 5\n"
     ]
    }
   ],
   "source": [
    "for x, y in it.product([0,1,2], [3,4,5]):\n",
    "    print(x, y)"
   ]
  },
  {
   "cell_type": "markdown",
   "metadata": {},
   "source": [
    "`permutations()` returns all possible different orders (permutations) of the elements in an iterator."
   ]
  },
  {
   "cell_type": "code",
   "execution_count": 47,
   "metadata": {},
   "outputs": [
    {
     "name": "stdout",
     "output_type": "stream",
     "text": [
      "[1, 2, 3]\n",
      "[1, 3, 2]\n",
      "[2, 1, 3]\n",
      "[2, 3, 1]\n",
      "[3, 1, 2]\n",
      "[3, 2, 1]\n"
     ]
    }
   ],
   "source": [
    "for i in it.permutations([1,2,3]):\n",
    "    print(list(i))"
   ]
  },
  {
   "cell_type": "markdown",
   "metadata": {},
   "source": [
    "`combinations()` returns all possible ways in which an `r` number of elements can be selected from an iterator, irrespective of the order."
   ]
  },
  {
   "cell_type": "code",
   "execution_count": 48,
   "metadata": {},
   "outputs": [
    {
     "name": "stdout",
     "output_type": "stream",
     "text": [
      "[1, 2]\n",
      "[1, 3]\n",
      "[2, 3]\n"
     ]
    }
   ],
   "source": [
    "for i in it.combinations([1,2,3], r=2):\n",
    "    print(list(i))"
   ]
  },
  {
   "cell_type": "markdown",
   "metadata": {},
   "source": [
    "# Functools"
   ]
  },
  {
   "cell_type": "markdown",
   "metadata": {},
   "source": [
    "- The `functools` module\n",
    "\n",
    "The `functools` module provides higher-level functions, many of which or often used in combination with iterators."
   ]
  },
  {
   "cell_type": "code",
   "execution_count": 49,
   "metadata": {},
   "outputs": [],
   "source": [
    "import functools as ft"
   ]
  },
  {
   "cell_type": "markdown",
   "metadata": {},
   "source": [
    "The `partial()` function binds arguments to a function, so that they function can later be called without passing this argument. \n",
    "\n",
    "This is related to the functional-programming concept *currying*, in which a single function that takes multiple arguments is turned into a chain of functions that each take on argument."
   ]
  },
  {
   "cell_type": "code",
   "execution_count": 50,
   "metadata": {},
   "outputs": [
    {
     "name": "stdout",
     "output_type": "stream",
     "text": [
      "3.0\n",
      "3.0\n"
     ]
    }
   ],
   "source": [
    "import math\n",
    "\n",
    "print(math.sqrt(9))\n",
    "sqrt_9 = ft.partial(math.sqrt, 9)\n",
    "print(sqrt_9())"
   ]
  },
  {
   "cell_type": "markdown",
   "metadata": {},
   "source": [
    "The `@lru_cache()` decorator remembers the results of a function call, and, when the function is called again with the same set of arguments, returns this result right away. This is a form of caching, and is related to the functional-programming concept *memoization*.\n",
    "\n",
    "- lru_cache = Least Recently Used (LRU) Cache "
   ]
  },
  {
   "cell_type": "code",
   "execution_count": 53,
   "metadata": {},
   "outputs": [
    {
     "name": "stdout",
     "output_type": "stream",
     "text": [
      "9973\n",
      "9973\n",
      "First took 27.48 ms\n",
      "Then took 0.00 ms\n"
     ]
    }
   ],
   "source": [
    "import itertools as it\n",
    "import time\n",
    "\n",
    "@ft.lru_cache()\n",
    "def prime_below(x):\n",
    "\n",
    "    return next(\n",
    "        it.dropwhile(\n",
    "            lambda x: any(x//i == float(x)/i for i in range(x-1, 2, -1)),\n",
    "            range(x-1, 0, -1)\n",
    "            )\n",
    "        )\n",
    "\n",
    "t0 = time.time()\n",
    "print(prime_below(10000))\n",
    "t1 = time.time()\n",
    "print(prime_below(10000))\n",
    "t2 = time.time()\n",
    "print('First took %.2f ms' % (1000.*(t1-t0)))\n",
    "print('Then took %.2f ms' % (1000.*(t2-t1)))"
   ]
  },
  {
   "cell_type": "markdown",
   "metadata": {},
   "source": [
    "The `@singledispatch` decorator allows you to create different implementations of a function, given different argument types. The type of the *first* argument is used to decide which implementation of the function should be used."
   ]
  },
  {
   "cell_type": "code",
   "execution_count": 58,
   "metadata": {},
   "outputs": [
    {
     "name": "stdout",
     "output_type": "stream",
     "text": [
      "pass register function if all argument types is string\n",
      "3\n"
     ]
    }
   ],
   "source": [
    "@ft.singledispatch\n",
    "def add(a, b):\n",
    "    return a+b\n",
    "\n",
    "@add.register(str)\n",
    "def _(a, b):\n",
    "    print('pass register function if all argument types is string')\n",
    "    return int(a)+int(b)\n",
    "\n",
    "print(add('1', '2'))"
   ]
  },
  {
   "cell_type": "code",
   "execution_count": 59,
   "metadata": {},
   "outputs": [
    {
     "name": "stdout",
     "output_type": "stream",
     "text": [
      "3\n"
     ]
    }
   ],
   "source": [
    "print(add(1, 2))"
   ]
  },
  {
   "cell_type": "markdown",
   "metadata": {},
   "source": [
    "# Example\n",
    "\n",
    "- The example is A functional, Iterator-based, interactive calculator!"
   ]
  },
  {
   "cell_type": "code",
   "execution_count": 60,
   "metadata": {},
   "outputs": [
    {
     "name": "stdout",
     "output_type": "stream",
     "text": [
      "1.000000 + 2.000000 = 3.000000\n",
      "1.000000 + 2.000000 = 3.000000\n",
      "3.000000 - 1.000000 = 2.000000\n",
      "Please enter a number or an operator\n",
      "Please enter a number or an operator\n"
     ]
    }
   ],
   "source": [
    "import functools as ft\n",
    "import itertools as it\n",
    "\n",
    "OPERATORS = '+', '-', '/', '*'\n",
    "EXIT_COMMANDS = 'exit', 'quit'\n",
    "\n",
    "\n",
    "def can_calculate(state):\n",
    "    \n",
    "    if len(state) < 3:\n",
    "        return False\n",
    "    *_, i1, op, i2 = state\n",
    "    return isinstance(i1, float) and op in OPERATORS and isinstance(i2, float)\n",
    "\n",
    "\n",
    "def calculate(state):\n",
    "    \n",
    "    *_, i1, op, i2 = state\n",
    "    if op == '+':\n",
    "        result = i1 + i2\n",
    "    elif op == '-':\n",
    "        result = i1 - i2\n",
    "    elif op == '/':\n",
    "        result = i1 / i2\n",
    "    elif op == '*':\n",
    "        result = i1 * i2\n",
    "    else:\n",
    "        raise ValueError('Invalid operator!')\n",
    "    print('%f %s %f = %f' % (i1, op, i2, result))\n",
    "    return result\n",
    "\n",
    "\n",
    "def process_input(state, update):\n",
    "    \n",
    "    state.append(update)\n",
    "    if can_calculate(state):\n",
    "        result = calculate(state)\n",
    "        state.append(result)\n",
    "    return state\n",
    "\n",
    "\n",
    "def validate_input(fnc):\n",
    "\n",
    "    def inner():\n",
    "        \n",
    "        i = fnc()\n",
    "        try:\n",
    "            i = float(i)\n",
    "        except ValueError:\n",
    "            pass\n",
    "        if isinstance(i, float) or i in OPERATORS or i in EXIT_COMMANDS:\n",
    "            return i\n",
    "        return None\n",
    "    \n",
    "    return inner\n",
    "    \n",
    "\n",
    "@validate_input\n",
    "def get_input():\n",
    "    \n",
    "    return input()\n",
    "\n",
    "\n",
    "def input_loop():\n",
    "    \n",
    "    while True:\n",
    "        i = get_input()\n",
    "        if i in EXIT_COMMANDS:\n",
    "            break\n",
    "        if i is None:\n",
    "            print('Please enter a number or an operator')\n",
    "            continue\n",
    "        yield i\n",
    "\n",
    "\n",
    "def calculator():\n",
    "    \n",
    "    ft.reduce(process_input, input_loop(), [0])\n",
    "    \n",
    "\n",
    "calculator()"
   ]
  }
 ],
 "metadata": {
  "kernelspec": {
   "display_name": "Python 3.10.5 64-bit (windows store)",
   "language": "python",
   "name": "python3"
  },
  "language_info": {
   "codemirror_mode": {
    "name": "ipython",
    "version": 3
   },
   "file_extension": ".py",
   "mimetype": "text/x-python",
   "name": "python",
   "nbconvert_exporter": "python",
   "pygments_lexer": "ipython3",
   "version": "3.10.5"
  },
  "orig_nbformat": 4,
  "vscode": {
   "interpreter": {
    "hash": "3822405be9f5fb329f7270cbdcf73e762c62b3f383c5e71390a1a4648678c1cb"
   }
  }
 },
 "nbformat": 4,
 "nbformat_minor": 2
}
