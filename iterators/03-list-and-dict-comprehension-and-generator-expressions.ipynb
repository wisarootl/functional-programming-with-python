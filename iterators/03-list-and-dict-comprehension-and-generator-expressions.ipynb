{
 "cells": [
  {
   "cell_type": "markdown",
   "metadata": {},
   "source": [
    "# List comprehensions: Basic syntax\n",
    "\n",
    "- Minimal syntax: `[expression for element in iterable]`\n",
    "- The square brackets are necessary—without it's a generator expression!\n",
    "\n",
    "Let's consider a `for` loop that prints out the square root of 0 - 4:"
   ]
  },
  {
   "cell_type": "code",
   "execution_count": 1,
   "metadata": {},
   "outputs": [
    {
     "name": "stdout",
     "output_type": "stream",
     "text": [
      "0.0\n",
      "1.0\n",
      "1.4142135623730951\n",
      "1.7320508075688772\n",
      "2.0\n"
     ]
    }
   ],
   "source": [
    "from math import sqrt\n",
    "\n",
    "for i in range(5):\n",
    "    print(sqrt(i))\n"
   ]
  },
  {
   "cell_type": "markdown",
   "metadata": {},
   "source": [
    "Now let's implement this with a `list` comprehension:"
   ]
  },
  {
   "cell_type": "code",
   "execution_count": 3,
   "metadata": {},
   "outputs": [
    {
     "name": "stdout",
     "output_type": "stream",
     "text": [
      "0.0\n",
      "1.0\n",
      "1.4142135623730951\n",
      "1.7320508075688772\n",
      "2.0\n"
     ]
    }
   ],
   "source": [
    "_ = [print(sqrt(i)) for i in range(5)]"
   ]
  },
  {
   "cell_type": "markdown",
   "metadata": {},
   "source": [
    "#### Filtering list comprehensions\n",
    "\n",
    "- Filtering syntax: `[expression for element in iterable if expression]`\n",
    "- This is an alternative (in many cases) to the `continue` statement\n",
    "\n",
    "Let's consider a `for` loop that skips all odd numbers:"
   ]
  },
  {
   "cell_type": "code",
   "execution_count": 4,
   "metadata": {},
   "outputs": [
    {
     "name": "stdout",
     "output_type": "stream",
     "text": [
      "0\n",
      "2\n",
      "4\n"
     ]
    }
   ],
   "source": [
    "for i in range(5):\n",
    "    if i%2:\n",
    "        continue\n",
    "    print(i)"
   ]
  },
  {
   "cell_type": "markdown",
   "metadata": {},
   "source": [
    "Now let's implement this with a `list` comprehension:"
   ]
  },
  {
   "cell_type": "code",
   "execution_count": 5,
   "metadata": {},
   "outputs": [
    {
     "name": "stdout",
     "output_type": "stream",
     "text": [
      "0\n",
      "2\n",
      "4\n"
     ]
    }
   ],
   "source": [
    "_ = [print(i) for i in range(5) if not i%2]"
   ]
  },
  {
   "cell_type": "markdown",
   "metadata": {},
   "source": [
    "#### Breaking list comprehensions\n",
    "\n",
    "- There is no way to `break` a list comprehension\n",
    "- Although you can do this with a generator expression, which we will meet later this section!\n",
    "\n",
    "Let's consider a `for` loop that iteratres over an infinite generator function, `fibonacci()`, until a number that is larger than 10 is encountered:"
   ]
  },
  {
   "cell_type": "code",
   "execution_count": 6,
   "metadata": {},
   "outputs": [
    {
     "name": "stdout",
     "output_type": "stream",
     "text": [
      "1\n",
      "1\n",
      "2\n",
      "3\n",
      "5\n",
      "8\n"
     ]
    }
   ],
   "source": [
    "def fibonacci():\n",
    "    \n",
    "    yield 1\n",
    "    yield 1\n",
    "    l = [1, 1]\n",
    "    while True:\n",
    "        l = [l[-1], sum(l[-2:])]\n",
    "        yield l[-1]\n",
    "\n",
    "        \n",
    "for i in fibonacci():\n",
    "    if i > 10:\n",
    "        break\n",
    "    print(i)\n"
   ]
  },
  {
   "cell_type": "markdown",
   "metadata": {},
   "source": [
    "There is no way to implement this behavior with a `list` comprehension. The following results in an infinite loop!"
   ]
  },
  {
   "cell_type": "code",
   "execution_count": 7,
   "metadata": {},
   "outputs": [
    {
     "ename": "KeyboardInterrupt",
     "evalue": "",
     "output_type": "error",
     "traceback": [
      "\u001b[1;31m---------------------------------------------------------------------------\u001b[0m",
      "\u001b[1;31mKeyboardInterrupt\u001b[0m                         Traceback (most recent call last)",
      "\u001b[1;32md:\\06 - Working\\12-functional-programming-with-python\\functional-programming-with-python\\iterators\\03-list-and-dict-comprehension-and-generator-expressions.ipynb Cell 12'\u001b[0m in \u001b[0;36m<cell line: 1>\u001b[1;34m()\u001b[0m\n\u001b[1;32m----> <a href='vscode-notebook-cell:/d%3A/06%20-%20Working/12-functional-programming-with-python/functional-programming-with-python/iterators/03-list-and-dict-comprehension-and-generator-expressions.ipynb#ch0000011?line=0'>1</a>\u001b[0m [i \u001b[39mfor\u001b[39;00m i \u001b[39min\u001b[39;00m fibonacci() \u001b[39mif\u001b[39;00m i \u001b[39m<\u001b[39m\u001b[39m=\u001b[39m \u001b[39m10\u001b[39m]\n",
      "\u001b[1;32md:\\06 - Working\\12-functional-programming-with-python\\functional-programming-with-python\\iterators\\03-list-and-dict-comprehension-and-generator-expressions.ipynb Cell 12'\u001b[0m in \u001b[0;36m<listcomp>\u001b[1;34m(.0)\u001b[0m\n\u001b[1;32m----> <a href='vscode-notebook-cell:/d%3A/06%20-%20Working/12-functional-programming-with-python/functional-programming-with-python/iterators/03-list-and-dict-comprehension-and-generator-expressions.ipynb#ch0000011?line=0'>1</a>\u001b[0m [i \u001b[39mfor\u001b[39;00m i \u001b[39min\u001b[39;00m fibonacci() \u001b[39mif\u001b[39;00m i \u001b[39m<\u001b[39m\u001b[39m=\u001b[39m \u001b[39m10\u001b[39m]\n",
      "\u001b[1;32md:\\06 - Working\\12-functional-programming-with-python\\functional-programming-with-python\\iterators\\03-list-and-dict-comprehension-and-generator-expressions.ipynb Cell 10'\u001b[0m in \u001b[0;36mfibonacci\u001b[1;34m()\u001b[0m\n\u001b[0;32m      <a href='vscode-notebook-cell:/d%3A/06%20-%20Working/12-functional-programming-with-python/functional-programming-with-python/iterators/03-list-and-dict-comprehension-and-generator-expressions.ipynb#ch0000009?line=5'>6</a>\u001b[0m \u001b[39mwhile\u001b[39;00m \u001b[39mTrue\u001b[39;00m:\n\u001b[0;32m      <a href='vscode-notebook-cell:/d%3A/06%20-%20Working/12-functional-programming-with-python/functional-programming-with-python/iterators/03-list-and-dict-comprehension-and-generator-expressions.ipynb#ch0000009?line=6'>7</a>\u001b[0m     l \u001b[39m=\u001b[39m [l[\u001b[39m-\u001b[39m\u001b[39m1\u001b[39m], \u001b[39msum\u001b[39m(l[\u001b[39m-\u001b[39m\u001b[39m2\u001b[39m:])]\n\u001b[1;32m----> <a href='vscode-notebook-cell:/d%3A/06%20-%20Working/12-functional-programming-with-python/functional-programming-with-python/iterators/03-list-and-dict-comprehension-and-generator-expressions.ipynb#ch0000009?line=7'>8</a>\u001b[0m     \u001b[39myield\u001b[39;00m l[\u001b[39m-\u001b[39m\u001b[39m1\u001b[39m]\n",
      "\u001b[1;31mKeyboardInterrupt\u001b[0m: "
     ]
    }
   ],
   "source": [
    "# we cant break list comprehension\n",
    "\n",
    "[i for i in fibonacci() if i <= 10]"
   ]
  },
  {
   "cell_type": "markdown",
   "metadata": {},
   "source": [
    "# Dict comprehensions: Basic syntax\n",
    "\n",
    "- Basic syntax: `{key: value for key, value in iterable}`\n",
    "- The curly braces are necessary!\n",
    "\n",
    "Let's first consider how you could create a `dict` that maps animal species onto their class. Ideally, we would like to Capitalize the strings!"
   ]
  },
  {
   "cell_type": "code",
   "execution_count": 14,
   "metadata": {},
   "outputs": [
    {
     "name": "stdout",
     "output_type": "stream",
     "text": [
      "{'whale': 'mammal', 'grasshopper': 'insect', 'lizard': 'reptile'}\n"
     ]
    }
   ],
   "source": [
    "SPECIES = 'whale', 'grasshopper', 'lizard'\n",
    "CLASS = 'mammal', 'insect', 'reptile'\n",
    "\n",
    "d = dict(zip(SPECIES, CLASS))\n",
    "print(d)"
   ]
  },
  {
   "cell_type": "code",
   "execution_count": 15,
   "metadata": {},
   "outputs": [
    {
     "name": "stdout",
     "output_type": "stream",
     "text": [
      "{'Whale': 'Mammal', 'Grasshopper': 'Insect', 'Lizard': 'Reptile'}\n"
     ]
    }
   ],
   "source": [
    "d = {}\n",
    "for species, class_ in zip(SPECIES, CLASS):\n",
    "    d[species.capitalize()] = class_.capitalize()\n",
    "print(d)"
   ]
  },
  {
   "cell_type": "code",
   "execution_count": 16,
   "metadata": {},
   "outputs": [
    {
     "name": "stdout",
     "output_type": "stream",
     "text": [
      "{'Whale': 'Mammal', 'Grasshopper': 'Insect', 'Lizard': 'Reptile'}\n"
     ]
    }
   ],
   "source": [
    "d = {species.capitalize(): class_.capitalize() for species, class_ in zip(SPECIES, CLASS)}\n",
    "print(d)"
   ]
  },
  {
   "cell_type": "markdown",
   "metadata": {},
   "source": [
    "#### Filtering dict comprehensions\n",
    "\n",
    "- Filtering syntax: `{key: value for key, value in iterable if expression}`\n",
    "- This is an alternative (in many cases) to the continue statement\n",
    "\n",
    "Let's say that we don't want to include insects! Without a `dict` comprehension, we might do this as follows:"
   ]
  },
  {
   "cell_type": "code",
   "execution_count": 17,
   "metadata": {},
   "outputs": [
    {
     "name": "stdout",
     "output_type": "stream",
     "text": [
      "{'Whale': 'Mammal', 'Lizard': 'Reptile'}\n"
     ]
    }
   ],
   "source": [
    "d = {}\n",
    "for species, class_ in zip(SPECIES, CLASS):\n",
    "    if class_ == 'insect':\n",
    "        continue\n",
    "    d[species.capitalize()] = class_.capitalize()\n",
    "print(d)"
   ]
  },
  {
   "cell_type": "markdown",
   "metadata": {},
   "source": [
    "With a `dict` comprehension, this becomes:"
   ]
  },
  {
   "cell_type": "code",
   "execution_count": 18,
   "metadata": {},
   "outputs": [
    {
     "name": "stdout",
     "output_type": "stream",
     "text": [
      "{'Whale': 'Mammal', 'Lizard': 'Reptile'}\n"
     ]
    }
   ],
   "source": [
    "d = {\n",
    "    species.capitalize(): class_.capitalize()\n",
    "    for species, class_ in zip(SPECIES, CLASS)\n",
    "    if class_ != 'insect'\n",
    "}\n",
    "print(d)"
   ]
  },
  {
   "cell_type": "markdown",
   "metadata": {},
   "source": [
    "# Generator expressions: Basic syntax\n",
    "\n",
    "- Basic syntax: `(expression for element in iterable)`\n",
    "- Parentheses are optional if leaving them does not result in ambiguity\n",
    "- Because they are generators, they are *lazy* and not evaluated immediately. You need actively iterate through them!"
   ]
  },
  {
   "cell_type": "code",
   "execution_count": 19,
   "metadata": {},
   "outputs": [
    {
     "name": "stdout",
     "output_type": "stream",
     "text": [
      "0.0\n",
      "1.0\n",
      "1.4142135623730951\n",
      "1.7320508075688772\n",
      "2.0\n"
     ]
    }
   ],
   "source": [
    "from math import sqrt\n",
    "\n",
    "# create generator\n",
    "g = (sqrt(i) for i in range(5))\n",
    "for i in g:\n",
    "    print(i)"
   ]
  },
  {
   "cell_type": "code",
   "execution_count": 25,
   "metadata": {},
   "outputs": [
    {
     "name": "stdout",
     "output_type": "stream",
     "text": [
      "<generator object <genexpr> at 0x000001F5601C7370>\n"
     ]
    }
   ],
   "source": [
    "# g is generator\n",
    "print(g)"
   ]
  },
  {
   "cell_type": "markdown",
   "metadata": {},
   "source": [
    "Because they are generators, you can iterate over them using `next(g)` until you get a stopiteration."
   ]
  },
  {
   "cell_type": "code",
   "execution_count": 21,
   "metadata": {},
   "outputs": [
    {
     "name": "stdout",
     "output_type": "stream",
     "text": [
      "0.0\n",
      "1.0\n",
      "1.4142135623730951\n",
      "1.7320508075688772\n",
      "2.0\n"
     ]
    },
    {
     "ename": "StopIteration",
     "evalue": "",
     "output_type": "error",
     "traceback": [
      "\u001b[1;31m---------------------------------------------------------------------------\u001b[0m",
      "\u001b[1;31mStopIteration\u001b[0m                             Traceback (most recent call last)",
      "\u001b[1;32md:\\06 - Working\\12-functional-programming-with-python\\functional-programming-with-python\\iterators\\03-list-and-dict-comprehension-and-generator-expressions.ipynb Cell 24'\u001b[0m in \u001b[0;36m<cell line: 7>\u001b[1;34m()\u001b[0m\n\u001b[0;32m      <a href='vscode-notebook-cell:/d%3A/06%20-%20Working/12-functional-programming-with-python/functional-programming-with-python/iterators/03-list-and-dict-comprehension-and-generator-expressions.ipynb#ch0000022?line=4'>5</a>\u001b[0m \u001b[39mprint\u001b[39m(\u001b[39mnext\u001b[39m(g))\n\u001b[0;32m      <a href='vscode-notebook-cell:/d%3A/06%20-%20Working/12-functional-programming-with-python/functional-programming-with-python/iterators/03-list-and-dict-comprehension-and-generator-expressions.ipynb#ch0000022?line=5'>6</a>\u001b[0m \u001b[39mprint\u001b[39m(\u001b[39mnext\u001b[39m(g))\n\u001b[1;32m----> <a href='vscode-notebook-cell:/d%3A/06%20-%20Working/12-functional-programming-with-python/functional-programming-with-python/iterators/03-list-and-dict-comprehension-and-generator-expressions.ipynb#ch0000022?line=6'>7</a>\u001b[0m \u001b[39mprint\u001b[39m(\u001b[39mnext\u001b[39;49m(g))\n",
      "\u001b[1;31mStopIteration\u001b[0m: "
     ]
    }
   ],
   "source": [
    "g = (sqrt(i) for i in range(5))\n",
    "print(next(g))\n",
    "print(next(g))\n",
    "print(next(g))\n",
    "print(next(g))\n",
    "print(next(g))\n",
    "print(next(g))"
   ]
  },
  {
   "cell_type": "markdown",
   "metadata": {},
   "source": [
    "## Filtering generator expressions\n",
    "\n",
    "- Filtering syntax: `(expression for element in iterable if expression)`\n",
    "- This is an alternative (in many cases) to the `continue` statement\n",
    "\n",
    "Let's consider a `for` loop that skips all odd numbers:"
   ]
  },
  {
   "cell_type": "code",
   "execution_count": 22,
   "metadata": {},
   "outputs": [
    {
     "name": "stdout",
     "output_type": "stream",
     "text": [
      "0\n",
      "2\n",
      "4\n",
      "6\n",
      "8\n"
     ]
    }
   ],
   "source": [
    "g = (i for i in range(10) if not i%2)\n",
    "for i in g:\n",
    "    print(i)"
   ]
  },
  {
   "cell_type": "markdown",
   "metadata": {},
   "source": [
    "#### Breaking generator expressions (deprecated)\n",
    "\n",
    "It is, in principle, possible to break a generator expression by explicitly raising a `StopIteration`. However, this behavior has been deprecated and as of Python 3.6 gives a `DeprecationWarning`."
   ]
  },
  {
   "cell_type": "code",
   "execution_count": 28,
   "metadata": {},
   "outputs": [
    {
     "name": "stdout",
     "output_type": "stream",
     "text": [
      "1\n",
      "1\n",
      "2\n",
      "3\n",
      "5\n",
      "8\n"
     ]
    },
    {
     "ename": "RuntimeError",
     "evalue": "generator raised StopIteration",
     "output_type": "error",
     "traceback": [
      "\u001b[1;31m---------------------------------------------------------------------------\u001b[0m",
      "\u001b[1;31mStopIteration\u001b[0m                             Traceback (most recent call last)",
      "\u001b[1;32md:\\06 - Working\\12-functional-programming-with-python\\functional-programming-with-python\\iterators\\03-list-and-dict-comprehension-and-generator-expressions.ipynb Cell 29'\u001b[0m in \u001b[0;36m<genexpr>\u001b[1;34m(.0)\u001b[0m\n\u001b[0;32m     <a href='vscode-notebook-cell:/d%3A/06%20-%20Working/12-functional-programming-with-python/functional-programming-with-python/iterators/03-list-and-dict-comprehension-and-generator-expressions.ipynb#ch0000030?line=11'>12</a>\u001b[0m     \u001b[39mraise\u001b[39;00m \u001b[39mStopIteration\u001b[39;00m()\n\u001b[1;32m---> <a href='vscode-notebook-cell:/d%3A/06%20-%20Working/12-functional-programming-with-python/functional-programming-with-python/iterators/03-list-and-dict-comprehension-and-generator-expressions.ipynb#ch0000030?line=14'>15</a>\u001b[0m g \u001b[39m=\u001b[39m (i \u001b[39mfor\u001b[39;00m i \u001b[39min\u001b[39;00m fibonacci() \u001b[39mif\u001b[39;00m i \u001b[39m<\u001b[39m \u001b[39m10\u001b[39m \u001b[39mor\u001b[39;00m stop())\n\u001b[0;32m     <a href='vscode-notebook-cell:/d%3A/06%20-%20Working/12-functional-programming-with-python/functional-programming-with-python/iterators/03-list-and-dict-comprehension-and-generator-expressions.ipynb#ch0000030?line=15'>16</a>\u001b[0m \u001b[39mfor\u001b[39;00m i \u001b[39min\u001b[39;00m g:\n",
      "\u001b[1;32md:\\06 - Working\\12-functional-programming-with-python\\functional-programming-with-python\\iterators\\03-list-and-dict-comprehension-and-generator-expressions.ipynb Cell 29'\u001b[0m in \u001b[0;36mstop\u001b[1;34m()\u001b[0m\n\u001b[0;32m     <a href='vscode-notebook-cell:/d%3A/06%20-%20Working/12-functional-programming-with-python/functional-programming-with-python/iterators/03-list-and-dict-comprehension-and-generator-expressions.ipynb#ch0000030?line=10'>11</a>\u001b[0m \u001b[39mdef\u001b[39;00m \u001b[39mstop\u001b[39m():\n\u001b[1;32m---> <a href='vscode-notebook-cell:/d%3A/06%20-%20Working/12-functional-programming-with-python/functional-programming-with-python/iterators/03-list-and-dict-comprehension-and-generator-expressions.ipynb#ch0000030?line=11'>12</a>\u001b[0m     \u001b[39mraise\u001b[39;00m \u001b[39mStopIteration\u001b[39;00m()\n",
      "\u001b[1;31mStopIteration\u001b[0m: ",
      "\nThe above exception was the direct cause of the following exception:\n",
      "\u001b[1;31mRuntimeError\u001b[0m                              Traceback (most recent call last)",
      "\u001b[1;32md:\\06 - Working\\12-functional-programming-with-python\\functional-programming-with-python\\iterators\\03-list-and-dict-comprehension-and-generator-expressions.ipynb Cell 29'\u001b[0m in \u001b[0;36m<cell line: 16>\u001b[1;34m()\u001b[0m\n\u001b[0;32m     <a href='vscode-notebook-cell:/d%3A/06%20-%20Working/12-functional-programming-with-python/functional-programming-with-python/iterators/03-list-and-dict-comprehension-and-generator-expressions.ipynb#ch0000030?line=11'>12</a>\u001b[0m     \u001b[39mraise\u001b[39;00m \u001b[39mStopIteration\u001b[39;00m()\n\u001b[0;32m     <a href='vscode-notebook-cell:/d%3A/06%20-%20Working/12-functional-programming-with-python/functional-programming-with-python/iterators/03-list-and-dict-comprehension-and-generator-expressions.ipynb#ch0000030?line=14'>15</a>\u001b[0m g \u001b[39m=\u001b[39m (i \u001b[39mfor\u001b[39;00m i \u001b[39min\u001b[39;00m fibonacci() \u001b[39mif\u001b[39;00m i \u001b[39m<\u001b[39m \u001b[39m10\u001b[39m \u001b[39mor\u001b[39;00m stop())\n\u001b[1;32m---> <a href='vscode-notebook-cell:/d%3A/06%20-%20Working/12-functional-programming-with-python/functional-programming-with-python/iterators/03-list-and-dict-comprehension-and-generator-expressions.ipynb#ch0000030?line=15'>16</a>\u001b[0m \u001b[39mfor\u001b[39;00m i \u001b[39min\u001b[39;00m g:\n\u001b[0;32m     <a href='vscode-notebook-cell:/d%3A/06%20-%20Working/12-functional-programming-with-python/functional-programming-with-python/iterators/03-list-and-dict-comprehension-and-generator-expressions.ipynb#ch0000030?line=16'>17</a>\u001b[0m     \u001b[39mprint\u001b[39m(i)\n",
      "\u001b[1;31mRuntimeError\u001b[0m: generator raised StopIteration"
     ]
    }
   ],
   "source": [
    "def fibonacci():\n",
    "    \n",
    "    yield 1\n",
    "    yield 1\n",
    "    l = [1, 1]\n",
    "    while True:\n",
    "        l = [l[-1], sum(l[-2:])]\n",
    "        yield l[-1]\n",
    "\n",
    "        \n",
    "def stop():\n",
    "    raise StopIteration()\n",
    "    \n",
    "    \n",
    "g = (i for i in fibonacci() if i < 10 or stop())\n",
    "for i in g:\n",
    "    print(i)\n",
    "\n",
    "# avoid stopiteration error by implement wrap()"
   ]
  },
  {
   "cell_type": "markdown",
   "metadata": {},
   "source": [
    "Usually, you can avoid this construction by rewriting code. And if you *really want*, you can emulate by passing a custom `Exception` and catching this in a custom `wrap()` function."
   ]
  },
  {
   "cell_type": "code",
   "execution_count": 36,
   "metadata": {},
   "outputs": [
    {
     "name": "stdout",
     "output_type": "stream",
     "text": [
      "1\n",
      "1\n",
      "2\n",
      "3\n",
      "5\n",
      "8\n"
     ]
    }
   ],
   "source": [
    "class EndGenerator(Exception): pass\n",
    "\n",
    "def stop():\n",
    "    raise EndGenerator()\n",
    "    \n",
    "def wrap(g):\n",
    "    \n",
    "    l = []\n",
    "    while True:\n",
    "        try:\n",
    "            l.append(next(g))\n",
    "        except EndGenerator:\n",
    "            break\n",
    "    return l\n",
    "    \n",
    "    \n",
    "g = wrap(i for i in fibonacci() if i < 10 or stop())\n",
    "for i in g:\n",
    "    print(i)\n"
   ]
  },
  {
   "cell_type": "markdown",
   "metadata": {},
   "source": [
    "# Nested comprehensions\n",
    "\n",
    "- Basic syntax: `[expression for element1 in iterable1 for element2 in iterable2]`\n",
    "\n",
    "Let's say that you want to define a 2×2 grid of x,y coordinates. With a nested `for` loop, you could this as follows:"
   ]
  },
  {
   "cell_type": "code",
   "execution_count": 38,
   "metadata": {},
   "outputs": [
    {
     "name": "stdout",
     "output_type": "stream",
     "text": [
      "[(0, 0), (0, 1), (1, 0), (1, 1)]\n"
     ]
    }
   ],
   "source": [
    "grid = []\n",
    "for x in range(2):\n",
    "    for y in range(2):\n",
    "        grid.append((x,y))\n",
    "print(grid)"
   ]
  },
  {
   "cell_type": "markdown",
   "metadata": {},
   "source": [
    "With a nested list comprehension, this becomes:"
   ]
  },
  {
   "cell_type": "code",
   "execution_count": 39,
   "metadata": {},
   "outputs": [
    {
     "name": "stdout",
     "output_type": "stream",
     "text": [
      "x\n",
      "y\n",
      "y\n",
      "x\n",
      "y\n",
      "y\n",
      "[(1, 1), (1, 2), (2, 1), (2, 2)]\n"
     ]
    }
   ],
   "source": [
    "def g(s):\n",
    "    print(s)\n",
    "    yield 1\n",
    "    print(s)\n",
    "    yield 2\n",
    "\n",
    "grid = [ (x, y) for x in g('x') for y in g('y') ]\n",
    "print(grid)"
   ]
  },
  {
   "cell_type": "code",
   "execution_count": 40,
   "metadata": {},
   "outputs": [
    {
     "name": "stdout",
     "output_type": "stream",
     "text": [
      "[(0, 0), (0, 1), (1, 0), (1, 1)]\n"
     ]
    }
   ],
   "source": [
    "grid = [ (x, y) for x in range(2) for y in range(2) ]\n",
    "print(grid)"
   ]
  }
 ],
 "metadata": {
  "kernelspec": {
   "display_name": "Python 3.10.5 64-bit (windows store)",
   "language": "python",
   "name": "python3"
  },
  "language_info": {
   "codemirror_mode": {
    "name": "ipython",
    "version": 3
   },
   "file_extension": ".py",
   "mimetype": "text/x-python",
   "name": "python",
   "nbconvert_exporter": "python",
   "pygments_lexer": "ipython3",
   "version": "3.10.5"
  },
  "orig_nbformat": 4,
  "vscode": {
   "interpreter": {
    "hash": "3822405be9f5fb329f7270cbdcf73e762c62b3f383c5e71390a1a4648678c1cb"
   }
  }
 },
 "nbformat": 4,
 "nbformat_minor": 2
}
